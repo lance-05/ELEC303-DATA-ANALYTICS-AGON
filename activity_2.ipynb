{
 "cells": [
  {
   "cell_type": "markdown",
   "id": "b400b020-2da1-4483-8433-a12561025cc5",
   "metadata": {},
   "source": [
    "<h3>importing numpy and pandas</h3>"
   ]
  },
  {
   "cell_type": "code",
   "execution_count": 1,
   "id": "372a8093-2973-435f-b038-615915dcb2aa",
   "metadata": {},
   "outputs": [],
   "source": [
    "import pandas as pd\n",
    "import numpy as np\n",
    "import folium\n",
    "import matplotlib.pyplot as plt\n",
    "from folium.plugins import HeatMap"
   ]
  },
  {
   "cell_type": "markdown",
   "id": "1b56f741-44f3-4a03-8a84-13625e8b8fa9",
   "metadata": {},
   "source": [
    "<h3>importing csv file</h3>"
   ]
  },
  {
   "cell_type": "code",
   "execution_count": 2,
   "id": "85bfd1a3-c097-4998-92aa-d7ea94e5e7b3",
   "metadata": {},
   "outputs": [],
   "source": [
    "case = pd.read_csv('uk_road_accident.csv')"
   ]
  },
  {
   "cell_type": "code",
   "execution_count": 3,
   "id": "e205f2e5-4b44-4ce7-bc87-4fada907afd4",
   "metadata": {},
   "outputs": [
    {
     "data": {
      "text/html": [
       "<div>\n",
       "<style scoped>\n",
       "    .dataframe tbody tr th:only-of-type {\n",
       "        vertical-align: middle;\n",
       "    }\n",
       "\n",
       "    .dataframe tbody tr th {\n",
       "        vertical-align: top;\n",
       "    }\n",
       "\n",
       "    .dataframe thead th {\n",
       "        text-align: right;\n",
       "    }\n",
       "</style>\n",
       "<table border=\"1\" class=\"dataframe\">\n",
       "  <thead>\n",
       "    <tr style=\"text-align: right;\">\n",
       "      <th></th>\n",
       "      <th>Index</th>\n",
       "      <th>Accident_Severity</th>\n",
       "      <th>Accident Date</th>\n",
       "      <th>Latitude</th>\n",
       "      <th>Light_Conditions</th>\n",
       "      <th>District Area</th>\n",
       "      <th>Longitude</th>\n",
       "      <th>Number_of_Casualties</th>\n",
       "      <th>Number_of_Vehicles</th>\n",
       "      <th>Road_Surface_Conditions</th>\n",
       "      <th>Road_Type</th>\n",
       "      <th>Urban_or_Rural_Area</th>\n",
       "      <th>Weather_Conditions</th>\n",
       "      <th>Vehicle_Type</th>\n",
       "    </tr>\n",
       "  </thead>\n",
       "  <tbody>\n",
       "    <tr>\n",
       "      <th>0</th>\n",
       "      <td>200701BS64157</td>\n",
       "      <td>Serious</td>\n",
       "      <td>5/6/2019</td>\n",
       "      <td>51.506187</td>\n",
       "      <td>Darkness - lights lit</td>\n",
       "      <td>Kensington and Chelsea</td>\n",
       "      <td>-0.209082</td>\n",
       "      <td>1</td>\n",
       "      <td>2</td>\n",
       "      <td>Dry</td>\n",
       "      <td>Single carriageway</td>\n",
       "      <td>Urban</td>\n",
       "      <td>Fine no high winds</td>\n",
       "      <td>Car</td>\n",
       "    </tr>\n",
       "    <tr>\n",
       "      <th>1</th>\n",
       "      <td>200701BS65737</td>\n",
       "      <td>Serious</td>\n",
       "      <td>2/7/2019</td>\n",
       "      <td>51.495029</td>\n",
       "      <td>Daylight</td>\n",
       "      <td>Kensington and Chelsea</td>\n",
       "      <td>-0.173647</td>\n",
       "      <td>1</td>\n",
       "      <td>2</td>\n",
       "      <td>Wet or damp</td>\n",
       "      <td>Single carriageway</td>\n",
       "      <td>Urban</td>\n",
       "      <td>Raining no high winds</td>\n",
       "      <td>Car</td>\n",
       "    </tr>\n",
       "    <tr>\n",
       "      <th>2</th>\n",
       "      <td>200701BS66127</td>\n",
       "      <td>Serious</td>\n",
       "      <td>26-08-2019</td>\n",
       "      <td>51.517715</td>\n",
       "      <td>Darkness - lighting unknown</td>\n",
       "      <td>Kensington and Chelsea</td>\n",
       "      <td>-0.210215</td>\n",
       "      <td>1</td>\n",
       "      <td>3</td>\n",
       "      <td>Dry</td>\n",
       "      <td>NaN</td>\n",
       "      <td>Urban</td>\n",
       "      <td>NaN</td>\n",
       "      <td>Taxi/Private hire car</td>\n",
       "    </tr>\n",
       "    <tr>\n",
       "      <th>3</th>\n",
       "      <td>200701BS66128</td>\n",
       "      <td>Serious</td>\n",
       "      <td>16-08-2019</td>\n",
       "      <td>51.495478</td>\n",
       "      <td>Daylight</td>\n",
       "      <td>Kensington and Chelsea</td>\n",
       "      <td>-0.202731</td>\n",
       "      <td>1</td>\n",
       "      <td>4</td>\n",
       "      <td>Dry</td>\n",
       "      <td>Single carriageway</td>\n",
       "      <td>Urban</td>\n",
       "      <td>Fine no high winds</td>\n",
       "      <td>Bus or coach (17 or more pass seats)</td>\n",
       "    </tr>\n",
       "    <tr>\n",
       "      <th>4</th>\n",
       "      <td>200701BS66837</td>\n",
       "      <td>Slight</td>\n",
       "      <td>3/9/2019</td>\n",
       "      <td>51.488576</td>\n",
       "      <td>Darkness - lights lit</td>\n",
       "      <td>Kensington and Chelsea</td>\n",
       "      <td>-0.192487</td>\n",
       "      <td>1</td>\n",
       "      <td>2</td>\n",
       "      <td>Dry</td>\n",
       "      <td>NaN</td>\n",
       "      <td>Urban</td>\n",
       "      <td>NaN</td>\n",
       "      <td>Other vehicle</td>\n",
       "    </tr>\n",
       "    <tr>\n",
       "      <th>...</th>\n",
       "      <td>...</td>\n",
       "      <td>...</td>\n",
       "      <td>...</td>\n",
       "      <td>...</td>\n",
       "      <td>...</td>\n",
       "      <td>...</td>\n",
       "      <td>...</td>\n",
       "      <td>...</td>\n",
       "      <td>...</td>\n",
       "      <td>...</td>\n",
       "      <td>...</td>\n",
       "      <td>...</td>\n",
       "      <td>...</td>\n",
       "      <td>...</td>\n",
       "    </tr>\n",
       "    <tr>\n",
       "      <th>660674</th>\n",
       "      <td>201091NM01760</td>\n",
       "      <td>Slight</td>\n",
       "      <td>18-02-2022</td>\n",
       "      <td>57.374005</td>\n",
       "      <td>Daylight</td>\n",
       "      <td>Highland</td>\n",
       "      <td>-3.467828</td>\n",
       "      <td>2</td>\n",
       "      <td>1</td>\n",
       "      <td>Dry</td>\n",
       "      <td>Single carriageway</td>\n",
       "      <td>Rural</td>\n",
       "      <td>Fine no high winds</td>\n",
       "      <td>Car</td>\n",
       "    </tr>\n",
       "    <tr>\n",
       "      <th>660675</th>\n",
       "      <td>201091NM01881</td>\n",
       "      <td>Slight</td>\n",
       "      <td>21-02-2022</td>\n",
       "      <td>57.232273</td>\n",
       "      <td>Darkness - no lighting</td>\n",
       "      <td>Highland</td>\n",
       "      <td>-3.809281</td>\n",
       "      <td>1</td>\n",
       "      <td>1</td>\n",
       "      <td>Frost or ice</td>\n",
       "      <td>Single carriageway</td>\n",
       "      <td>Rural</td>\n",
       "      <td>Fine no high winds</td>\n",
       "      <td>Car</td>\n",
       "    </tr>\n",
       "    <tr>\n",
       "      <th>660676</th>\n",
       "      <td>201091NM01935</td>\n",
       "      <td>Slight</td>\n",
       "      <td>23-02-2022</td>\n",
       "      <td>57.585044</td>\n",
       "      <td>Daylight</td>\n",
       "      <td>Highland</td>\n",
       "      <td>-3.862727</td>\n",
       "      <td>1</td>\n",
       "      <td>3</td>\n",
       "      <td>Frost or ice</td>\n",
       "      <td>Single carriageway</td>\n",
       "      <td>Rural</td>\n",
       "      <td>Fine no high winds</td>\n",
       "      <td>Car</td>\n",
       "    </tr>\n",
       "    <tr>\n",
       "      <th>660677</th>\n",
       "      <td>201091NM01964</td>\n",
       "      <td>Serious</td>\n",
       "      <td>23-02-2022</td>\n",
       "      <td>57.214898</td>\n",
       "      <td>Darkness - no lighting</td>\n",
       "      <td>Highland</td>\n",
       "      <td>-3.823997</td>\n",
       "      <td>1</td>\n",
       "      <td>2</td>\n",
       "      <td>Wet or damp</td>\n",
       "      <td>Single carriageway</td>\n",
       "      <td>Rural</td>\n",
       "      <td>Fine no high winds</td>\n",
       "      <td>Motorcycle over 500cc</td>\n",
       "    </tr>\n",
       "    <tr>\n",
       "      <th>660678</th>\n",
       "      <td>201091NM02142</td>\n",
       "      <td>Serious</td>\n",
       "      <td>28-02-2022</td>\n",
       "      <td>57.575210</td>\n",
       "      <td>Daylight</td>\n",
       "      <td>Highland</td>\n",
       "      <td>-3.895673</td>\n",
       "      <td>1</td>\n",
       "      <td>1</td>\n",
       "      <td>Wet or damp</td>\n",
       "      <td>Dual carriageway</td>\n",
       "      <td>Rural</td>\n",
       "      <td>Snowing no high winds</td>\n",
       "      <td>Car</td>\n",
       "    </tr>\n",
       "  </tbody>\n",
       "</table>\n",
       "<p>660679 rows × 14 columns</p>\n",
       "</div>"
      ],
      "text/plain": [
       "                Index Accident_Severity Accident Date   Latitude  \\\n",
       "0       200701BS64157           Serious      5/6/2019  51.506187   \n",
       "1       200701BS65737           Serious      2/7/2019  51.495029   \n",
       "2       200701BS66127           Serious    26-08-2019  51.517715   \n",
       "3       200701BS66128           Serious    16-08-2019  51.495478   \n",
       "4       200701BS66837            Slight      3/9/2019  51.488576   \n",
       "...               ...               ...           ...        ...   \n",
       "660674  201091NM01760            Slight    18-02-2022  57.374005   \n",
       "660675  201091NM01881            Slight    21-02-2022  57.232273   \n",
       "660676  201091NM01935            Slight    23-02-2022  57.585044   \n",
       "660677  201091NM01964           Serious    23-02-2022  57.214898   \n",
       "660678  201091NM02142           Serious    28-02-2022  57.575210   \n",
       "\n",
       "                   Light_Conditions           District Area  Longitude  \\\n",
       "0             Darkness - lights lit  Kensington and Chelsea  -0.209082   \n",
       "1                          Daylight  Kensington and Chelsea  -0.173647   \n",
       "2       Darkness - lighting unknown  Kensington and Chelsea  -0.210215   \n",
       "3                          Daylight  Kensington and Chelsea  -0.202731   \n",
       "4             Darkness - lights lit  Kensington and Chelsea  -0.192487   \n",
       "...                             ...                     ...        ...   \n",
       "660674                     Daylight                Highland  -3.467828   \n",
       "660675       Darkness - no lighting                Highland  -3.809281   \n",
       "660676                     Daylight                Highland  -3.862727   \n",
       "660677       Darkness - no lighting                Highland  -3.823997   \n",
       "660678                     Daylight                Highland  -3.895673   \n",
       "\n",
       "        Number_of_Casualties  Number_of_Vehicles Road_Surface_Conditions  \\\n",
       "0                          1                   2                     Dry   \n",
       "1                          1                   2             Wet or damp   \n",
       "2                          1                   3                     Dry   \n",
       "3                          1                   4                     Dry   \n",
       "4                          1                   2                     Dry   \n",
       "...                      ...                 ...                     ...   \n",
       "660674                     2                   1                     Dry   \n",
       "660675                     1                   1            Frost or ice   \n",
       "660676                     1                   3            Frost or ice   \n",
       "660677                     1                   2             Wet or damp   \n",
       "660678                     1                   1             Wet or damp   \n",
       "\n",
       "                 Road_Type Urban_or_Rural_Area     Weather_Conditions  \\\n",
       "0       Single carriageway               Urban     Fine no high winds   \n",
       "1       Single carriageway               Urban  Raining no high winds   \n",
       "2                      NaN               Urban                    NaN   \n",
       "3       Single carriageway               Urban     Fine no high winds   \n",
       "4                      NaN               Urban                    NaN   \n",
       "...                    ...                 ...                    ...   \n",
       "660674  Single carriageway               Rural     Fine no high winds   \n",
       "660675  Single carriageway               Rural     Fine no high winds   \n",
       "660676  Single carriageway               Rural     Fine no high winds   \n",
       "660677  Single carriageway               Rural     Fine no high winds   \n",
       "660678    Dual carriageway               Rural  Snowing no high winds   \n",
       "\n",
       "                                Vehicle_Type  \n",
       "0                                        Car  \n",
       "1                                        Car  \n",
       "2                      Taxi/Private hire car  \n",
       "3       Bus or coach (17 or more pass seats)  \n",
       "4                              Other vehicle  \n",
       "...                                      ...  \n",
       "660674                                   Car  \n",
       "660675                                   Car  \n",
       "660676                                   Car  \n",
       "660677                 Motorcycle over 500cc  \n",
       "660678                                   Car  \n",
       "\n",
       "[660679 rows x 14 columns]"
      ]
     },
     "execution_count": 3,
     "metadata": {},
     "output_type": "execute_result"
    }
   ],
   "source": [
    "case"
   ]
  },
  {
   "cell_type": "code",
   "execution_count": 4,
   "id": "c792dd12-095d-417e-a92d-857eac3abb3f",
   "metadata": {},
   "outputs": [
    {
     "data": {
      "text/html": [
       "<div>\n",
       "<style scoped>\n",
       "    .dataframe tbody tr th:only-of-type {\n",
       "        vertical-align: middle;\n",
       "    }\n",
       "\n",
       "    .dataframe tbody tr th {\n",
       "        vertical-align: top;\n",
       "    }\n",
       "\n",
       "    .dataframe thead th {\n",
       "        text-align: right;\n",
       "    }\n",
       "</style>\n",
       "<table border=\"1\" class=\"dataframe\">\n",
       "  <thead>\n",
       "    <tr style=\"text-align: right;\">\n",
       "      <th></th>\n",
       "      <th>Latitude</th>\n",
       "      <th>Longitude</th>\n",
       "      <th>Number_of_Casualties</th>\n",
       "      <th>Number_of_Vehicles</th>\n",
       "    </tr>\n",
       "  </thead>\n",
       "  <tbody>\n",
       "    <tr>\n",
       "      <th>count</th>\n",
       "      <td>660654.000000</td>\n",
       "      <td>660653.000000</td>\n",
       "      <td>660679.000000</td>\n",
       "      <td>660679.000000</td>\n",
       "    </tr>\n",
       "    <tr>\n",
       "      <th>mean</th>\n",
       "      <td>52.553866</td>\n",
       "      <td>-1.431210</td>\n",
       "      <td>1.357040</td>\n",
       "      <td>1.831255</td>\n",
       "    </tr>\n",
       "    <tr>\n",
       "      <th>std</th>\n",
       "      <td>1.406922</td>\n",
       "      <td>1.383330</td>\n",
       "      <td>0.824847</td>\n",
       "      <td>0.715269</td>\n",
       "    </tr>\n",
       "    <tr>\n",
       "      <th>min</th>\n",
       "      <td>49.914430</td>\n",
       "      <td>-7.516225</td>\n",
       "      <td>1.000000</td>\n",
       "      <td>1.000000</td>\n",
       "    </tr>\n",
       "    <tr>\n",
       "      <th>25%</th>\n",
       "      <td>51.490690</td>\n",
       "      <td>-2.332291</td>\n",
       "      <td>1.000000</td>\n",
       "      <td>1.000000</td>\n",
       "    </tr>\n",
       "    <tr>\n",
       "      <th>50%</th>\n",
       "      <td>52.315641</td>\n",
       "      <td>-1.411667</td>\n",
       "      <td>1.000000</td>\n",
       "      <td>2.000000</td>\n",
       "    </tr>\n",
       "    <tr>\n",
       "      <th>75%</th>\n",
       "      <td>53.453452</td>\n",
       "      <td>-0.232869</td>\n",
       "      <td>1.000000</td>\n",
       "      <td>2.000000</td>\n",
       "    </tr>\n",
       "    <tr>\n",
       "      <th>max</th>\n",
       "      <td>60.757544</td>\n",
       "      <td>1.762010</td>\n",
       "      <td>68.000000</td>\n",
       "      <td>32.000000</td>\n",
       "    </tr>\n",
       "  </tbody>\n",
       "</table>\n",
       "</div>"
      ],
      "text/plain": [
       "            Latitude      Longitude  Number_of_Casualties  Number_of_Vehicles\n",
       "count  660654.000000  660653.000000         660679.000000       660679.000000\n",
       "mean       52.553866      -1.431210              1.357040            1.831255\n",
       "std         1.406922       1.383330              0.824847            0.715269\n",
       "min        49.914430      -7.516225              1.000000            1.000000\n",
       "25%        51.490690      -2.332291              1.000000            1.000000\n",
       "50%        52.315641      -1.411667              1.000000            2.000000\n",
       "75%        53.453452      -0.232869              1.000000            2.000000\n",
       "max        60.757544       1.762010             68.000000           32.000000"
      ]
     },
     "execution_count": 4,
     "metadata": {},
     "output_type": "execute_result"
    }
   ],
   "source": [
    "case.describe()"
   ]
  },
  {
   "cell_type": "code",
   "execution_count": 5,
   "id": "370c82ea-c8f2-4c39-9387-cc1bc91ca044",
   "metadata": {},
   "outputs": [
    {
     "name": "stdout",
     "output_type": "stream",
     "text": [
      "<class 'pandas.core.frame.DataFrame'>\n",
      "RangeIndex: 660679 entries, 0 to 660678\n",
      "Data columns (total 14 columns):\n",
      " #   Column                   Non-Null Count   Dtype  \n",
      "---  ------                   --------------   -----  \n",
      " 0   Index                    660679 non-null  object \n",
      " 1   Accident_Severity        660679 non-null  object \n",
      " 2   Accident Date            660679 non-null  object \n",
      " 3   Latitude                 660654 non-null  float64\n",
      " 4   Light_Conditions         660679 non-null  object \n",
      " 5   District Area            660679 non-null  object \n",
      " 6   Longitude                660653 non-null  float64\n",
      " 7   Number_of_Casualties     660679 non-null  int64  \n",
      " 8   Number_of_Vehicles       660679 non-null  int64  \n",
      " 9   Road_Surface_Conditions  659953 non-null  object \n",
      " 10  Road_Type                656159 non-null  object \n",
      " 11  Urban_or_Rural_Area      660664 non-null  object \n",
      " 12  Weather_Conditions       646551 non-null  object \n",
      " 13  Vehicle_Type             660679 non-null  object \n",
      "dtypes: float64(2), int64(2), object(10)\n",
      "memory usage: 70.6+ MB\n"
     ]
    }
   ],
   "source": [
    "case.info()"
   ]
  },
  {
   "cell_type": "markdown",
   "id": "f5679ec5-2fe4-432d-9d1f-394c2b90ce7a",
   "metadata": {},
   "source": [
    "<h3>cleaning the null values</h3>"
   ]
  },
  {
   "cell_type": "code",
   "execution_count": 6,
   "id": "a846570e-db6b-491a-b4b1-d58d014ef243",
   "metadata": {},
   "outputs": [
    {
     "data": {
      "text/plain": [
       "Index                          0\n",
       "Accident_Severity              0\n",
       "Accident Date                  0\n",
       "Latitude                      25\n",
       "Light_Conditions               0\n",
       "District Area                  0\n",
       "Longitude                     26\n",
       "Number_of_Casualties           0\n",
       "Number_of_Vehicles             0\n",
       "Road_Surface_Conditions      726\n",
       "Road_Type                   4520\n",
       "Urban_or_Rural_Area           15\n",
       "Weather_Conditions         14128\n",
       "Vehicle_Type                   0\n",
       "dtype: int64"
      ]
     },
     "execution_count": 6,
     "metadata": {},
     "output_type": "execute_result"
    }
   ],
   "source": [
    "case.isnull().sum()"
   ]
  },
  {
   "cell_type": "code",
   "execution_count": 7,
   "id": "df9901f7-2384-4dca-9668-fdba39917112",
   "metadata": {},
   "outputs": [],
   "source": [
    "case['Latitude'] = case['Latitude'].fillna(case['Latitude'].mode()[0])"
   ]
  },
  {
   "cell_type": "code",
   "execution_count": 8,
   "id": "eadd560a-a3d0-4c1e-b3ba-06048d2b9c14",
   "metadata": {},
   "outputs": [],
   "source": [
    "case['Longitude'] = case['Longitude'].fillna(case['Longitude'].mode()[0])"
   ]
  },
  {
   "cell_type": "code",
   "execution_count": 9,
   "id": "42cccf41-587a-4d72-9696-6e2353481389",
   "metadata": {},
   "outputs": [],
   "source": [
    "case['Road_Surface_Conditions'] = case['Road_Surface_Conditions'].fillna('unaccounted')"
   ]
  },
  {
   "cell_type": "code",
   "execution_count": 10,
   "id": "c49c953a-9367-49bd-8bd1-e0b76a6ebf65",
   "metadata": {},
   "outputs": [],
   "source": [
    "case['Road_Type'] = case['Road_Type'].fillna('unaccounted')"
   ]
  },
  {
   "cell_type": "code",
   "execution_count": 11,
   "id": "e02e0cb1-43c6-4f64-b218-7d695fac4f08",
   "metadata": {},
   "outputs": [],
   "source": [
    "case['Urban_or_Rural_Area'] = case['Urban_or_Rural_Area'].fillna(case['Urban_or_Rural_Area'].mode()[0])"
   ]
  },
  {
   "cell_type": "code",
   "execution_count": 12,
   "id": "f5a79d55-6a13-41a6-97cc-64afed697e30",
   "metadata": {},
   "outputs": [],
   "source": [
    "case['Weather_Conditions'] = case['Weather_Conditions'].fillna('unaccounted')"
   ]
  },
  {
   "cell_type": "code",
   "execution_count": 13,
   "id": "1705b51a-8b30-4037-8cbb-281612997ad0",
   "metadata": {},
   "outputs": [],
   "source": [
    "case['Accident Date'] = case['Accident Date'].str.strip()\n",
    "case['Accident Date'] = case['Accident Date'].astype('str')\n",
    "case['Accident Date'] = case['Accident Date'].str.replace('/', '-')"
   ]
  },
  {
   "cell_type": "markdown",
   "id": "4aeef781-6ee9-4c0f-b13a-95d4e2a1bb6d",
   "metadata": {},
   "source": [
    "<h3>Adjusting date to datetime</h3>"
   ]
  },
  {
   "cell_type": "code",
   "execution_count": 14,
   "id": "a1efaf78-3738-4da3-8a9d-bd13a446a9b7",
   "metadata": {},
   "outputs": [],
   "source": [
    "case['Accident Date'] = pd.to_datetime(case['Accident Date'], dayfirst = True, errors = 'coerce')"
   ]
  },
  {
   "cell_type": "markdown",
   "id": "debb1261-8ab4-48de-bee5-e5fc9a290813",
   "metadata": {},
   "source": [
    "<h3>Adding columns for Year, Month, Day and Day of Week</h3>"
   ]
  },
  {
   "cell_type": "code",
   "execution_count": 15,
   "id": "84008c4b-dd0c-4d71-a408-2d366bfb2994",
   "metadata": {},
   "outputs": [],
   "source": [
    "case['Year'] = case['Accident Date'].dt.year\n",
    "case['Month'] = case['Accident Date'].dt.month\n",
    "case['Day'] = case['Accident Date'].dt.day\n",
    "case['DayOfWeek'] = case['Accident Date'].dt.dayofweek"
   ]
  },
  {
   "cell_type": "code",
   "execution_count": 16,
   "id": "0b2b2da6-d1f7-4438-886d-4ecc99ff3b0f",
   "metadata": {},
   "outputs": [
    {
     "data": {
      "text/plain": [
       "Index                      0\n",
       "Accident_Severity          0\n",
       "Accident Date              0\n",
       "Latitude                   0\n",
       "Light_Conditions           0\n",
       "District Area              0\n",
       "Longitude                  0\n",
       "Number_of_Casualties       0\n",
       "Number_of_Vehicles         0\n",
       "Road_Surface_Conditions    0\n",
       "Road_Type                  0\n",
       "Urban_or_Rural_Area        0\n",
       "Weather_Conditions         0\n",
       "Vehicle_Type               0\n",
       "Year                       0\n",
       "Month                      0\n",
       "Day                        0\n",
       "DayOfWeek                  0\n",
       "dtype: int64"
      ]
     },
     "execution_count": 16,
     "metadata": {},
     "output_type": "execute_result"
    }
   ],
   "source": [
    "case.isnull().sum()"
   ]
  },
  {
   "cell_type": "code",
   "execution_count": 17,
   "id": "be4d34c2-f36d-451e-91c6-431c81d34532",
   "metadata": {},
   "outputs": [
    {
     "data": {
      "text/html": [
       "<div>\n",
       "<style scoped>\n",
       "    .dataframe tbody tr th:only-of-type {\n",
       "        vertical-align: middle;\n",
       "    }\n",
       "\n",
       "    .dataframe tbody tr th {\n",
       "        vertical-align: top;\n",
       "    }\n",
       "\n",
       "    .dataframe thead th {\n",
       "        text-align: right;\n",
       "    }\n",
       "</style>\n",
       "<table border=\"1\" class=\"dataframe\">\n",
       "  <thead>\n",
       "    <tr style=\"text-align: right;\">\n",
       "      <th></th>\n",
       "      <th>Index</th>\n",
       "      <th>Accident_Severity</th>\n",
       "      <th>Accident Date</th>\n",
       "      <th>Latitude</th>\n",
       "      <th>Light_Conditions</th>\n",
       "      <th>District Area</th>\n",
       "      <th>Longitude</th>\n",
       "      <th>Number_of_Casualties</th>\n",
       "      <th>Number_of_Vehicles</th>\n",
       "      <th>Road_Surface_Conditions</th>\n",
       "      <th>Road_Type</th>\n",
       "      <th>Urban_or_Rural_Area</th>\n",
       "      <th>Weather_Conditions</th>\n",
       "      <th>Vehicle_Type</th>\n",
       "      <th>Year</th>\n",
       "      <th>Month</th>\n",
       "      <th>Day</th>\n",
       "      <th>DayOfWeek</th>\n",
       "    </tr>\n",
       "  </thead>\n",
       "  <tbody>\n",
       "    <tr>\n",
       "      <th>0</th>\n",
       "      <td>200701BS64157</td>\n",
       "      <td>Serious</td>\n",
       "      <td>2019-06-05</td>\n",
       "      <td>51.506187</td>\n",
       "      <td>Darkness - lights lit</td>\n",
       "      <td>Kensington and Chelsea</td>\n",
       "      <td>-0.209082</td>\n",
       "      <td>1</td>\n",
       "      <td>2</td>\n",
       "      <td>Dry</td>\n",
       "      <td>Single carriageway</td>\n",
       "      <td>Urban</td>\n",
       "      <td>Fine no high winds</td>\n",
       "      <td>Car</td>\n",
       "      <td>2019</td>\n",
       "      <td>6</td>\n",
       "      <td>5</td>\n",
       "      <td>2</td>\n",
       "    </tr>\n",
       "    <tr>\n",
       "      <th>1</th>\n",
       "      <td>200701BS65737</td>\n",
       "      <td>Serious</td>\n",
       "      <td>2019-07-02</td>\n",
       "      <td>51.495029</td>\n",
       "      <td>Daylight</td>\n",
       "      <td>Kensington and Chelsea</td>\n",
       "      <td>-0.173647</td>\n",
       "      <td>1</td>\n",
       "      <td>2</td>\n",
       "      <td>Wet or damp</td>\n",
       "      <td>Single carriageway</td>\n",
       "      <td>Urban</td>\n",
       "      <td>Raining no high winds</td>\n",
       "      <td>Car</td>\n",
       "      <td>2019</td>\n",
       "      <td>7</td>\n",
       "      <td>2</td>\n",
       "      <td>1</td>\n",
       "    </tr>\n",
       "    <tr>\n",
       "      <th>2</th>\n",
       "      <td>200701BS66127</td>\n",
       "      <td>Serious</td>\n",
       "      <td>2019-08-26</td>\n",
       "      <td>51.517715</td>\n",
       "      <td>Darkness - lighting unknown</td>\n",
       "      <td>Kensington and Chelsea</td>\n",
       "      <td>-0.210215</td>\n",
       "      <td>1</td>\n",
       "      <td>3</td>\n",
       "      <td>Dry</td>\n",
       "      <td>unaccounted</td>\n",
       "      <td>Urban</td>\n",
       "      <td>unaccounted</td>\n",
       "      <td>Taxi/Private hire car</td>\n",
       "      <td>2019</td>\n",
       "      <td>8</td>\n",
       "      <td>26</td>\n",
       "      <td>0</td>\n",
       "    </tr>\n",
       "    <tr>\n",
       "      <th>3</th>\n",
       "      <td>200701BS66128</td>\n",
       "      <td>Serious</td>\n",
       "      <td>2019-08-16</td>\n",
       "      <td>51.495478</td>\n",
       "      <td>Daylight</td>\n",
       "      <td>Kensington and Chelsea</td>\n",
       "      <td>-0.202731</td>\n",
       "      <td>1</td>\n",
       "      <td>4</td>\n",
       "      <td>Dry</td>\n",
       "      <td>Single carriageway</td>\n",
       "      <td>Urban</td>\n",
       "      <td>Fine no high winds</td>\n",
       "      <td>Bus or coach (17 or more pass seats)</td>\n",
       "      <td>2019</td>\n",
       "      <td>8</td>\n",
       "      <td>16</td>\n",
       "      <td>4</td>\n",
       "    </tr>\n",
       "    <tr>\n",
       "      <th>4</th>\n",
       "      <td>200701BS66837</td>\n",
       "      <td>Slight</td>\n",
       "      <td>2019-09-03</td>\n",
       "      <td>51.488576</td>\n",
       "      <td>Darkness - lights lit</td>\n",
       "      <td>Kensington and Chelsea</td>\n",
       "      <td>-0.192487</td>\n",
       "      <td>1</td>\n",
       "      <td>2</td>\n",
       "      <td>Dry</td>\n",
       "      <td>unaccounted</td>\n",
       "      <td>Urban</td>\n",
       "      <td>unaccounted</td>\n",
       "      <td>Other vehicle</td>\n",
       "      <td>2019</td>\n",
       "      <td>9</td>\n",
       "      <td>3</td>\n",
       "      <td>1</td>\n",
       "    </tr>\n",
       "    <tr>\n",
       "      <th>...</th>\n",
       "      <td>...</td>\n",
       "      <td>...</td>\n",
       "      <td>...</td>\n",
       "      <td>...</td>\n",
       "      <td>...</td>\n",
       "      <td>...</td>\n",
       "      <td>...</td>\n",
       "      <td>...</td>\n",
       "      <td>...</td>\n",
       "      <td>...</td>\n",
       "      <td>...</td>\n",
       "      <td>...</td>\n",
       "      <td>...</td>\n",
       "      <td>...</td>\n",
       "      <td>...</td>\n",
       "      <td>...</td>\n",
       "      <td>...</td>\n",
       "      <td>...</td>\n",
       "    </tr>\n",
       "    <tr>\n",
       "      <th>660674</th>\n",
       "      <td>201091NM01760</td>\n",
       "      <td>Slight</td>\n",
       "      <td>2022-02-18</td>\n",
       "      <td>57.374005</td>\n",
       "      <td>Daylight</td>\n",
       "      <td>Highland</td>\n",
       "      <td>-3.467828</td>\n",
       "      <td>2</td>\n",
       "      <td>1</td>\n",
       "      <td>Dry</td>\n",
       "      <td>Single carriageway</td>\n",
       "      <td>Rural</td>\n",
       "      <td>Fine no high winds</td>\n",
       "      <td>Car</td>\n",
       "      <td>2022</td>\n",
       "      <td>2</td>\n",
       "      <td>18</td>\n",
       "      <td>4</td>\n",
       "    </tr>\n",
       "    <tr>\n",
       "      <th>660675</th>\n",
       "      <td>201091NM01881</td>\n",
       "      <td>Slight</td>\n",
       "      <td>2022-02-21</td>\n",
       "      <td>57.232273</td>\n",
       "      <td>Darkness - no lighting</td>\n",
       "      <td>Highland</td>\n",
       "      <td>-3.809281</td>\n",
       "      <td>1</td>\n",
       "      <td>1</td>\n",
       "      <td>Frost or ice</td>\n",
       "      <td>Single carriageway</td>\n",
       "      <td>Rural</td>\n",
       "      <td>Fine no high winds</td>\n",
       "      <td>Car</td>\n",
       "      <td>2022</td>\n",
       "      <td>2</td>\n",
       "      <td>21</td>\n",
       "      <td>0</td>\n",
       "    </tr>\n",
       "    <tr>\n",
       "      <th>660676</th>\n",
       "      <td>201091NM01935</td>\n",
       "      <td>Slight</td>\n",
       "      <td>2022-02-23</td>\n",
       "      <td>57.585044</td>\n",
       "      <td>Daylight</td>\n",
       "      <td>Highland</td>\n",
       "      <td>-3.862727</td>\n",
       "      <td>1</td>\n",
       "      <td>3</td>\n",
       "      <td>Frost or ice</td>\n",
       "      <td>Single carriageway</td>\n",
       "      <td>Rural</td>\n",
       "      <td>Fine no high winds</td>\n",
       "      <td>Car</td>\n",
       "      <td>2022</td>\n",
       "      <td>2</td>\n",
       "      <td>23</td>\n",
       "      <td>2</td>\n",
       "    </tr>\n",
       "    <tr>\n",
       "      <th>660677</th>\n",
       "      <td>201091NM01964</td>\n",
       "      <td>Serious</td>\n",
       "      <td>2022-02-23</td>\n",
       "      <td>57.214898</td>\n",
       "      <td>Darkness - no lighting</td>\n",
       "      <td>Highland</td>\n",
       "      <td>-3.823997</td>\n",
       "      <td>1</td>\n",
       "      <td>2</td>\n",
       "      <td>Wet or damp</td>\n",
       "      <td>Single carriageway</td>\n",
       "      <td>Rural</td>\n",
       "      <td>Fine no high winds</td>\n",
       "      <td>Motorcycle over 500cc</td>\n",
       "      <td>2022</td>\n",
       "      <td>2</td>\n",
       "      <td>23</td>\n",
       "      <td>2</td>\n",
       "    </tr>\n",
       "    <tr>\n",
       "      <th>660678</th>\n",
       "      <td>201091NM02142</td>\n",
       "      <td>Serious</td>\n",
       "      <td>2022-02-28</td>\n",
       "      <td>57.575210</td>\n",
       "      <td>Daylight</td>\n",
       "      <td>Highland</td>\n",
       "      <td>-3.895673</td>\n",
       "      <td>1</td>\n",
       "      <td>1</td>\n",
       "      <td>Wet or damp</td>\n",
       "      <td>Dual carriageway</td>\n",
       "      <td>Rural</td>\n",
       "      <td>Snowing no high winds</td>\n",
       "      <td>Car</td>\n",
       "      <td>2022</td>\n",
       "      <td>2</td>\n",
       "      <td>28</td>\n",
       "      <td>0</td>\n",
       "    </tr>\n",
       "  </tbody>\n",
       "</table>\n",
       "<p>660679 rows × 18 columns</p>\n",
       "</div>"
      ],
      "text/plain": [
       "                Index Accident_Severity Accident Date   Latitude  \\\n",
       "0       200701BS64157           Serious    2019-06-05  51.506187   \n",
       "1       200701BS65737           Serious    2019-07-02  51.495029   \n",
       "2       200701BS66127           Serious    2019-08-26  51.517715   \n",
       "3       200701BS66128           Serious    2019-08-16  51.495478   \n",
       "4       200701BS66837            Slight    2019-09-03  51.488576   \n",
       "...               ...               ...           ...        ...   \n",
       "660674  201091NM01760            Slight    2022-02-18  57.374005   \n",
       "660675  201091NM01881            Slight    2022-02-21  57.232273   \n",
       "660676  201091NM01935            Slight    2022-02-23  57.585044   \n",
       "660677  201091NM01964           Serious    2022-02-23  57.214898   \n",
       "660678  201091NM02142           Serious    2022-02-28  57.575210   \n",
       "\n",
       "                   Light_Conditions           District Area  Longitude  \\\n",
       "0             Darkness - lights lit  Kensington and Chelsea  -0.209082   \n",
       "1                          Daylight  Kensington and Chelsea  -0.173647   \n",
       "2       Darkness - lighting unknown  Kensington and Chelsea  -0.210215   \n",
       "3                          Daylight  Kensington and Chelsea  -0.202731   \n",
       "4             Darkness - lights lit  Kensington and Chelsea  -0.192487   \n",
       "...                             ...                     ...        ...   \n",
       "660674                     Daylight                Highland  -3.467828   \n",
       "660675       Darkness - no lighting                Highland  -3.809281   \n",
       "660676                     Daylight                Highland  -3.862727   \n",
       "660677       Darkness - no lighting                Highland  -3.823997   \n",
       "660678                     Daylight                Highland  -3.895673   \n",
       "\n",
       "        Number_of_Casualties  Number_of_Vehicles Road_Surface_Conditions  \\\n",
       "0                          1                   2                     Dry   \n",
       "1                          1                   2             Wet or damp   \n",
       "2                          1                   3                     Dry   \n",
       "3                          1                   4                     Dry   \n",
       "4                          1                   2                     Dry   \n",
       "...                      ...                 ...                     ...   \n",
       "660674                     2                   1                     Dry   \n",
       "660675                     1                   1            Frost or ice   \n",
       "660676                     1                   3            Frost or ice   \n",
       "660677                     1                   2             Wet or damp   \n",
       "660678                     1                   1             Wet or damp   \n",
       "\n",
       "                 Road_Type Urban_or_Rural_Area     Weather_Conditions  \\\n",
       "0       Single carriageway               Urban     Fine no high winds   \n",
       "1       Single carriageway               Urban  Raining no high winds   \n",
       "2              unaccounted               Urban            unaccounted   \n",
       "3       Single carriageway               Urban     Fine no high winds   \n",
       "4              unaccounted               Urban            unaccounted   \n",
       "...                    ...                 ...                    ...   \n",
       "660674  Single carriageway               Rural     Fine no high winds   \n",
       "660675  Single carriageway               Rural     Fine no high winds   \n",
       "660676  Single carriageway               Rural     Fine no high winds   \n",
       "660677  Single carriageway               Rural     Fine no high winds   \n",
       "660678    Dual carriageway               Rural  Snowing no high winds   \n",
       "\n",
       "                                Vehicle_Type  Year  Month  Day  DayOfWeek  \n",
       "0                                        Car  2019      6    5          2  \n",
       "1                                        Car  2019      7    2          1  \n",
       "2                      Taxi/Private hire car  2019      8   26          0  \n",
       "3       Bus or coach (17 or more pass seats)  2019      8   16          4  \n",
       "4                              Other vehicle  2019      9    3          1  \n",
       "...                                      ...   ...    ...  ...        ...  \n",
       "660674                                   Car  2022      2   18          4  \n",
       "660675                                   Car  2022      2   21          0  \n",
       "660676                                   Car  2022      2   23          2  \n",
       "660677                 Motorcycle over 500cc  2022      2   23          2  \n",
       "660678                                   Car  2022      2   28          0  \n",
       "\n",
       "[660679 rows x 18 columns]"
      ]
     },
     "execution_count": 17,
     "metadata": {},
     "output_type": "execute_result"
    }
   ],
   "source": [
    "case"
   ]
  },
  {
   "cell_type": "markdown",
   "id": "502068c4-28a8-4aaa-a0d1-72a878ac50d8",
   "metadata": {},
   "source": [
    "<h2>EDA</h2>"
   ]
  },
  {
   "cell_type": "markdown",
   "id": "ee07fa58-576d-47fa-829e-99d3a0e60549",
   "metadata": {},
   "source": [
    "<H3>1.How does accident severity vary by vehicle type?</H3>"
   ]
  },
  {
   "cell_type": "code",
   "execution_count": 18,
   "id": "ce4cedbb-1374-4ebc-aa75-b377f377ccea",
   "metadata": {},
   "outputs": [
    {
     "data": {
      "text/plain": [
       "Vehicle_Type                           Accident_Severity\n",
       "Agricultural vehicle                   Fatal                    21\n",
       "                                       Serious                 282\n",
       "                                       Slight                 1644\n",
       "Bus or coach (17 or more pass seats)   Fatal                   325\n",
       "                                       Serious                3373\n",
       "                                       Slight                22180\n",
       "Car                                    Fatal                  6577\n",
       "                                       Serious               66461\n",
       "                                       Slight               424954\n",
       "Data missing or out of range           Slight                    6\n",
       "Goods 7.5 tonnes mgw and over          Fatal                   216\n",
       "                                       Serious                2321\n",
       "                                       Slight                14770\n",
       "Goods over 3.5t. and under 7.5t        Fatal                    67\n",
       "                                       Serious                 857\n",
       "                                       Slight                 5172\n",
       "Minibus (8 - 16 passenger seats)       Fatal                    29\n",
       "                                       Serious                 276\n",
       "                                       Slight                 1671\n",
       "Motorcycle 125cc and under             Fatal                   189\n",
       "                                       Serious                2031\n",
       "                                       Slight                13049\n",
       "Motorcycle 50cc and under              Fatal                    95\n",
       "                                       Serious                1014\n",
       "                                       Slight                 6494\n",
       "Motorcycle over 125cc and up to 500cc  Fatal                   105\n",
       "                                       Serious                1014\n",
       "                                       Slight                 6537\n",
       "Motorcycle over 500cc                  Fatal                   339\n",
       "                                       Serious                3457\n",
       "                                       Slight                21861\n",
       "Other vehicle                          Fatal                    70\n",
       "                                       Serious                 767\n",
       "                                       Slight                 4800\n",
       "Pedal cycle                            Fatal                     6\n",
       "                                       Serious                  39\n",
       "                                       Slight                  152\n",
       "Ridden horse                           Slight                    4\n",
       "Taxi/Private hire car                  Fatal                   155\n",
       "                                       Serious                1771\n",
       "                                       Slight                11368\n",
       "Van / Goods 3.5 tonnes mgw or under    Fatal                   467\n",
       "                                       Serious                4554\n",
       "                                       Slight                29139\n",
       "dtype: int64"
      ]
     },
     "execution_count": 18,
     "metadata": {},
     "output_type": "execute_result"
    }
   ],
   "source": [
    "severity_by_vehicle = case.groupby(['Vehicle_Type', 'Accident_Severity']).size()\n",
    "severity_by_vehicle"
   ]
  },
  {
   "cell_type": "markdown",
   "id": "da72b6db-9faa-40a2-807a-221ff3c257d8",
   "metadata": {},
   "source": [
    "<h3>Insight 1</h3>\n",
    "<h3>Cars are most often involved in fatal accidents. Heavy vehicles and large motorcycles also appear often.</h3>\n",
    "<hr>\n",
    "<br>"
   ]
  },
  {
   "cell_type": "markdown",
   "id": "7e348b39-b4d3-4145-8409-eed8b49c6180",
   "metadata": {},
   "source": [
    "<H3>2.Are car accidents in Urban more likely to cause injuries than in the Rural?</H3>"
   ]
  },
  {
   "cell_type": "code",
   "execution_count": 19,
   "id": "a0484de0-6398-468e-9a84-d5a9b95944fd",
   "metadata": {},
   "outputs": [
    {
     "data": {
      "text/plain": [
       "Urban_or_Rural_Area\n",
       "Rural          181922\n",
       "Unallocated         8\n",
       "Urban          316062\n",
       "Name: Number_of_Casualties, dtype: int64"
      ]
     },
     "execution_count": 19,
     "metadata": {},
     "output_type": "execute_result"
    }
   ],
   "source": [
    "car_df = case[case['Vehicle_Type'] == 'Car']\n",
    "urban_rural = car_df.groupby('Urban_or_Rural_Area')['Number_of_Casualties'].size()\n",
    "urban_rural"
   ]
  },
  {
   "cell_type": "markdown",
   "id": "a8f10df4-cfd5-4736-ac91-c9c08f608fe8",
   "metadata": {},
   "source": [
    "<h3>Insight 2</h3>\n",
    "<h3>This suggests that urban areas have a significantly higher number of car accident casualties compared to rural areas.</h3>\n",
    "<hr>\n",
    "<br>"
   ]
  },
  {
   "cell_type": "markdown",
   "id": "0bcb4c47-3786-45e8-9a44-6339a52602b9",
   "metadata": {},
   "source": [
    "<H3>3.In what district area has the highest car fatal accidents?</H3>"
   ]
  },
  {
   "cell_type": "code",
   "execution_count": 20,
   "id": "e969449b-334a-4c82-bbb1-f9be3cdae950",
   "metadata": {},
   "outputs": [
    {
     "data": {
      "text/plain": [
       "('Birmingham', np.int64(77))"
      ]
     },
     "execution_count": 20,
     "metadata": {},
     "output_type": "execute_result"
    }
   ],
   "source": [
    "car_area_severity = car_df[car_df['Accident_Severity'] == 'Fatal']['District Area']\n",
    "fatal_counts = car_area_severity.value_counts()\n",
    "\n",
    "area_highest_fatal = fatal_counts.idxmax()\n",
    "fatal_count = fatal_counts.max()\n",
    "\n",
    "area_highest_fatal, fatal_count"
   ]
  },
  {
   "cell_type": "markdown",
   "id": "bbb00b17-c3c6-40db-b018-70c4299d7b9b",
   "metadata": {},
   "source": [
    "<h3>Insight 3</h3>\n",
    "<h3>The district with the highest number of fatal accidents is Birmingham with 77 fatal accidents.\n",
    "</h3>\n",
    "<hr>\n",
    "<br>"
   ]
  },
  {
   "cell_type": "markdown",
   "id": "894d821a-5bec-455e-8d43-b3eed2f98237",
   "metadata": {},
   "source": [
    "<H3>4.Is there a correlation between Number of Casualties and Number of Vehicles ?</H3>"
   ]
  },
  {
   "cell_type": "code",
   "execution_count": 21,
   "id": "8b797878-04f3-427b-a820-0f5311398bb6",
   "metadata": {},
   "outputs": [
    {
     "data": {
      "text/plain": [
       "np.float64(0.2288888612692756)"
      ]
     },
     "execution_count": 21,
     "metadata": {},
     "output_type": "execute_result"
    }
   ],
   "source": [
    "casualties_vehicles_corr = case['Number_of_Casualties'].corr(case['Number_of_Vehicles'])\n",
    "casualties_vehicles_corr"
   ]
  },
  {
   "cell_type": "markdown",
   "id": "b98e9783-5eb8-4224-8e6e-c665c7c75797",
   "metadata": {},
   "source": [
    "<h3>Insight 4</h3>\n",
    "<h3>Having 0.228, we can say that there are no correlation between Number of Casualties to Number of Vehicles.</h3>\n",
    "<hr>\n",
    "<br>"
   ]
  },
  {
   "cell_type": "markdown",
   "id": "999b260d-9cf1-4969-ae2e-06a9c14795c1",
   "metadata": {},
   "source": [
    "<H3>5.How many car accidents by light condition?</H3>"
   ]
  },
  {
   "cell_type": "code",
   "execution_count": 22,
   "id": "7d5045b4-effc-4353-9d9a-283964ac9db9",
   "metadata": {},
   "outputs": [
    {
     "data": {
      "text/plain": [
       "Light_Conditions\n",
       "Darkness - lighting unknown      4914\n",
       "Darkness - lights lit           96994\n",
       "Darkness - lights unlit          1933\n",
       "Darkness - no lighting          28385\n",
       "Daylight                       365766\n",
       "Name: Accident_Severity, dtype: int64"
      ]
     },
     "execution_count": 22,
     "metadata": {},
     "output_type": "execute_result"
    }
   ],
   "source": [
    "car_light = car_df.groupby('Light_Conditions')['Accident_Severity'].count()\n",
    "car_light"
   ]
  },
  {
   "cell_type": "markdown",
   "id": "93ccee63-f314-48f0-b4b2-e0e39961054d",
   "metadata": {},
   "source": [
    "<h3>Insight 5</h3>\n",
    "<h3>Most car accidents happen in daylight, but a large number also occur at night with street lights.</h3>\n",
    "<hr>\n",
    "<br>"
   ]
  },
  {
   "cell_type": "markdown",
   "id": "1095df6b-da2c-4eaa-b78b-a6e4679d7489",
   "metadata": {},
   "source": [
    "<H3>6.Where are car accidents most common by road surface condition?</H3>"
   ]
  },
  {
   "cell_type": "code",
   "execution_count": 23,
   "id": "fca1537b-493a-4f4f-8819-b27e44bf045c",
   "metadata": {},
   "outputs": [
    {
     "data": {
      "text/plain": [
       "Road_Surface_Conditions\n",
       "Dry                     337311\n",
       "Flood over 3cm. deep       777\n",
       "Frost or ice             14108\n",
       "Snow                      4483\n",
       "Wet or damp             140764\n",
       "unaccounted                549\n",
       "Name: Accident_Severity, dtype: int64"
      ]
     },
     "execution_count": 23,
     "metadata": {},
     "output_type": "execute_result"
    }
   ],
   "source": [
    "car_surface = car_df.groupby('Road_Surface_Conditions')['Accident_Severity'].count()\n",
    "car_surface"
   ]
  },
  {
   "cell_type": "markdown",
   "id": "89b9d689-cfd5-45fd-b5c9-c2925d12a095",
   "metadata": {},
   "source": [
    "<h3>Insight 6</h3>\n",
    "<h3>Most accidents happen on dry roads. This may be because dry roads are used more often, not because they are less safe.</h3>\n",
    "<hr>\n",
    "<br>"
   ]
  },
  {
   "cell_type": "markdown",
   "id": "dea2f5c3-7747-4312-a221-23ed3a2734a8",
   "metadata": {},
   "source": [
    "<H3>7.What is the common accident severity across all vehicles?</H3>"
   ]
  },
  {
   "cell_type": "code",
   "execution_count": 24,
   "id": "565d39f3-0630-4934-9e51-6c83ec629e91",
   "metadata": {},
   "outputs": [
    {
     "data": {
      "text/plain": [
       "Accident_Severity\n",
       "Slight     563801\n",
       "Serious     88217\n",
       "Fatal        8661\n",
       "Name: count, dtype: int64"
      ]
     },
     "execution_count": 24,
     "metadata": {},
     "output_type": "execute_result"
    }
   ],
   "source": [
    "severity_all = case['Accident_Severity'].value_counts()\n",
    "severity_all"
   ]
  },
  {
   "cell_type": "markdown",
   "id": "7fcf44b5-5527-4ca4-ba28-9e639126bd98",
   "metadata": {},
   "source": [
    "<h3>Insight 7</h3>\n",
    "<h3>Most accidents for all vehicles are slight. Fatal accidents are rare.</h3>\n",
    "<hr>\n",
    "<br>"
   ]
  },
  {
   "cell_type": "markdown",
   "id": "9385a485-7398-4d9f-8b91-1b18c16dba5a",
   "metadata": {},
   "source": [
    "<H3>8.Which vehicle types have the most casualties per fatal accident (on average)?</H3>"
   ]
  },
  {
   "cell_type": "code",
   "execution_count": 25,
   "id": "601dc82c-5740-49e0-a858-55da9b3bfd55",
   "metadata": {},
   "outputs": [
    {
     "data": {
      "text/plain": [
       "Vehicle_Type\n",
       "Agricultural vehicle                     1.76\n",
       "Bus or coach (17 or more pass seats)     2.10\n",
       "Car                                      1.89\n",
       "Goods 7.5 tonnes mgw and over            1.88\n",
       "Goods over 3.5t. and under 7.5t          2.16\n",
       "Minibus (8 - 16 passenger seats)         2.52\n",
       "Motorcycle 125cc and under               1.77\n",
       "Motorcycle 50cc and under                1.73\n",
       "Motorcycle over 125cc and up to 500cc    1.81\n",
       "Motorcycle over 500cc                    1.79\n",
       "Other vehicle                            1.66\n",
       "Pedal cycle                              1.67\n",
       "Taxi/Private hire car                    1.99\n",
       "Van / Goods 3.5 tonnes mgw or under      2.07\n",
       "Name: Number_of_Casualties, dtype: float64"
      ]
     },
     "execution_count": 25,
     "metadata": {},
     "output_type": "execute_result"
    }
   ],
   "source": [
    "fatal_df = case[case['Accident_Severity'] == 'Fatal']\n",
    "fatal_casualties = fatal_df.groupby('Vehicle_Type')['Number_of_Casualties'].mean().round(2)\n",
    "fatal_casualties"
   ]
  },
  {
   "cell_type": "markdown",
   "id": "2b3d3492-bd78-462a-869b-ca6291d531d6",
   "metadata": {},
   "source": [
    "<h3>Insight 8</h3>\n",
    "<h3>Buses and minibuses usually have more casualties per fatal crash because they carry more passengers.</h3>\n",
    "<hr>\n",
    "<br>"
   ]
  },
  {
   "cell_type": "markdown",
   "id": "6a2f4b69-fe5d-4287-8c52-9619630032e9",
   "metadata": {},
   "source": [
    "<H3>9.Which weather conditions have the most fatal accidents?</H3>"
   ]
  },
  {
   "cell_type": "code",
   "execution_count": 26,
   "id": "e402f6e4-6bf3-407f-81ec-46cb7b81773c",
   "metadata": {},
   "outputs": [
    {
     "data": {
      "text/plain": [
       "Weather_Conditions\n",
       "Fine no high winds       7100\n",
       "Raining no high winds     848\n",
       "Fine + high winds         175\n",
       "Other                     165\n",
       "Raining + high winds      145\n",
       "unaccounted               107\n",
       "Fog or mist                82\n",
       "Snowing no high winds      36\n",
       "Snowing + high winds        3\n",
       "Name: count, dtype: int64"
      ]
     },
     "execution_count": 26,
     "metadata": {},
     "output_type": "execute_result"
    }
   ],
   "source": [
    "fatal_weather = fatal_df['Weather_Conditions'].value_counts()\n",
    "fatal_weather"
   ]
  },
  {
   "cell_type": "markdown",
   "id": "e8a7c8cd-d9c3-4760-b3b7-5507c186ad2d",
   "metadata": {
    "jp-MarkdownHeadingCollapsed": true
   },
   "source": [
    "<h3>Insight 9</h3>\n",
    "<h3>Most fatal accidents happen in clear weather.</h3>\n",
    "<hr>\n",
    "<br>"
   ]
  },
  {
   "cell_type": "markdown",
   "id": "321d786f-e07c-4482-be48-b23c1dd2a2ce",
   "metadata": {},
   "source": [
    "<h3>importing f_oneway from scipy library</h3>"
   ]
  },
  {
   "cell_type": "code",
   "execution_count": 27,
   "id": "9e19f137-d081-45f7-bf74-8159761ade47",
   "metadata": {},
   "outputs": [],
   "source": [
    "from scipy.stats import f_oneway"
   ]
  },
  {
   "cell_type": "markdown",
   "id": "629a70a2-cc5c-47cf-8357-9eb97baefd31",
   "metadata": {},
   "source": [
    "<H3>10.Is there a correlation between Number of Casualties and Road Type?</H3>"
   ]
  },
  {
   "cell_type": "code",
   "execution_count": 28,
   "id": "6cd3e76e-be64-4b79-8372-3856e492debc",
   "metadata": {},
   "outputs": [
    {
     "data": {
      "text/plain": [
       "array(['Single carriageway', 'unaccounted', 'Dual carriageway',\n",
       "       'One way street', 'Roundabout', 'Slip road'], dtype=object)"
      ]
     },
     "execution_count": 28,
     "metadata": {},
     "output_type": "execute_result"
    }
   ],
   "source": [
    "case['Road_Type'].unique()"
   ]
  },
  {
   "cell_type": "code",
   "execution_count": 29,
   "id": "0c44e25b-5a13-42ca-aa63-72c79f9ad021",
   "metadata": {},
   "outputs": [],
   "source": [
    "single_type = case[case['Road_Type'] == 'Single carriageway']['Number_of_Casualties']\n",
    "dual_type = case[case['Road_Type'] == 'Dual carriageway']['Number_of_Casualties']\n",
    "oneway_type = case[case['Road_Type'] == 'One way street']['Number_of_Casualties']\n",
    "round_type = case[case['Road_Type'] == 'Roundabout']['Number_of_Casualties']\n",
    "slip_type = case[case['Road_Type'] == 'Slip road']['Number_of_Casualties']"
   ]
  },
  {
   "cell_type": "code",
   "execution_count": 30,
   "id": "6e6cd0a9-181f-4cf7-98cc-6501326cf960",
   "metadata": {},
   "outputs": [
    {
     "data": {
      "text/plain": [
       "np.float64(0.0)"
      ]
     },
     "execution_count": 30,
     "metadata": {},
     "output_type": "execute_result"
    }
   ],
   "source": [
    "res, corr_casualties_roadT = f_oneway(single_type,dual_type,oneway_type,round_type,slip_type)\n",
    "corr_casualties_roadT"
   ]
  },
  {
   "cell_type": "markdown",
   "id": "372db5b3-624a-45d5-bc95-c242ca0a7320",
   "metadata": {},
   "source": [
    "<h3>Insight 10</h3>\n",
    "<h3>Having the 0.0 in the pvalue, we can say that there are no correlation between Number of Casualties and Road Types.</h3>\n",
    "<hr>\n",
    "<br>"
   ]
  },
  {
   "cell_type": "markdown",
   "id": "81523297-7a6e-496e-8e88-18d82e3c5f9f",
   "metadata": {},
   "source": [
    "<H3>11.Is there a correlation between Road Surface Conditions and Number of Casualties in Serious Accidents?</H3>"
   ]
  },
  {
   "cell_type": "code",
   "execution_count": 31,
   "id": "80cbb20d-21f6-43e4-9436-a54c26294890",
   "metadata": {},
   "outputs": [
    {
     "data": {
      "text/plain": [
       "np.float64(1.6220067365548889e-80)"
      ]
     },
     "execution_count": 31,
     "metadata": {},
     "output_type": "execute_result"
    }
   ],
   "source": [
    "serious_df = case[case['Accident_Severity'] == 'Serious']\n",
    "\n",
    "serious_dry = serious_df[serious_df['Road_Surface_Conditions'] == 'Dry']['Number_of_Casualties']\n",
    "serious_wet = serious_df[serious_df['Road_Surface_Conditions'] == 'Wet or damp']['Number_of_Casualties']\n",
    "serious_ice = serious_df[serious_df['Road_Surface_Conditions'] == 'Frost or ice']['Number_of_Casualties']\n",
    "serious_snow = serious_df[serious_df['Road_Surface_Conditions'] == 'Snow']['Number_of_Casualties']\n",
    "\n",
    "res, surface_casualties = f_oneway(serious_dry, serious_wet, serious_ice, serious_snow)\n",
    "surface_casualties"
   ]
  },
  {
   "cell_type": "markdown",
   "id": "f4a0be12-24c0-4f9c-b48c-fc181a1315d0",
   "metadata": {},
   "source": [
    "<h3>Insight 11</h3>\n",
    "<h3>Data shows pvalue is equal to 1.62, which means there are correlations between road surface conditions and Number of casualties in Serious accidents.</h3>\n",
    "<hr>\n",
    "<br>"
   ]
  },
  {
   "cell_type": "markdown",
   "id": "a527752a-73f3-4667-b882-f272af438a76",
   "metadata": {},
   "source": [
    "<H3>12.Which weather conditions have the most Motorcycle over 500cc accidents?</H3>"
   ]
  },
  {
   "cell_type": "code",
   "execution_count": 32,
   "id": "4d2c1db2-2d23-40e9-9910-f9193a1c48cf",
   "metadata": {},
   "outputs": [
    {
     "data": {
      "text/plain": [
       "Weather_Conditions\n",
       "Fine no high winds       20245\n",
       "Raining no high winds     3135\n",
       "Other                      655\n",
       "unaccounted                548\n",
       "Raining + high winds       354\n",
       "Fine + high winds          315\n",
       "Snowing no high winds      254\n",
       "Fog or mist                118\n",
       "Snowing + high winds        33\n",
       "Name: count, dtype: int64"
      ]
     },
     "execution_count": 32,
     "metadata": {},
     "output_type": "execute_result"
    }
   ],
   "source": [
    "motorcycle500_df = case[case['Vehicle_Type'] == 'Motorcycle over 500cc']\n",
    "moto_by_weather = motorcycle500_df['Weather_Conditions'].value_counts()\n",
    "moto_by_weather"
   ]
  },
  {
   "cell_type": "markdown",
   "id": "2d6c1589-03ae-425e-85d7-4537b099bafa",
   "metadata": {},
   "source": [
    "<h3>Insight 12</h3>\n",
    "<h3>Most motorcycle over 500cc accidents happen in clear weather, not bad weather.</h3>\n",
    "<hr>\n",
    "<br>"
   ]
  },
  {
   "cell_type": "markdown",
   "id": "47d8a09d-3eb5-4408-80a2-1014a25e6649",
   "metadata": {},
   "source": [
    "<H3>13.Is there a correlation between the number of vehicles and the number of casualties in Pedal cycle accidents?</H3>"
   ]
  },
  {
   "cell_type": "code",
   "execution_count": 33,
   "id": "09a8ecc5-b825-4ab6-af06-457ceadf7603",
   "metadata": {},
   "outputs": [
    {
     "data": {
      "text/plain": [
       "np.float64(0.2648831726875072)"
      ]
     },
     "execution_count": 33,
     "metadata": {},
     "output_type": "execute_result"
    }
   ],
   "source": [
    "pedal_df = case[case['Vehicle_Type'] == 'Pedal cycle']\n",
    "pedal_corr = pedal_df['Number_of_Vehicles'].corr(pedal_df['Number_of_Casualties'])\n",
    "pedal_corr"
   ]
  },
  {
   "cell_type": "markdown",
   "id": "c6df5406-76e5-4f9a-8c9c-c4ed4fcd3ca3",
   "metadata": {},
   "source": [
    "<h3>Insight 13</h3>\n",
    "<h3>There are no correlation between number of casualties and number of vehicle in pedal cycle.</h3>\n",
    "<hr>\n",
    "<br>"
   ]
  },
  {
   "cell_type": "markdown",
   "id": "08e9aa72-723d-41c7-ae59-3b894c61d012",
   "metadata": {},
   "source": [
    "<H3>14.What is the average number of casualties in pedal cycle accidents by road type?</H3>"
   ]
  },
  {
   "cell_type": "code",
   "execution_count": 34,
   "id": "bfbfaa3e-715b-47db-9e1c-dc88c6663181",
   "metadata": {},
   "outputs": [
    {
     "data": {
      "text/plain": [
       "Road_Type\n",
       "Dual carriageway      1.6\n",
       "One way street        1.2\n",
       "Roundabout            1.2\n",
       "Single carriageway    1.3\n",
       "Slip road             1.5\n",
       "unaccounted           1.5\n",
       "Name: Number_of_Casualties, dtype: float64"
      ]
     },
     "execution_count": 34,
     "metadata": {},
     "output_type": "execute_result"
    }
   ],
   "source": [
    "pedal_casualties_roadT = pedal_df.groupby('Road_Type')['Number_of_Casualties'].mean().round(1)\n",
    "pedal_casualties_roadT"
   ]
  },
  {
   "cell_type": "markdown",
   "id": "d42808fb-8e50-4ec8-8e89-a05fb3acb772",
   "metadata": {},
   "source": [
    "<h3>Insight 14</h3>\n",
    "<h3>Dual carriageways tend to have slightly higher casualties for pedal cycle accidents compared to other roads.</h3>\n",
    "<hr>\n",
    "<br>"
   ]
  },
  {
   "cell_type": "markdown",
   "id": "b958e17f-5d15-48d0-9ecf-68e46dc6f51a",
   "metadata": {},
   "source": [
    "<H3>15.What is the average number of casualties in pedal cycle accidents by severity?</H3>"
   ]
  },
  {
   "cell_type": "code",
   "execution_count": 35,
   "id": "29a347d1-a42a-4c6b-9668-d60dd04f64d6",
   "metadata": {},
   "outputs": [
    {
     "data": {
      "text/plain": [
       "Accident_Severity\n",
       "Fatal      1.67\n",
       "Serious    1.26\n",
       "Slight     1.39\n",
       "Name: Number_of_Casualties, dtype: float64"
      ]
     },
     "execution_count": 35,
     "metadata": {},
     "output_type": "execute_result"
    }
   ],
   "source": [
    "pedal_avg_casualties = pedal_df.groupby('Accident_Severity')['Number_of_Casualties'].mean().round(2)\n",
    "pedal_avg_casualties"
   ]
  },
  {
   "cell_type": "markdown",
   "id": "54e6d04f-4814-4d17-a939-c6eb7b8a3a67",
   "metadata": {},
   "source": [
    "<h3>Insight 15</h3>\n",
    "<h3>Fatal accidents usually involve more casualties per crash compared to slight accidents.</h3>\n",
    "<hr>\n",
    "<br>"
   ]
  },
  {
   "cell_type": "markdown",
   "id": "809c7098-ced5-4eea-a3ee-6274ab491a24",
   "metadata": {},
   "source": [
    "<H3>16.On which road surfaces do ridden horse accidents happen most?</H3>"
   ]
  },
  {
   "cell_type": "code",
   "execution_count": 36,
   "id": "af19d5c7-f3c0-4d42-8dfe-6cbcfb73c32d",
   "metadata": {},
   "outputs": [
    {
     "data": {
      "text/plain": [
       "Road_Surface_Conditions\n",
       "Dry            3\n",
       "Wet or damp    1\n",
       "Name: Index, dtype: int64"
      ]
     },
     "execution_count": 36,
     "metadata": {},
     "output_type": "execute_result"
    }
   ],
   "source": [
    "ridden_horse_df = case[case['Vehicle_Type'] == 'Ridden horse']\n",
    "\n",
    "horse_surface = ridden_horse_df.groupby('Road_Surface_Conditions')['Index'].count()\n",
    "horse_surface\n"
   ]
  },
  {
   "cell_type": "markdown",
   "id": "a892e89b-5341-46b3-812a-27cf03ea9798",
   "metadata": {},
   "source": [
    "<h3>Insight 16</h3>\n",
    "<h3>Most ridden horse accidents happen on dry roads.</h3>\n",
    "<hr>\n",
    "<br>"
   ]
  },
  {
   "cell_type": "markdown",
   "id": "c7655df7-0977-4694-9558-bcb660840891",
   "metadata": {},
   "source": [
    "<H3>17.In which districts do ridden horse accidents happen most?</H3>"
   ]
  },
  {
   "cell_type": "code",
   "execution_count": 37,
   "id": "6a0024f2-2b83-42e2-8516-43c9f6bc344e",
   "metadata": {},
   "outputs": [
    {
     "data": {
      "text/plain": [
       "District Area\n",
       "Cardiff         1\n",
       "Knowsley        1\n",
       "Norwich         1\n",
       "West Lothian    1\n",
       "Name: Index, dtype: int64"
      ]
     },
     "execution_count": 37,
     "metadata": {},
     "output_type": "execute_result"
    }
   ],
   "source": [
    "horse_districts = ridden_horse_df.groupby('District Area')['Index'].count()\n",
    "horse_districts\n"
   ]
  },
  {
   "cell_type": "markdown",
   "id": "ab833b46-5553-4f87-a2a1-d4856e94c03b",
   "metadata": {},
   "source": [
    "<h3>Insight 17</h3>\n",
    "<h3>Based on the district areas with ridden horse accidents, the cases are evenly spread, with each district having 1 accident.</h3>\n",
    "<hr>\n",
    "<br>"
   ]
  },
  {
   "cell_type": "markdown",
   "id": "131c9574-039e-4b2c-bc8c-b0e04337f58d",
   "metadata": {},
   "source": [
    "<H3>18.What is the average number of casualties in horse accidents by road type?</H3>"
   ]
  },
  {
   "cell_type": "code",
   "execution_count": 38,
   "id": "5bf47c49-6ee0-4f83-b0db-81960c6d9594",
   "metadata": {},
   "outputs": [
    {
     "data": {
      "text/plain": [
       "Road_Type\n",
       "Single carriageway    1.25\n",
       "Name: Number_of_Casualties, dtype: float64"
      ]
     },
     "execution_count": 38,
     "metadata": {},
     "output_type": "execute_result"
    }
   ],
   "source": [
    "horse_casualties_road = ridden_horse_df.groupby('Road_Type')['Number_of_Casualties'].mean()\n",
    "horse_casualties_road\n"
   ]
  },
  {
   "cell_type": "markdown",
   "id": "dcc80739-2281-4280-8da4-0e9fe352f888",
   "metadata": {},
   "source": [
    "<h3>Insight 18</h3>\n",
    "<h3>Most ridden horse accidents happen on single carriageways, it has an averange of 1.25.</h3>\n",
    "<hr>\n",
    "<br>"
   ]
  },
  {
   "cell_type": "markdown",
   "id": "b658494a-d762-4697-90a9-69592d66d620",
   "metadata": {},
   "source": [
    "<H3>19.What is the average number of casualties per accident in urban vs rural areas?</H3>"
   ]
  },
  {
   "cell_type": "code",
   "execution_count": 39,
   "id": "037d8ce1-ab2d-406f-835d-bae718f1e02f",
   "metadata": {},
   "outputs": [
    {
     "data": {
      "text/plain": [
       "Urban_or_Rural_Area\n",
       "Rural          1.48\n",
       "Unallocated    1.18\n",
       "Urban          1.29\n",
       "Name: Number_of_Casualties, dtype: float64"
      ]
     },
     "execution_count": 39,
     "metadata": {},
     "output_type": "execute_result"
    }
   ],
   "source": [
    "urban_rural_casualties = case.groupby('Urban_or_Rural_Area')['Number_of_Casualties'].mean().round(2)\n",
    "urban_rural_casualties\n"
   ]
  },
  {
   "cell_type": "markdown",
   "id": "42575522-5d5d-451b-ac67-93665f7b8197",
   "metadata": {},
   "source": [
    "<h3>Insight 19</h3>\n",
    "<h3>Rural accidents tend to have slightly more casualties per crash compared to unallocated and urban, even though more accidents happen in cities.</h3>\n",
    "<hr>\n",
    "<br>"
   ]
  },
  {
   "cell_type": "markdown",
   "id": "dd64e9bf-e204-4b5b-9a93-d3f92ef6895b",
   "metadata": {},
   "source": [
    "<H3>20.Which road type has the highest number of accidents?</H3>"
   ]
  },
  {
   "cell_type": "code",
   "execution_count": 40,
   "id": "2d720f4e-c70a-4f1f-850c-abf2cfd047fb",
   "metadata": {},
   "outputs": [
    {
     "data": {
      "text/plain": [
       "Road_Type\n",
       "Single carriageway    492143\n",
       "Dual carriageway       99424\n",
       "Roundabout             43992\n",
       "One way street         13559\n",
       "Slip road               7041\n",
       "unaccounted             4520\n",
       "Name: count, dtype: int64"
      ]
     },
     "execution_count": 40,
     "metadata": {},
     "output_type": "execute_result"
    }
   ],
   "source": [
    "case['Road_Type'].value_counts()"
   ]
  },
  {
   "cell_type": "markdown",
   "id": "b0b3e189-7872-4613-92bf-82249ffcf5d5",
   "metadata": {},
   "source": [
    "<h3>Insight 20</h3>\n",
    "<h3>Most accidents happen on single carriageways, far more than any other road type.</h3>\n",
    "<hr>\n",
    "<br>"
   ]
  },
  {
   "cell_type": "markdown",
   "id": "08f4e7d1-d394-4e6c-97c9-db683b80d293",
   "metadata": {},
   "source": [
    "<h2>ABOUT DATES</h2>"
   ]
  },
  {
   "cell_type": "code",
   "execution_count": 41,
   "id": "b643a3c0-cb3b-4532-bf07-9198b15587ad",
   "metadata": {},
   "outputs": [
    {
     "data": {
      "text/html": [
       "<div>\n",
       "<style scoped>\n",
       "    .dataframe tbody tr th:only-of-type {\n",
       "        vertical-align: middle;\n",
       "    }\n",
       "\n",
       "    .dataframe tbody tr th {\n",
       "        vertical-align: top;\n",
       "    }\n",
       "\n",
       "    .dataframe thead th {\n",
       "        text-align: right;\n",
       "    }\n",
       "</style>\n",
       "<table border=\"1\" class=\"dataframe\">\n",
       "  <thead>\n",
       "    <tr style=\"text-align: right;\">\n",
       "      <th></th>\n",
       "      <th>Index</th>\n",
       "      <th>Accident_Severity</th>\n",
       "      <th>Accident Date</th>\n",
       "      <th>Latitude</th>\n",
       "      <th>Light_Conditions</th>\n",
       "      <th>District Area</th>\n",
       "      <th>Longitude</th>\n",
       "      <th>Number_of_Casualties</th>\n",
       "      <th>Number_of_Vehicles</th>\n",
       "      <th>Road_Surface_Conditions</th>\n",
       "      <th>Road_Type</th>\n",
       "      <th>Urban_or_Rural_Area</th>\n",
       "      <th>Weather_Conditions</th>\n",
       "      <th>Vehicle_Type</th>\n",
       "      <th>Year</th>\n",
       "      <th>Month</th>\n",
       "      <th>Day</th>\n",
       "      <th>DayOfWeek</th>\n",
       "    </tr>\n",
       "  </thead>\n",
       "  <tbody>\n",
       "    <tr>\n",
       "      <th>0</th>\n",
       "      <td>200701BS64157</td>\n",
       "      <td>Serious</td>\n",
       "      <td>2019-06-05</td>\n",
       "      <td>51.506187</td>\n",
       "      <td>Darkness - lights lit</td>\n",
       "      <td>Kensington and Chelsea</td>\n",
       "      <td>-0.209082</td>\n",
       "      <td>1</td>\n",
       "      <td>2</td>\n",
       "      <td>Dry</td>\n",
       "      <td>Single carriageway</td>\n",
       "      <td>Urban</td>\n",
       "      <td>Fine no high winds</td>\n",
       "      <td>Car</td>\n",
       "      <td>2019</td>\n",
       "      <td>6</td>\n",
       "      <td>5</td>\n",
       "      <td>2</td>\n",
       "    </tr>\n",
       "    <tr>\n",
       "      <th>1</th>\n",
       "      <td>200701BS65737</td>\n",
       "      <td>Serious</td>\n",
       "      <td>2019-07-02</td>\n",
       "      <td>51.495029</td>\n",
       "      <td>Daylight</td>\n",
       "      <td>Kensington and Chelsea</td>\n",
       "      <td>-0.173647</td>\n",
       "      <td>1</td>\n",
       "      <td>2</td>\n",
       "      <td>Wet or damp</td>\n",
       "      <td>Single carriageway</td>\n",
       "      <td>Urban</td>\n",
       "      <td>Raining no high winds</td>\n",
       "      <td>Car</td>\n",
       "      <td>2019</td>\n",
       "      <td>7</td>\n",
       "      <td>2</td>\n",
       "      <td>1</td>\n",
       "    </tr>\n",
       "    <tr>\n",
       "      <th>2</th>\n",
       "      <td>200701BS66127</td>\n",
       "      <td>Serious</td>\n",
       "      <td>2019-08-26</td>\n",
       "      <td>51.517715</td>\n",
       "      <td>Darkness - lighting unknown</td>\n",
       "      <td>Kensington and Chelsea</td>\n",
       "      <td>-0.210215</td>\n",
       "      <td>1</td>\n",
       "      <td>3</td>\n",
       "      <td>Dry</td>\n",
       "      <td>unaccounted</td>\n",
       "      <td>Urban</td>\n",
       "      <td>unaccounted</td>\n",
       "      <td>Taxi/Private hire car</td>\n",
       "      <td>2019</td>\n",
       "      <td>8</td>\n",
       "      <td>26</td>\n",
       "      <td>0</td>\n",
       "    </tr>\n",
       "    <tr>\n",
       "      <th>3</th>\n",
       "      <td>200701BS66128</td>\n",
       "      <td>Serious</td>\n",
       "      <td>2019-08-16</td>\n",
       "      <td>51.495478</td>\n",
       "      <td>Daylight</td>\n",
       "      <td>Kensington and Chelsea</td>\n",
       "      <td>-0.202731</td>\n",
       "      <td>1</td>\n",
       "      <td>4</td>\n",
       "      <td>Dry</td>\n",
       "      <td>Single carriageway</td>\n",
       "      <td>Urban</td>\n",
       "      <td>Fine no high winds</td>\n",
       "      <td>Bus or coach (17 or more pass seats)</td>\n",
       "      <td>2019</td>\n",
       "      <td>8</td>\n",
       "      <td>16</td>\n",
       "      <td>4</td>\n",
       "    </tr>\n",
       "    <tr>\n",
       "      <th>4</th>\n",
       "      <td>200701BS66837</td>\n",
       "      <td>Slight</td>\n",
       "      <td>2019-09-03</td>\n",
       "      <td>51.488576</td>\n",
       "      <td>Darkness - lights lit</td>\n",
       "      <td>Kensington and Chelsea</td>\n",
       "      <td>-0.192487</td>\n",
       "      <td>1</td>\n",
       "      <td>2</td>\n",
       "      <td>Dry</td>\n",
       "      <td>unaccounted</td>\n",
       "      <td>Urban</td>\n",
       "      <td>unaccounted</td>\n",
       "      <td>Other vehicle</td>\n",
       "      <td>2019</td>\n",
       "      <td>9</td>\n",
       "      <td>3</td>\n",
       "      <td>1</td>\n",
       "    </tr>\n",
       "    <tr>\n",
       "      <th>...</th>\n",
       "      <td>...</td>\n",
       "      <td>...</td>\n",
       "      <td>...</td>\n",
       "      <td>...</td>\n",
       "      <td>...</td>\n",
       "      <td>...</td>\n",
       "      <td>...</td>\n",
       "      <td>...</td>\n",
       "      <td>...</td>\n",
       "      <td>...</td>\n",
       "      <td>...</td>\n",
       "      <td>...</td>\n",
       "      <td>...</td>\n",
       "      <td>...</td>\n",
       "      <td>...</td>\n",
       "      <td>...</td>\n",
       "      <td>...</td>\n",
       "      <td>...</td>\n",
       "    </tr>\n",
       "    <tr>\n",
       "      <th>660674</th>\n",
       "      <td>201091NM01760</td>\n",
       "      <td>Slight</td>\n",
       "      <td>2022-02-18</td>\n",
       "      <td>57.374005</td>\n",
       "      <td>Daylight</td>\n",
       "      <td>Highland</td>\n",
       "      <td>-3.467828</td>\n",
       "      <td>2</td>\n",
       "      <td>1</td>\n",
       "      <td>Dry</td>\n",
       "      <td>Single carriageway</td>\n",
       "      <td>Rural</td>\n",
       "      <td>Fine no high winds</td>\n",
       "      <td>Car</td>\n",
       "      <td>2022</td>\n",
       "      <td>2</td>\n",
       "      <td>18</td>\n",
       "      <td>4</td>\n",
       "    </tr>\n",
       "    <tr>\n",
       "      <th>660675</th>\n",
       "      <td>201091NM01881</td>\n",
       "      <td>Slight</td>\n",
       "      <td>2022-02-21</td>\n",
       "      <td>57.232273</td>\n",
       "      <td>Darkness - no lighting</td>\n",
       "      <td>Highland</td>\n",
       "      <td>-3.809281</td>\n",
       "      <td>1</td>\n",
       "      <td>1</td>\n",
       "      <td>Frost or ice</td>\n",
       "      <td>Single carriageway</td>\n",
       "      <td>Rural</td>\n",
       "      <td>Fine no high winds</td>\n",
       "      <td>Car</td>\n",
       "      <td>2022</td>\n",
       "      <td>2</td>\n",
       "      <td>21</td>\n",
       "      <td>0</td>\n",
       "    </tr>\n",
       "    <tr>\n",
       "      <th>660676</th>\n",
       "      <td>201091NM01935</td>\n",
       "      <td>Slight</td>\n",
       "      <td>2022-02-23</td>\n",
       "      <td>57.585044</td>\n",
       "      <td>Daylight</td>\n",
       "      <td>Highland</td>\n",
       "      <td>-3.862727</td>\n",
       "      <td>1</td>\n",
       "      <td>3</td>\n",
       "      <td>Frost or ice</td>\n",
       "      <td>Single carriageway</td>\n",
       "      <td>Rural</td>\n",
       "      <td>Fine no high winds</td>\n",
       "      <td>Car</td>\n",
       "      <td>2022</td>\n",
       "      <td>2</td>\n",
       "      <td>23</td>\n",
       "      <td>2</td>\n",
       "    </tr>\n",
       "    <tr>\n",
       "      <th>660677</th>\n",
       "      <td>201091NM01964</td>\n",
       "      <td>Serious</td>\n",
       "      <td>2022-02-23</td>\n",
       "      <td>57.214898</td>\n",
       "      <td>Darkness - no lighting</td>\n",
       "      <td>Highland</td>\n",
       "      <td>-3.823997</td>\n",
       "      <td>1</td>\n",
       "      <td>2</td>\n",
       "      <td>Wet or damp</td>\n",
       "      <td>Single carriageway</td>\n",
       "      <td>Rural</td>\n",
       "      <td>Fine no high winds</td>\n",
       "      <td>Motorcycle over 500cc</td>\n",
       "      <td>2022</td>\n",
       "      <td>2</td>\n",
       "      <td>23</td>\n",
       "      <td>2</td>\n",
       "    </tr>\n",
       "    <tr>\n",
       "      <th>660678</th>\n",
       "      <td>201091NM02142</td>\n",
       "      <td>Serious</td>\n",
       "      <td>2022-02-28</td>\n",
       "      <td>57.575210</td>\n",
       "      <td>Daylight</td>\n",
       "      <td>Highland</td>\n",
       "      <td>-3.895673</td>\n",
       "      <td>1</td>\n",
       "      <td>1</td>\n",
       "      <td>Wet or damp</td>\n",
       "      <td>Dual carriageway</td>\n",
       "      <td>Rural</td>\n",
       "      <td>Snowing no high winds</td>\n",
       "      <td>Car</td>\n",
       "      <td>2022</td>\n",
       "      <td>2</td>\n",
       "      <td>28</td>\n",
       "      <td>0</td>\n",
       "    </tr>\n",
       "  </tbody>\n",
       "</table>\n",
       "<p>660679 rows × 18 columns</p>\n",
       "</div>"
      ],
      "text/plain": [
       "                Index Accident_Severity Accident Date   Latitude  \\\n",
       "0       200701BS64157           Serious    2019-06-05  51.506187   \n",
       "1       200701BS65737           Serious    2019-07-02  51.495029   \n",
       "2       200701BS66127           Serious    2019-08-26  51.517715   \n",
       "3       200701BS66128           Serious    2019-08-16  51.495478   \n",
       "4       200701BS66837            Slight    2019-09-03  51.488576   \n",
       "...               ...               ...           ...        ...   \n",
       "660674  201091NM01760            Slight    2022-02-18  57.374005   \n",
       "660675  201091NM01881            Slight    2022-02-21  57.232273   \n",
       "660676  201091NM01935            Slight    2022-02-23  57.585044   \n",
       "660677  201091NM01964           Serious    2022-02-23  57.214898   \n",
       "660678  201091NM02142           Serious    2022-02-28  57.575210   \n",
       "\n",
       "                   Light_Conditions           District Area  Longitude  \\\n",
       "0             Darkness - lights lit  Kensington and Chelsea  -0.209082   \n",
       "1                          Daylight  Kensington and Chelsea  -0.173647   \n",
       "2       Darkness - lighting unknown  Kensington and Chelsea  -0.210215   \n",
       "3                          Daylight  Kensington and Chelsea  -0.202731   \n",
       "4             Darkness - lights lit  Kensington and Chelsea  -0.192487   \n",
       "...                             ...                     ...        ...   \n",
       "660674                     Daylight                Highland  -3.467828   \n",
       "660675       Darkness - no lighting                Highland  -3.809281   \n",
       "660676                     Daylight                Highland  -3.862727   \n",
       "660677       Darkness - no lighting                Highland  -3.823997   \n",
       "660678                     Daylight                Highland  -3.895673   \n",
       "\n",
       "        Number_of_Casualties  Number_of_Vehicles Road_Surface_Conditions  \\\n",
       "0                          1                   2                     Dry   \n",
       "1                          1                   2             Wet or damp   \n",
       "2                          1                   3                     Dry   \n",
       "3                          1                   4                     Dry   \n",
       "4                          1                   2                     Dry   \n",
       "...                      ...                 ...                     ...   \n",
       "660674                     2                   1                     Dry   \n",
       "660675                     1                   1            Frost or ice   \n",
       "660676                     1                   3            Frost or ice   \n",
       "660677                     1                   2             Wet or damp   \n",
       "660678                     1                   1             Wet or damp   \n",
       "\n",
       "                 Road_Type Urban_or_Rural_Area     Weather_Conditions  \\\n",
       "0       Single carriageway               Urban     Fine no high winds   \n",
       "1       Single carriageway               Urban  Raining no high winds   \n",
       "2              unaccounted               Urban            unaccounted   \n",
       "3       Single carriageway               Urban     Fine no high winds   \n",
       "4              unaccounted               Urban            unaccounted   \n",
       "...                    ...                 ...                    ...   \n",
       "660674  Single carriageway               Rural     Fine no high winds   \n",
       "660675  Single carriageway               Rural     Fine no high winds   \n",
       "660676  Single carriageway               Rural     Fine no high winds   \n",
       "660677  Single carriageway               Rural     Fine no high winds   \n",
       "660678    Dual carriageway               Rural  Snowing no high winds   \n",
       "\n",
       "                                Vehicle_Type  Year  Month  Day  DayOfWeek  \n",
       "0                                        Car  2019      6    5          2  \n",
       "1                                        Car  2019      7    2          1  \n",
       "2                      Taxi/Private hire car  2019      8   26          0  \n",
       "3       Bus or coach (17 or more pass seats)  2019      8   16          4  \n",
       "4                              Other vehicle  2019      9    3          1  \n",
       "...                                      ...   ...    ...  ...        ...  \n",
       "660674                                   Car  2022      2   18          4  \n",
       "660675                                   Car  2022      2   21          0  \n",
       "660676                                   Car  2022      2   23          2  \n",
       "660677                 Motorcycle over 500cc  2022      2   23          2  \n",
       "660678                                   Car  2022      2   28          0  \n",
       "\n",
       "[660679 rows x 18 columns]"
      ]
     },
     "execution_count": 41,
     "metadata": {},
     "output_type": "execute_result"
    }
   ],
   "source": [
    "case"
   ]
  },
  {
   "cell_type": "markdown",
   "id": "1a3a725a-02b6-4b80-97e8-739614126693",
   "metadata": {},
   "source": [
    "<h3>21.What year has the highest fatal accident severity?</h3>"
   ]
  },
  {
   "cell_type": "code",
   "execution_count": 42,
   "id": "49edfac1-b1f4-43ae-9f97-ad18c36263f0",
   "metadata": {},
   "outputs": [
    {
     "data": {
      "image/png": "[encoded data removed]",
      "text/plain": [
       "<Figure size 1000x500 with 1 Axes>"
      ]
     },
     "metadata": {},
     "output_type": "display_data"
    }
   ],
   "source": [
    "fatal_df = case[case['Accident_Severity'] == 'Fatal']\n",
    "year_fatal = fatal_df.groupby('Year').size()\n",
    "year_fatal.plot(marker='o',figsize=(10,5), title='Fatal Accident Severity each Year')\n",
    "plt.xticks(range(2019, 2023))\n",
    "plt.show()"
   ]
  },
  {
   "cell_type": "markdown",
   "id": "57367065-6ab7-47b4-8afa-1275c2b2c147",
   "metadata": {},
   "source": [
    "<h3>Insight 21</h3>\n",
    "<h3>The decrease in fatal cases over the years might be attributed to much better road safety.</h3>\n",
    "<hr>\n",
    "<br>"
   ]
  },
  {
   "cell_type": "markdown",
   "id": "8aa3fcd2-1f05-48d4-9083-1af54c282b1e",
   "metadata": {},
   "source": [
    "<h3>22.Which Month has the highest fatal cases over the years?</h3>"
   ]
  },
  {
   "cell_type": "code",
   "execution_count": 43,
   "id": "30d5eb5a-2518-4941-8ad7-93b342852358",
   "metadata": {},
   "outputs": [
    {
     "data": {
      "image/png": "[encoded data removed]",
      "text/plain": [
       "<Figure size 1000x500 with 1 Axes>"
      ]
     },
     "metadata": {},
     "output_type": "display_data"
    }
   ],
   "source": [
    "month_fatal = fatal_df.groupby(['Year','Month'])['Index'].count()\n",
    "month_fatal=month_fatal.unstack(level=0)\n",
    "month_fatal.plot(marker='o',figsize=(10,5), title='Monthly Fatal Accident over the years')\n",
    "plt.xticks(range(1,13),['Jan','Feb','Mar','April','May','June','July','Aug','Sept','Oct','Nov','Dec'])\n",
    "plt.show()"
   ]
  },
  {
   "cell_type": "markdown",
   "id": "fe0f21a8-b08d-4522-93e6-30a3e8947811",
   "metadata": {},
   "source": [
    "<h3>Insight 22</h3>\n",
    "<h3>Fatal accidents peaked in August 2019 with 260 cases, but the overall trend shows a decrease in fatal accidents from 2020 to 2022, with the lowest count in December 2022 at 90 cases.</h3>\n",
    "<hr>\n",
    "<br>"
   ]
  },
  {
   "cell_type": "markdown",
   "id": "1864787a-6a0e-4312-9a60-05f26b18d6a5",
   "metadata": {},
   "source": [
    "<h3>23.Which Day of the week has the highest fatal cases?</h3>"
   ]
  },
  {
   "cell_type": "code",
   "execution_count": 44,
   "id": "043ce7ac-7e97-4744-adea-3494b3e88563",
   "metadata": {},
   "outputs": [
    {
     "data": {
      "image/png": "[encoded data removed]",
      "text/plain": [
       "<Figure size 1000x500 with 1 Axes>"
      ]
     },
     "metadata": {},
     "output_type": "display_data"
    }
   ],
   "source": [
    "day_fatal = fatal_df.groupby('DayOfWeek')['Index'].count()\n",
    "day_fatal.plot(kind='bar',figsize=(10,5),title='Fatal Accidents by Day of the week')\n",
    "plt.xticks(range(7), ['Monday', 'Tuesday', 'Wednesday', 'Thursday', 'Friday', 'Saturday', 'Sunday'], rotation=45)\n",
    "plt.show()"
   ]
  },
  {
   "cell_type": "markdown",
   "id": "f4fe6ae1-ef66-49d1-bc76-b80ad5372f33",
   "metadata": {},
   "source": [
    "<h3>Insight 23</h3>\n",
    "<h3>Fatal accidents are highest on Sundays, likely due to increased weekend travel and riskier driving behaviors, while weekdays show more moderate numbers.</h3>\n",
    "<hr>\n",
    "<br>"
   ]
  },
  {
   "cell_type": "markdown",
   "id": "8c541029-1b96-45c3-9937-8d163f89d935",
   "metadata": {},
   "source": [
    "<h3>24.Which Day of the Month has the highest fatal cases?</h3>"
   ]
  },
  {
   "cell_type": "code",
   "execution_count": 45,
   "id": "a4a61093-e809-48e1-93cf-62f1a52e4ee5",
   "metadata": {},
   "outputs": [
    {
     "data": {
      "image/png": "[encoded data removed]",
      "text/plain": [
       "<Figure size 1000x500 with 1 Axes>"
      ]
     },
     "metadata": {},
     "output_type": "display_data"
    }
   ],
   "source": [
    "day_of_month_fatal = fatal_df.groupby('Day')['Index'].count()\n",
    "day_of_month_fatal.plot(marker='o',figsize=(10,5), title='Fatal Accidents by Day of the Month')\n",
    "plt.xticks(range(1, 32),[str(i) for i in range(1, 32)], rotation=45)\n",
    "plt.show()"
   ]
  },
  {
   "cell_type": "markdown",
   "id": "0e01ed25-c35b-4c56-813d-bdf757b3a6b9",
   "metadata": {},
   "source": [
    "<h3>Insight 24</h3>\n",
    "<h3>Fatal accidents are relatively consistent throughout the month, with peaks on Days 3, 6, and 12, and the lowest number on Day 31.</h3>\n",
    "<hr>\n",
    "<br>"
   ]
  },
  {
   "cell_type": "markdown",
   "id": "7f475452-10e5-454c-a5e3-8663428ec9cf",
   "metadata": {},
   "source": [
    "<h3>25.Which district area has the highest number of fatal cases, and how many fatal cases occurred by year?</h3>"
   ]
  },
  {
   "cell_type": "code",
   "execution_count": 46,
   "id": "5dfb3fff-2d38-40d2-bb85-4f47c11314c4",
   "metadata": {},
   "outputs": [
    {
     "data": {
      "image/png": "[encoded data removed]",
      "text/plain": [
       "<Figure size 1000x500 with 1 Axes>"
      ]
     },
     "metadata": {},
     "output_type": "display_data"
    }
   ],
   "source": [
    "district = fatal_df.groupby('District Area')['Index'].size()\n",
    "high_fatal_district = district.idxmax()\n",
    "birmingham_fatal_df = fatal_df[fatal_df['District Area'] == high_fatal_district]\n",
    "year_fatal_birmingham = birmingham_fatal_df.groupby('Year')['Index'].count()\n",
    "year_fatal_birmingham.plot(kind='bar',figsize=(10,5),title=f'Fatal Accidents by Year in {high_fatal_district}',color='pink')\n",
    "plt.show()"
   ]
  },
  {
   "cell_type": "markdown",
   "id": "52ca9bdf-8230-4b6a-be9b-c5fd0b9e81aa",
   "metadata": {},
   "source": [
    "<h3>Insight 25</h3>\n",
    "<h3>Bar chart indicates that fatal accidents in Birmingham were fairly stable across the years 2019 to 2022, with slightly similar numbers each year.</h3>\n",
    "<hr>\n",
    "<br>"
   ]
  },
  {
   "cell_type": "markdown",
   "id": "60064574-bf9b-4e7f-bd24-52856f3f2d23",
   "metadata": {},
   "source": [
    "<h2>Creating Dataframe for districts.</h2>"
   ]
  },
  {
   "cell_type": "markdown",
   "id": "f45f501f-445d-4f20-af53-2810f6b94b56",
   "metadata": {},
   "source": [
    "<h2>Vale Royal District</h2>"
   ]
  },
  {
   "cell_type": "markdown",
   "id": "76f2431e-9e34-4770-9233-4719cccc4e8f",
   "metadata": {},
   "source": [
    "<img src=\"https://cdn.britannica.com/69/115669-004-A084FBDD.jpg\">"
   ]
  },
  {
   "cell_type": "code",
   "execution_count": 48,
   "id": "07dafcb1-4739-4a42-8941-d6e243c3d18e",
   "metadata": {},
   "outputs": [],
   "source": [
    "vale_royal_df = case[case['District Area'] == 'Vale Royal']"
   ]
  },
  {
   "cell_type": "code",
   "execution_count": 49,
   "id": "d29fe6ac-6621-4427-8114-8ca4fe932f4d",
   "metadata": {},
   "outputs": [
    {
     "data": {
      "image/png": "[encoded data removed]",
      "text/plain": [
       "<Figure size 640x480 with 1 Axes>"
      ]
     },
     "metadata": {},
     "output_type": "display_data"
    },
    {
     "data": {
      "image/png": "[encoded data removed]",
      "text/plain": [
       "<Figure size 640x480 with 1 Axes>"
      ]
     },
     "metadata": {},
     "output_type": "display_data"
    },
    {
     "data": {
      "image/png": "[encoded data removed]",
      "text/plain": [
       "<Figure size 640x480 with 1 Axes>"
      ]
     },
     "metadata": {},
     "output_type": "display_data"
    },
    {
     "name": "stdout",
     "output_type": "stream",
     "text": [
      "DayOfWeek\n",
      "Monday        98\n",
      "Tuesday      125\n",
      "Wednesday    154\n",
      "Thursday     141\n",
      "Friday       172\n",
      "Saturday     168\n",
      "Sunday       137\n",
      "Name: count, dtype: int64\n"
     ]
    }
   ],
   "source": [
    "# Accidents per year\n",
    "accidents_per_year = vale_royal_df['Year'].value_counts().sort_index()\n",
    "accidents_per_month = vale_royal_df['Month'].value_counts().sort_index()\n",
    "accidents_per_day = vale_royal_df['DayOfWeek'].value_counts().sort_index()\n",
    "\n",
    "\n",
    "#PER YEAR \n",
    "accidents_per_year.plot(kind='bar')\n",
    "plt.title('Accidents per Year')\n",
    "plt.xlabel('Year')\n",
    "plt.ylabel('Number of Accidents')\n",
    "plt.show()\n",
    "\n",
    "month_names = {\n",
    "    1: 'January', 2: 'February', 3: 'March', 4: 'April',\n",
    "    5: 'May', 6: 'June', 7: 'July', 8: 'August',\n",
    "    9: 'September', 10: 'October', 11: 'November', 12: 'December'\n",
    "}\n",
    "\n",
    "# Replace numerical months with their names\n",
    "accidents_per_month.index = accidents_per_month.index.map(month_names)\n",
    "\n",
    "\n",
    "accidents_per_month.plot(kind='bar')\n",
    "plt.title('Accidents per Month')\n",
    "plt.xlabel('Month')\n",
    "plt.ylabel('Number of Accidents')\n",
    "plt.show()\n",
    "\n",
    "\n",
    "#accident per day\n",
    "day_names = {\n",
    "    0: 'Monday',\n",
    "    1: 'Tuesday',\n",
    "    2: 'Wednesday',\n",
    "    3: 'Thursday',\n",
    "    4: 'Friday',\n",
    "    5: 'Saturday',\n",
    "    6: 'Sunday'\n",
    "}\n",
    "\n",
    "accidents_per_day.index = accidents_per_day.index.map(day_names)\n",
    "accidents_per_day.plot(kind='bar')\n",
    "plt.title('Accidents per Day')\n",
    "plt.show()\n",
    "print(accidents_per_day)"
   ]
  },
  {
   "cell_type": "markdown",
   "id": "2d24800e-1e8f-4785-991a-40cb469e6eac",
   "metadata": {},
   "source": [
    "<h3>Insight 26</h3>\n",
    "<h3>In the Accidents per Year data, 2019 recorded the highest number of reported accidents in Vale Royal.</h3>\n",
    "<hr>\n",
    "\n",
    "<h3>Insight 27</h3>\n",
    "<h3>In the Accidents per Month analysis, March was the busiest month for accidents, while April recorded the lowest number.</h3>\n",
    "<hr>\n",
    "\n",
    "<h3>Insight 28</h3>\n",
    "<h3>Based on Accidents per Day, weekends and late-week days (Friday and Saturday) are the riskiest, while weekdays see a more stable but slightly lower accident rate.</h3>\n",
    "<hr>\n"
   ]
  },
  {
   "cell_type": "markdown",
   "id": "ef2c8ae4-a848-4336-9471-d7ab8a29f187",
   "metadata": {},
   "source": [
    "<h3>Accidents Severity in Vale Royal</h3>"
   ]
  },
  {
   "cell_type": "code",
   "execution_count": 50,
   "id": "490d6d41-051c-44a2-856b-7fe32721a2a7",
   "metadata": {},
   "outputs": [
    {
     "data": {
      "image/png": "[encoded data removed]",
      "text/plain": [
       "<Figure size 1000x700 with 1 Axes>"
      ]
     },
     "metadata": {},
     "output_type": "display_data"
    },
    {
     "data": {
      "image/png": "[encoded data removed]",
      "text/plain": [
       "<Figure size 1000x700 with 1 Axes>"
      ]
     },
     "metadata": {},
     "output_type": "display_data"
    }
   ],
   "source": [
    "severity_vale_royal  = vale_royal_df['Accident_Severity'].value_counts()\n",
    "\n",
    "plt.pie(severity_vale_royal,\n",
    "        labels = severity_vale_royal.index,\n",
    "        autopct = '%1.1f%%',\n",
    "        startangle = 90)\n",
    "plt.gcf().set_size_inches(10,7)\n",
    "plt.title('Accident Severity Distribution')\n",
    "plt.show()\n",
    "\n",
    "severity_2019_vale = vale_royal_df[vale_royal_df['Year'] == 2019]\n",
    "# severity_2019\n",
    "lsc_2019 = severity_2019_vale['Accident_Severity'].value_counts()\n",
    "\n",
    "plt.pie(lsc_2019,\n",
    "        labels = lsc_2019.index,\n",
    "        autopct = '%1.1f%%',\n",
    "        startangle = 90)\n",
    "plt.gcf().set_size_inches(10,7)\n",
    "plt.title('Accident Severity Distribution in 2019')\n",
    "plt.show()"
   ]
  },
  {
   "cell_type": "markdown",
   "id": "7a553980-a517-4901-8d40-fe3465c2449e",
   "metadata": {},
   "source": [
    "<h3>Insight 29</h3>\n",
    "<h3>The proportion of \"Serious\" and \"Fatal\" accidents slightly increased in 2019 compared to the overall distribution.</h3>\n",
    "<hr>"
   ]
  },
  {
   "cell_type": "code",
   "execution_count": 54,
   "id": "b3714f5f-8608-4ccd-bb9a-281d04839794",
   "metadata": {},
   "outputs": [
    {
     "data": {
      "text/html": [
       "<div style=\"width:100%;\"><div style=\"position:relative;width:100%;height:0;padding-bottom:60%;\"><span style=\"color:#565656\">Make this Notebook Trusted to load map: File -> Trust Notebook</span><iframe srcdoc=\"&lt;!DOCTYPE html&gt;\n",
       "&lt;html&gt;\n",
       "&lt;head&gt;\n",
       "    \n",
       "    &lt;meta http-equiv=&quot;content-type&quot; content=&quot;text/html; charset=UTF-8&quot; /&gt;\n",
       "    &lt;script src=&quot;https://cdn.jsdelivr.net/npm/leaflet@1.9.3/dist/leaflet.js&quot;&gt;&lt;/script&gt;\n",
       "    &lt;script src=&quot;https://code.jquery.com/jquery-3.7.1.min.js&quot;&gt;&lt;/script&gt;\n",
       "    &lt;script src=&quot;https://cdn.jsdelivr.net/npm/bootstrap@5.2.2/dist/js/bootstrap.bundle.min.js&quot;&gt;&lt;/script&gt;\n",
       "    &lt;script src=&quot;https://cdnjs.cloudflare.com/ajax/libs/Leaflet.awesome-markers/2.0.2/leaflet.awesome-markers.js&quot;&gt;&lt;/script&gt;\n",
       "    &lt;link rel=&quot;stylesheet&quot; href=&quot;https://cdn.jsdelivr.net/npm/leaflet@1.9.3/dist/leaflet.css&quot;/&gt;\n",
       "    &lt;link rel=&quot;stylesheet&quot; href=&quot;https://cdn.jsdelivr.net/npm/bootstrap@5.2.2/dist/css/bootstrap.min.css&quot;/&gt;\n",
       "    &lt;link rel=&quot;stylesheet&quot; href=&quot;https://netdna.bootstrapcdn.com/bootstrap/3.0.0/css/bootstrap-glyphicons.css&quot;/&gt;\n",
       "    &lt;link rel=&quot;stylesheet&quot; href=&quot;https://cdn.jsdelivr.net/npm/@fortawesome/fontawesome-free@6.2.0/css/all.min.css&quot;/&gt;\n",
       "    &lt;link rel=&quot;stylesheet&quot; href=&quot;https://cdnjs.cloudflare.com/ajax/libs/Leaflet.awesome-markers/2.0.2/leaflet.awesome-markers.css&quot;/&gt;\n",
       "    &lt;link rel=&quot;stylesheet&quot; href=&quot;https://cdn.jsdelivr.net/gh/python-visualization/folium/folium/templates/leaflet.awesome.rotate.min.css&quot;/&gt;\n",
       "    \n",
       "            &lt;meta name=&quot;viewport&quot; content=&quot;width=device-width,\n",
       "                initial-scale=1.0, maximum-scale=1.0, user-scalable=no&quot; /&gt;\n",
       "            &lt;style&gt;\n",
       "                #map_694eb5f1a3ee93e9ccdaca8d221bb58a {\n",
       "                    position: relative;\n",
       "                    width: 100.0%;\n",
       "                    height: 100.0%;\n",
       "                    left: 0.0%;\n",
       "                    top: 0.0%;\n",
       "                }\n",
       "                .leaflet-container { font-size: 1rem; }\n",
       "            &lt;/style&gt;\n",
       "\n",
       "            &lt;style&gt;html, body {\n",
       "                width: 100%;\n",
       "                height: 100%;\n",
       "                margin: 0;\n",
       "                padding: 0;\n",
       "            }\n",
       "            &lt;/style&gt;\n",
       "\n",
       "            &lt;style&gt;#map {\n",
       "                position:absolute;\n",
       "                top:0;\n",
       "                bottom:0;\n",
       "                right:0;\n",
       "                left:0;\n",
       "                }\n",
       "            &lt;/style&gt;\n",
       "\n",
       "            &lt;script&gt;\n",
       "                L_NO_TOUCH = false;\n",
       "                L_DISABLE_3D = false;\n",
       "            &lt;/script&gt;\n",
       "\n",
       "        \n",
       "    &lt;script src=&quot;https://cdn.jsdelivr.net/gh/python-visualization/folium@main/folium/templates/leaflet_heat.min.js&quot;&gt;&lt;/script&gt;\n",
       "&lt;/head&gt;\n",
       "&lt;body&gt;\n",
       "    \n",
       "    \n",
       "            &lt;div class=&quot;folium-map&quot; id=&quot;map_694eb5f1a3ee93e9ccdaca8d221bb58a&quot; &gt;&lt;/div&gt;\n",
       "        \n",
       "&lt;/body&gt;\n",
       "&lt;script&gt;\n",
       "    \n",
       "    \n",
       "            var map_694eb5f1a3ee93e9ccdaca8d221bb58a = L.map(\n",
       "                &quot;map_694eb5f1a3ee93e9ccdaca8d221bb58a&quot;,\n",
       "                {\n",
       "                    center: [53.23732192964824, -2.5500875618090455],\n",
       "                    crs: L.CRS.EPSG3857,\n",
       "                    ...{\n",
       "  &quot;zoom&quot;: 10,\n",
       "  &quot;zoomControl&quot;: true,\n",
       "  &quot;preferCanvas&quot;: false,\n",
       "}\n",
       "\n",
       "                }\n",
       "            );\n",
       "\n",
       "            \n",
       "\n",
       "        \n",
       "    \n",
       "            var tile_layer_e68580ad8edbc3672602641244c67a92 = L.tileLayer(\n",
       "                &quot;https://tile.openstreetmap.org/{z}/{x}/{y}.png&quot;,\n",
       "                {\n",
       "  &quot;minZoom&quot;: 0,\n",
       "  &quot;maxZoom&quot;: 19,\n",
       "  &quot;maxNativeZoom&quot;: 19,\n",
       "  &quot;noWrap&quot;: false,\n",
       "  &quot;attribution&quot;: &quot;\\u0026copy; \\u003ca href=\\&quot;https://www.openstreetmap.org/copyright\\&quot;\\u003eOpenStreetMap\\u003c/a\\u003e contributors&quot;,\n",
       "  &quot;subdomains&quot;: &quot;abc&quot;,\n",
       "  &quot;detectRetina&quot;: false,\n",
       "  &quot;tms&quot;: false,\n",
       "  &quot;opacity&quot;: 1,\n",
       "}\n",
       "\n",
       "            );\n",
       "        \n",
       "    \n",
       "            tile_layer_e68580ad8edbc3672602641244c67a92.addTo(map_694eb5f1a3ee93e9ccdaca8d221bb58a);\n",
       "        \n",
       "    \n",
       "            var heat_map_2292b475072b470a5757195976890d61 = L.heatLayer(\n",
       "                [[53.198138, -2.515362], [53.261527, -2.511776], [53.200634, -2.430061], [53.193001, -2.518593], [53.264826, -2.401319], [53.270994, -2.773402], [53.259341, -2.401868], [53.198573, -2.402646], [53.189193, -2.505078], [53.176925, -2.535456], [53.218985, -2.557248], [53.220262, -2.513081], [53.258741, -2.490306], [53.266966, -2.479305], [53.261269, -2.568741], [53.196095, -2.530306], [53.296475, -2.516245], [53.244886, -2.493145], [53.272854, -2.490318], [53.242774, -2.729736], [53.259356, -2.493761], [53.273997, -2.451192], [53.003348, -2.735975], [53.261582, -2.498734], [53.193648, -2.51441], [53.298122, -2.718976], [53.273772, -2.507124], [53.244383, -2.505877], [53.22436, -2.500548], [53.186053, -2.544549], [53.271953, -2.468265], [53.268975, -2.471231], [53.280802, -2.599897], [53.19035, -2.507785], [53.277551, -2.774121], [53.194559, -2.511577], [53.257347, -2.522219], [53.242889, -2.37504], [53.188452, -2.640513], [53.240126, -2.513469], [53.18429, -2.371835], [53.207726, -2.713119], [53.270434, -2.466149], [53.239425, -2.416665], [53.185478, -2.641965], [53.260902, -2.510719], [53.309019, -2.545662], [53.26914, -2.538407], [53.29163, -2.591797], [53.270567, -2.769946], [53.257025, -2.572732], [53.285793, -2.491366], [53.304329, -2.718179], [53.285966, -2.493168], [53.194882, -2.519963], [53.257768, -2.567645], [53.27153, -2.461662], [53.1902, -2.521703], [53.287516, -2.733498], [53.249364, -2.401774], [53.191094, -2.380575], [53.247572, -2.372084], [53.261216, -2.727351], [53.227222, -2.618472], [53.237551, -2.412601], [53.190497, -2.51557], [53.253857, -2.402266], [53.222041, -2.662582], [53.193467, -2.514707], [53.191512, -2.5301], [53.297287, -2.723313], [53.190497, -2.51557], [53.191284, -2.499564], [53.256079, -2.524452], [53.19211, -2.516787], [53.199048, -2.706239], [53.24832, -2.488689], [53.227309, -2.483057], [53.200371, -2.63066], [53.214749, -2.453714], [53.265189, -2.473888], [53.192493, -2.531759], [53.245713, -2.510239], [53.27599, -2.779191], [53.297195, -2.723611], [53.176704, -2.6354], [53.248876, -2.584763], [53.180456, -2.529964], [53.21282, -2.655851], [53.264512, -2.746748], [53.197312, -2.596186], [53.186714, -2.537524], [53.262903, -2.526185], [53.032732, -2.737966], [53.298222, -2.717327], [53.157479, -2.649773], [53.25308, -2.53176], [53.195586, -2.543622], [53.200341, -2.504909], [53.261358, -2.568892], [53.249782, -2.48301], [53.187011, -2.64109], [53.182807, -2.546753], [53.134523, -2.761533], [53.178668, -2.527697], [53.189662, -2.378616], [53.230848, -2.594854], [53.243863, -2.432443], [53.195795, -2.473571], [53.257659, -2.51248], [53.160788, -2.669117], [53.250001, -2.473121], [53.192906, -2.476683], [53.183083, -2.545409], [53.281841, -2.764149], [53.207458, -2.580456], [53.298223, -2.717177], [53.227441, -2.628212], [53.258556, -2.51279], [53.261144, -2.78132], [53.243073, -2.401266], [53.18429, -2.371985], [53.250049, -2.483612], [53.23978, -2.510168], [53.24963, -2.539211], [53.254623, -2.58604], [53.26678, -2.480653], [53.309472, -2.544768], [53.285966, -2.493168], [53.274721, -2.44985], [53.248089, -2.379432], [53.251, -2.470434], [53.215291, -2.647802], [53.191627, -2.54447], [53.24496, -2.518172], [53.274564, -2.531577], [53.191786, -2.56812], [53.25063, -2.473277], [53.29273, -2.509149], [53.278291, -2.479582], [53.189715, -2.529779], [53.300437, -2.70761], [53.213354, -2.569304], [53.239513, -2.417115], [53.248563, -2.371493], [53.19264, -2.518739], [53.208103, -2.57717], [53.234324, -2.383055], [53.297636, -2.517909], [53.245881, -2.491508], [53.249297, -2.533362], [53.251988, -2.534594], [53.297726, -2.517911], [53.197311, -2.596336], [53.219979, -2.494806], [53.22412, -2.627264], [53.227221, -2.618622], [53.250452, -2.472826], [53.241075, -2.728209], [53.183573, -2.37123], [53.26527, -2.498177], [53.193882, -2.542703], [53.264131, -2.571778], [53.229012, -2.461504], [53.183898, -2.543923], [53.197311, -2.596336], [53.1898, -2.550733], [53.208101, -2.497814], [53.289125, -2.749428], [53.214584, -2.425409], [53.190771, -2.53503], [53.24954, -2.53936], [53.268106, -2.463724], [53.196291, -2.386009], [53.27124, -2.466757], [53.232733, -2.595479], [53.295287, -2.72703], [53.197416, -2.494846], [53.276145, -2.559491], [53.270173, -2.548616], [53.27562, -2.767037], [53.199926, -2.496521], [53.196212, -2.458757], [53.261183, -2.508174], [53.296474, -2.516395], [53.266599, -2.4811], [53.178668, -2.527697], [53.192161, -2.525468], [53.260088, -2.512059], [53.260358, -2.511912], [53.309702, -2.691254], [53.275168, -2.495743], [53.251434, -2.678923], [53.278458, -2.601364], [53.289936, -2.720038], [53.28277, -2.715718], [53.279718, -2.600932], [53.263339, -2.529039], [53.191003, -2.380873], [53.193473, -2.491956], [53.198572, -2.402796], [53.261582, -2.498884], [53.191484, -2.449427], [53.18823, -2.376808], [53.239939, -2.592583], [53.260472, -2.506217], [53.258118, -2.510237], [53.198808, -2.505939], [53.266689, -2.480951], [53.270698, -2.551622], [53.224899, -2.500555], [53.192247, -2.526367], [53.236122, -2.41004], [53.20475, -2.652134], [53.294955, -2.591993], [53.228522, -2.610551], [53.19701, -2.584506], [53.193629, -2.539107], [53.198749, -2.55938], [53.163986, -2.675897], [53.254163, -2.488755], [53.294279, -2.601286], [53.198216, -2.558026], [53.270161, -2.466896], [53.236443, -2.512825], [53.230849, -2.594704], [53.287292, -2.498584], [53.246578, -2.401598], [53.32818, -2.580591], [53.282244, -2.743008], [53.257475, -2.572588], [53.244217, -2.434095], [53.230849, -2.594704], [53.260517, -2.516711], [53.250718, -2.473578], [53.187941, -2.544573], [53.266143, -2.772865], [53.263955, -2.532195], [53.327007, -2.581627], [53.270072, -2.657326], [53.306964, -2.713571], [53.296833, -2.516549], [53.154507, -2.667075], [53.256691, -2.463301], [53.278458, -2.601364], [53.249757, -2.510587], [53.250251, -2.477919], [53.260716, -2.512366], [53.191027, -2.496568], [53.245014, -2.546197], [53.197432, -2.445298], [53.193216, -2.53087], [53.195695, -2.539432], [53.261404, -2.498432], [53.215557, -2.454022], [53.188887, -2.513755], [53.248189, -2.596593], [53.263431, -2.775215], [53.204225, -2.649431], [53.24868, -2.530657], [53.196912, -2.463854], [53.242709, -2.375188], [53.23076, -2.594553], [53.246112, -2.598363], [53.24978, -2.48346], [53.299385, -2.718247], [53.203428, -2.428143], [53.22418, -2.500546], [53.247475, -2.402206], [53.190175, -2.485184], [53.235711, -2.574695], [53.241511, -2.63636], [53.306239, -2.71446], [53.205501, -2.517397], [53.188318, -2.454482], [53.194544, -2.515169], [53.19877, -2.471508], [53.20484, -2.652136], [53.27244, -2.458823], [53.197186, -2.506968], [53.271251, -2.463908], [53.180544, -2.530264], [53.274942, -2.603414], [53.160816, -2.40319], [53.253161, -2.513325], [53.196656, -2.460408], [53.304984, -2.698831], [53.228574, -2.381956], [53.259931, -2.585213], [53.251462, -2.791036], [53.260516, -2.516861], [53.278201, -2.479581], [53.264224, -2.490219], [53.280318, -2.570344], [53.286055, -2.493319], [53.191885, -2.547018], [53.196341, -2.535698], [53.270711, -2.548773], [53.24991, -2.47327], [53.286603, -2.735883], [53.187828, -2.529755], [53.191293, -2.558385], [53.262045, -2.537119], [53.185901, -2.374243], [53.252006, -2.391157], [53.260691, -2.496925], [53.240039, -2.512868], [53.256261, -2.523855], [53.158193, -2.650681], [53.21291, -2.655702], [53.270434, -2.465999], [53.240218, -2.51302], [53.194166, -2.613805], [53.26195, -2.401442], [53.272535, -2.698452], [53.220897, -2.41963], [53.213354, -2.569304], [53.257198, -2.515022], [53.192912, -2.518293], [53.253881, -2.4916], [53.249815, -2.594817], [53.189712, -2.442524], [53.249347, -2.580423], [53.253218, -2.56039], [53.251275, -2.469238], [53.295922, -2.72599], [53.196341, -2.535698], [53.192853, -2.443903], [53.297102, -2.516853], [53.240218, -2.51302], [53.19077, -2.493572], [53.189757, -2.540405], [53.247005, -2.543225], [53.21195, -2.682642], [53.227475, -2.507925], [53.193216, -2.53087], [53.234789, -2.405533], [53.261769, -2.576993], [53.242738, -2.512151], [53.276669, -2.562647], [53.184687, -2.439928], [53.272591, -2.550447], [53.184388, -2.447856], [53.263082, -2.526337], [53.240286, -2.401539], [53.264401, -2.590222], [53.187397, -2.545614], [53.187729, -2.467496], [53.211263, -2.661068], [53.259524, -2.517599], [53.268411, -2.797047], [53.178941, -2.438223], [53.244471, -2.547089], [53.297048, -2.733062], [53.299619, -2.709247], [53.213175, -2.569152], [53.251884, -2.474191], [53.276145, -2.559491], [53.227596, -2.665963], [53.268344, -2.471824], [53.188533, -2.532907], [53.189137, -2.558058], [53.189794, -2.467968], [53.218606, -2.456001], [53.197001, -2.464154], [53.236604, -2.400306], [53.291215, -2.716609], [53.185095, -2.373189], [53.181705, -2.532074], [53.218052, -2.504219], [53.228664, -2.382106], [53.261449, -2.509077], [53.190914, -2.380872], [53.193826, -2.514712], [53.258918, -2.512345], [53.188954, -2.539198], [53.295767, -2.591405], [53.274168, -2.769111], [53.218971, -2.377227], [53.256965, -2.48489], [53.195945, -2.581797], [53.193099, -2.516649], [53.20484, -2.652136], [53.275074, -2.557827], [53.211862, -2.682341], [53.309084, -2.640966], [53.259198, -2.569463], [53.180177, -2.467713], [53.309525, -2.642624], [53.250048, -2.546261], [53.32827, -2.580593], [53.238685, -2.514051], [53.215775, -2.657843], [53.251896, -2.535193], [53.29665, -2.724652], [53.273792, -2.698773], [53.260351, -2.72179], [53.254154, -2.420405], [53.280413, -2.748225], [53.250636, -2.535477], [53.189498, -2.538157], [53.288613, -2.715816], [53.203328, -2.499854], [53.19147, -2.453019], [53.194284, -2.512921], [53.188533, -2.532907], [53.230088, -2.462115], [53.198573, -2.402646], [53.285973, -2.721322], [53.207553, -2.579409], [53.258466, -2.512939], [53.195874, -2.453215], [53.194856, -2.437038], [53.258351, -2.402308], [53.259875, -2.578317], [53.206691, -2.625363], [53.259969, -2.497516], [53.171012, -2.418395], [53.218971, -2.377227], [53.191736, -2.45392], [53.27773, -2.774274], [53.189137, -2.558058], [53.203871, -2.498962], [53.265558, -2.592487], [53.204929, -2.652137], [53.286329, -2.736628], [53.175604, -2.441182], [53.19133, -2.550453], [53.19671, -2.46954], [53.276145, -2.559491], [53.192249, -2.526068], [53.256626, -2.52251], [53.260627, -2.512065], [53.186803, -2.537675], [53.238869, -2.513154], [53.235149, -2.579482], [53.261307, -2.727203], [53.165523, -2.607562], [53.297103, -2.72406], [53.191552, -2.541176], [53.188615, -2.534554], [53.192858, -2.442406], [53.213862, -2.42615], [53.175473, -2.427715], [53.274853, -2.485092], [53.196402, -2.521928], [53.290032, -2.748243], [53.198949, -2.39756], [53.218143, -2.50407], [53.197293, -2.434219], [53.274445, -2.451646], [53.241979, -2.541513], [53.264869, -2.508068], [53.249871, -2.483161], [53.193585, -2.548686], [53.26507, -2.772096], [53.197959, -2.51536], [53.271873, -2.465715], [53.260627, -2.512065], [53.295408, -2.736484], [53.263026, -2.402202], [53.264206, -2.536246], [53.192246, -2.546723], [53.245881, -2.491508], [53.179435, -2.536984], [53.234966, -2.406434], [53.178851, -2.438222], [53.200371, -2.63066], [53.173096, -2.637591], [53.183232, -2.490343], [53.185569, -2.641817], [53.312336, -2.547506], [53.285755, -2.580016], [53.280884, -2.744934], [53.299054, -2.713439], [53.305422, -2.715947], [53.195778, -2.477762], [53.283588, -2.634735], [53.263221, -2.493806], [53.215638, -2.561547], [53.159171, -2.668942], [53.258918, -2.512345], [53.296054, -2.719091], [53.263339, -2.529189], [53.195401, -2.503804], [53.197416, -2.494846], [53.154735, -2.674406], [53.187219, -2.545163], [53.240332, -2.463124], [53.189491, -2.539654], [53.246682, -2.471286], [53.279499, -2.750759], [53.305636, -2.538416], [53.287606, -2.7335], [53.295881, -2.718038], [53.233102, -2.399225], [53.187738, -2.529754], [53.260358, -2.511912], [53.192684, -2.529366], [53.18205, -2.369571], [53.238776, -2.513752], [53.208582, -2.490333], [53.178842, -2.687353], [53.192688, -2.528319], [53.255374, -2.478126], [53.264678, -2.489175], [53.183182, -2.543316], [53.260339, -2.495122], [53.260737, -2.507269], [53.255804, -2.525498], [53.280657, -2.766528], [53.193466, -2.514857], [53.19136, -2.543868], [53.31594, -2.545751], [53.250457, -2.535325], [53.194947, -2.504846], [53.261433, -2.778327], [53.288344, -2.504896], [53.19518, -2.534037], [53.259341, -2.402017], [53.176383, -2.628064], [53.184348, -2.458331], [53.254935, -2.402276], [53.181705, -2.531925], [53.236735, -2.528261], [53.260811, -2.511018], [53.264387, -2.535949], [53.22213, -2.496329], [53.312064, -2.621348], [53.274171, -2.452693], [53.280938, -2.706388], [53.294461, -2.729717], [53.262833, -2.500698], [53.270176, -2.547867], [53.269946, -2.679816], [53.198079, -2.508176], [53.228384, -2.412064], [53.200281, -2.630659], [53.195597, -2.579397], [53.251479, -2.485577], [53.258909, -2.493007], [53.272429, -2.546546], [53.274618, -2.782766], [53.260827, -2.50742], [53.267886, -2.537492], [53.186714, -2.537524], [53.157208, -2.650068], [53.266052, -2.773013], [53.189162, -2.491159], [53.189757, -2.540405], [53.26127, -2.568591], [53.24579, -2.491807], [53.198061, -2.420605], [53.252718, -2.532355], [53.253977, -2.490252], [53.201942, -2.639366], [53.257858, -2.567796], [53.323129, -2.584126], [53.196521, -2.494087], [53.240905, -2.45444], [53.254665, -2.47572], [53.19405, -2.384044], [53.232853, -2.607317], [53.241511, -2.63636], [53.241526, -2.682363], [53.247682, -2.571558], [53.184761, -2.551866], [53.214929, -2.453865], [53.261003, -2.508322], [53.269186, -2.671258], [53.228615, -2.609803], [53.18133, -2.644297], [53.301693, -2.6278], [53.226093, -2.628192], [53.258466, -2.512939], [53.286848, -2.497228], [53.207919, -2.49841], [53.262195, -2.502789], [53.241735, -2.555595], [53.188025, -2.384738], [53.190257, -2.48698], [53.190578, -2.767614], [53.208583, -2.490033], [53.295742, -2.726137], [53.183942, -2.534347], [53.240972, -2.619269], [53.279539, -2.600929], [53.269726, -2.548011], [53.281605, -2.482469], [53.214547, -2.524844], [53.223381, -2.559102], [53.196656, -2.460259], [53.212816, -2.568998], [53.291988, -2.592102], [53.153141, -2.731356], [53.251797, -2.47359], [53.195508, -2.579246], [53.215288, -2.648251], [53.278381, -2.479583], [53.180495, -2.741547], [53.085098, -2.87667], [53.127494, -2.675026], [53.271305, -2.593766], [53.311499, -2.675674], [53.26334, -2.528889], [53.240087, -2.616559], [53.250201, -2.552108], [53.275165, -2.767779], [53.208997, -2.498423], [53.241511, -2.63636], [53.25722, -2.48849], [53.196709, -2.469839], [53.301008, -2.528004], [53.242416, -2.667991], [53.282084, -2.474975], [53.263517, -2.529491], [53.250267, -2.474023], [53.248876, -2.584763], [53.208582, -2.490333], [53.19365, -2.513961], [53.206075, -2.487908], [53.280207, -2.574692], [53.275168, -2.495743], [53.23085, -2.594554], [53.23417, -2.402531], [53.246916, -2.543223], [53.255623, -2.525946], [53.190251, -2.550439], [53.198655, -2.632132], [53.29428, -2.730013], [53.197385, -2.562656], [53.261493, -2.498583], [53.244899, -2.570772], [53.23849, -2.400773], [53.197235, -2.425536], [53.257148, -2.584426], [53.180601, -2.537597], [53.261408, -2.577288], [53.295051, -2.513077], [53.191208, -2.646241], [53.19225, -2.525769], [53.249778, -2.483759], [53.190704, -2.529791], [53.274077, -2.596654], [53.227395, -2.385241], [53.222284, -2.457837], [53.185748, -2.552327], [53.258109, -2.491049], [53.241511, -2.63636], [53.287632, -2.714449], [53.236733, -2.567816], [53.154343, -2.664231], [53.288337, -2.585002], [53.256411, -2.550389], [53.181781, -2.644154], [53.225349, -2.50056], [53.19264, -2.518739], [53.305693, -2.715651], [53.264713, -2.457841], [53.24039, -2.514671], [53.23577, -2.522856], [53.195014, -2.510235], [53.258985, -2.678893], [53.185387, -2.642113], [53.261948, -2.401892], [53.252853, -2.522165], [53.292795, -2.592414], [53.249364, -2.401774], [53.189501, -2.557015], [53.230659, -2.596649], [53.309611, -2.691403], [53.293373, -2.506006], [53.199368, -2.649957], [53.188273, -2.64051], [53.260563, -2.506068], [53.292999, -2.509452], [53.257574, -2.489993], [53.248181, -2.541591], [53.239864, -2.467764], [53.262901, -2.526635], [53.257612, -2.502436], [53.28676, -2.753886], [53.258737, -2.512642], [53.245532, -2.510536], [53.255907, -2.542738], [53.239075, -2.62089], [53.257839, -2.512482], [53.239333, -2.688472], [53.291629, -2.534939], [53.312062, -2.68739], [53.271164, -2.463308], [53.251613, -2.679076], [53.203658, -2.506895], [53.253858, -2.401966], [53.199598, -2.391728], [53.233284, -2.398627], [53.200371, -2.63066], [53.28017, -2.600488], [53.200281, -2.630659], [53.195061, -2.520265], [53.282292, -2.589569], [53.261232, -2.517619], [53.213981, -2.530827], [53.251183, -2.469686], [53.305431, -2.581934], [53.260776, -2.577729], [53.265202, -2.534609], [53.261582, -2.498884], [53.256783, -2.567033], [53.257523, -2.502135], [53.253185, -2.732311], [53.204306, -2.562896], [53.252892, -2.513172], [53.255907, -2.542738], [53.19264, -2.518888], [53.299604, -2.726653], [53.264915, -2.40162], [53.251094, -2.469536], [53.157479, -2.649773], [53.326285, -2.582067], [53.291931, -2.731924], [53.258732, -2.750995], [53.157381, -2.667568], [53.25943, -2.402168], [53.254262, -2.528777], [53.261178, -2.509224], [53.234002, -2.399083], [53.241654, -2.421931], [53.182276, -2.482251], [53.309702, -2.691254], [53.195394, -2.50545], [53.190261, -2.507784], [53.191096, -2.501658], [53.27391, -2.556762], [53.260824, -2.50802], [53.282202, -2.589567], [53.255463, -2.478427], [53.174971, -2.65662], [53.19264, -2.518739], [53.179277, -2.468003], [53.195841, -2.546769], [53.260075, -2.515057], [53.251434, -2.678923], [53.27391, -2.556762], [53.273021, -2.722603], [53.20475, -2.652134], [53.218143, -2.50407], [53.292688, -2.51905], [53.218143, -2.50407], [53.268511, -2.710082], [53.288344, -2.504746], [53.273344, -2.698465], [53.180783, -2.645785], [53.258714, -2.517889], [53.262744, -2.579855], [53.239388, -2.401081], [53.19877, -2.471508], [53.271346, -2.46256], [53.251795, -2.47419], [53.185096, -2.37289], [53.213472, -2.699138], [53.191631, -2.381477], [53.21177, -2.682639], [53.241654, -2.778867], [53.288202, -2.59415], [53.238878, -2.467154], [53.193243, -2.383438], [53.292903, -2.719938], [53.191979, -2.526065], [53.19877, -2.471508], [53.31189, -2.5469], [53.205492, -2.498382], [53.241831, -2.422532], [53.182893, -2.462805], [53.275438, -2.767334], [53.15739, -2.649622], [53.199638, -2.649961], [53.247662, -2.372084], [53.287113, -2.498281], [53.199277, -2.650105], [53.245558, -2.545154], [53.196773, -2.596179], [53.202847, -2.507334], [53.260517, -2.516711], [53.23082, -2.382425], [53.258197, -2.49135], [53.250475, -2.391893], [53.248857, -2.551041], [53.214839, -2.453864], [53.261089, -2.509073], [53.258353, -2.401858], [53.270039, -2.538568], [53.296923, -2.5167], [53.202809, -2.6286], [53.192634, -2.477279], [53.273539, -2.7691], [53.183649, -2.613804], [53.183648, -2.613954], [53.261857, -2.577294], [53.251265, -2.535485], [53.241859, -2.67113], [53.179504, -2.649507], [53.275529, -2.767186], [53.268063, -2.538094], [53.264569, -2.535501], [53.214009, -2.652125], [53.20232, -2.758841], [53.182186, -2.4824], [53.232604, -2.716829], [53.306239, -2.71461], [53.303785, -2.719071], [53.19264, -2.518739], [53.259942, -2.564226], [53.240073, -2.601575], [53.186714, -2.537673], [53.241743, -2.422082], [53.198737, -2.650247], [53.206808, -2.566073], [53.236629, -2.570812], [53.255704, -2.485625], [53.251094, -2.469536], [53.263516, -2.529791], [53.296015, -2.725542], [53.231545, -2.501981], [53.199098, -2.650102], [53.301072, -2.626291], [53.294831, -2.728072], [53.258353, -2.401858], [53.257231, -2.567338], [53.257841, -2.490446], [53.195356, -2.573556], [53.239865, -2.467615], [53.297191, -2.517004], [53.221745, -2.502465], [53.23661, -2.593136], [53.24733, -2.510558], [53.190075, -2.529783], [53.304801, -2.699279], [53.260517, -2.516711], [53.296923, -2.5167], [53.184348, -2.458331], [53.299332, -2.712094], [53.191094, -2.380575], [53.177862, -2.526939], [53.239864, -2.467764], [53.191632, -2.48056], [53.256588, -2.550991], [53.284878, -2.738553], [53.295651, -2.726286], [53.187576, -2.545616], [53.234877, -2.405983], [53.198829, -2.40669], [53.275329, -2.597871], [53.273995, -2.496779], [53.261359, -2.568742], [53.258092, -2.516232], [53.29875, -2.719286], [53.258109, -2.491049], [53.242477, -2.623637], [53.220939, -2.457074], [53.259533, -2.494363], [53.180356, -2.467865], [53.199727, -2.522118], [53.275148, -2.541782], [53.250047, -2.546411], [53.261141, -2.78177], [53.300054, -2.711655], [53.227326, -2.665959], [53.328181, -2.580441], [53.297656, -2.721819], [53.236378, -2.527658], [53.242443, -2.517992], [53.259535, -2.574265], [53.186567, -2.550093], [53.262741, -2.500996], [53.210892, -2.679031], [53.250579, -2.485867], [53.238866, -2.513753], [53.260645, -2.528556], [53.275624, -2.780235], [53.19264, -2.518739], [53.26283, -2.580605], [53.226094, -2.628042], [53.238671, -2.400475], [53.272845, -2.470224], [53.22189, -2.510555], [53.252617, -2.514368], [53.26159, -2.518073], [53.19264, -2.518739], [53.18556, -2.643463], [53.2782, -2.479731], [53.240717, -2.501339], [53.237478, -2.5019], [53.250463, -2.49231], [53.252817, -2.790012], [53.215101, -2.649596], [53.297563, -2.722267], [53.2708, -2.464353], [53.192919, -2.516647], [53.260746, -2.505171], [53.287499, -2.59084], [53.26669, -2.480802], [53.188952, -2.539647], [53.276419, -2.558444], [53.241928, -2.512442], [53.292436, -2.592259], [53.187913, -2.530804], [53.193038, -2.488359], [53.145734, -2.66051], [53.253858, -2.401966], [53.211741, -2.568384], [53.192527, -2.382383], [53.262938, -2.401601], [53.309702, -2.691254], [53.157479, -2.649773], [53.234899, -2.399541], [53.2461, -2.544562], [53.190538, -2.526795], [53.260254, -2.515209], [53.228577, -2.562765], [53.285395, -2.478912], [53.248375, -2.401765], [53.252484, -2.481542], [53.250111, -2.551957], [53.196149, -2.401725], [53.280351, -2.600341], [53.232355, -2.59922], [53.254819, -2.564159], [53.276145, -2.559491], [53.254023, -2.541964], [53.270358, -2.462399], [53.263339, -2.529039], [53.203028, -2.507037], [53.308784, -2.70985], [53.241655, -2.778718], [53.234688, -2.581723], [53.209409, -2.732164], [53.260934, -2.503224], [53.285965, -2.493318], [53.19264, -2.518739], [53.262201, -2.522129], [53.193008, -2.516797], [53.206032, -2.498089], [53.306075, -2.696748], [53.192724, -2.47713], [53.258357, -2.517285], [53.214272, -2.700799], [53.196709, -2.46969], [53.285966, -2.493168], [53.217963, -2.503918], [53.259838, -2.585812], [53.250485, -2.639191], [53.256335, -2.485032], [53.295832, -2.725989], [53.246706, -2.509351], [53.250814, -2.535929], [53.228664, -2.381956], [53.190331, -2.490873], [53.267371, -2.804674], [53.184032, -2.64344], [53.202291, -2.641318], [53.257329, -2.584279], [53.169522, -2.522349], [53.301254, -2.706273], [53.322171, -2.558891], [53.258557, -2.51264], [53.270218, -2.695115], [53.201588, -2.507469], [53.231075, -2.462725], [53.175521, -2.638076], [53.292316, -2.742282], [53.285876, -2.493167], [53.262527, -2.50924], [53.191814, -2.479964], [53.197692, -2.514758], [53.202308, -2.507328], [53.281748, -2.572163], [53.234484, -2.46456], [53.240216, -2.51332], [53.293974, -2.608333], [53.240215, -2.51362], [53.269189, -2.58534], [53.18142, -2.644298], [53.263936, -2.536393], [53.260099, -2.587614], [53.180267, -2.467565], [53.281794, -2.599311], [53.260342, -2.51566], [53.213839, -2.501324], [53.224163, -2.601502], [53.189445, -2.529925], [53.298839, -2.719288], [53.19885, -2.49591], [53.275843, -2.602977], [53.22463, -2.500402]],\n",
       "                {\n",
       "  &quot;minOpacity&quot;: 0.5,\n",
       "  &quot;maxZoom&quot;: 18,\n",
       "  &quot;radius&quot;: 25,\n",
       "  &quot;blur&quot;: 15,\n",
       "}\n",
       "            );\n",
       "        \n",
       "    \n",
       "            heat_map_2292b475072b470a5757195976890d61.addTo(map_694eb5f1a3ee93e9ccdaca8d221bb58a);\n",
       "        \n",
       "&lt;/script&gt;\n",
       "&lt;/html&gt;\" style=\"position:absolute;width:100%;height:100%;left:0;top:0;border:none !important;\" allowfullscreen webkitallowfullscreen mozallowfullscreen></iframe></div></div>"
      ],
      "text/plain": [
       "<folium.folium.Map at 0x238e5ee3b60>"
      ]
     },
     "execution_count": 54,
     "metadata": {},
     "output_type": "execute_result"
    }
   ],
   "source": [
    "# Step 1: Extract latitude and longitude from the DataFrame\n",
    "locations = list(zip(vale_royal_df['Latitude'], vale_royal_df['Longitude']))\n",
    "\n",
    "# Step 2: Create a base map centered on a specific location\n",
    "m = folium.Map(location=[vale_royal_df['Latitude'].mean(), vale_royal_df['Longitude'].mean()], zoom_start=10)\n",
    "\n",
    "# Step 3: Add the heatmap layer\n",
    "HeatMap(locations).add_to(m)\n",
    "\n",
    "# Step 4: Save or display the map\n",
    "m"
   ]
  },
  {
   "cell_type": "markdown",
   "id": "80b023b4-b3ea-4fcf-8df7-51d32c21900d",
   "metadata": {},
   "source": [
    "<h3>Insight 30</h3>\n",
    "<h3>Most accidents happen in busy central areas like Rudheath, Northwich, and Winsford. But there are also some accident hotspots farther away, such as in Farndon and on roads like the A41 and B5395.</h3>\n",
    "<hr>\n",
    "<br>"
   ]
  },
  {
   "cell_type": "markdown",
   "id": "a94c7561-baf0-4329-a491-aa46eed0ef0e",
   "metadata": {},
   "source": [
    "<h2>Warwick District</h2>"
   ]
  },
  {
   "cell_type": "markdown",
   "id": "74d85ba0-46fa-441d-96d1-908da195acba",
   "metadata": {},
   "source": [
    "<img src=\"https://www.visitwarwick.co.uk/wp-content/uploads/2022/02/StMarysChurch.jpg\">"
   ]
  },
  {
   "cell_type": "code",
   "execution_count": 51,
   "id": "f31b9ced-b2e3-413f-98ba-98113f6778d2",
   "metadata": {},
   "outputs": [],
   "source": [
    "warwick_df = case[case['District Area'] == 'Warwick']"
   ]
  },
  {
   "cell_type": "code",
   "execution_count": 52,
   "id": "2cf439fd-cf7d-44dc-ba50-5fa1f80ee710",
   "metadata": {},
   "outputs": [
    {
     "data": {
      "image/png": "[encoded data removed]",
      "text/plain": [
       "<Figure size 640x480 with 1 Axes>"
      ]
     },
     "metadata": {},
     "output_type": "display_data"
    },
    {
     "data": {
      "image/png": "[encoded data removed]",
      "text/plain": [
       "<Figure size 640x480 with 1 Axes>"
      ]
     },
     "metadata": {},
     "output_type": "display_data"
    },
    {
     "data": {
      "image/png": "[encoded data removed]",
      "text/plain": [
       "<Figure size 640x480 with 1 Axes>"
      ]
     },
     "metadata": {},
     "output_type": "display_data"
    },
    {
     "name": "stdout",
     "output_type": "stream",
     "text": [
      "DayOfWeek\n",
      "Monday       167\n",
      "Tuesday      238\n",
      "Wednesday    247\n",
      "Thursday     252\n",
      "Friday       217\n",
      "Saturday     231\n",
      "Sunday       241\n",
      "Name: count, dtype: int64\n"
     ]
    }
   ],
   "source": [
    "# Accidents per year\n",
    "accidents_per_year = warwick_df['Year'].value_counts().sort_index()\n",
    "accidents_per_month = warwick_df['Month'].value_counts().sort_index()\n",
    "accidents_per_day = warwick_df['DayOfWeek'].value_counts().sort_index()\n",
    "\n",
    "\n",
    "#PER YEAR \n",
    "accidents_per_year.plot(kind='bar')\n",
    "plt.title('Accidents per Year')\n",
    "plt.xlabel('Year')\n",
    "plt.ylabel('Number of Accidents')\n",
    "plt.show()\n",
    "\n",
    "month_names = {\n",
    "    1: 'January', 2: 'February', 3: 'March', 4: 'April',\n",
    "    5: 'May', 6: 'June', 7: 'July', 8: 'August',\n",
    "    9: 'September', 10: 'October', 11: 'November', 12: 'December'\n",
    "}\n",
    "\n",
    "# Replace numerical months with their names\n",
    "accidents_per_month.index = accidents_per_month.index.map(month_names)\n",
    "\n",
    "\n",
    "accidents_per_month.plot(kind='bar')\n",
    "plt.title('Accidents per Month')\n",
    "plt.xlabel('Month')\n",
    "plt.ylabel('Number of Accidents')\n",
    "plt.show()\n",
    "\n",
    "\n",
    "#accident per day\n",
    "day_names = {\n",
    "    0: 'Monday',\n",
    "    1: 'Tuesday',\n",
    "    2: 'Wednesday',\n",
    "    3: 'Thursday',\n",
    "    4: 'Friday',\n",
    "    5: 'Saturday',\n",
    "    6: 'Sunday'\n",
    "}\n",
    "\n",
    "accidents_per_day.index = accidents_per_day.index.map(day_names)\n",
    "accidents_per_day.plot(kind='bar')\n",
    "plt.title('Accidents per Day')\n",
    "plt.show()\n",
    "print(accidents_per_day)"
   ]
  },
  {
   "cell_type": "markdown",
   "id": "f6c94530-816d-460c-9e86-f6e0d915863d",
   "metadata": {},
   "source": [
    "<h3>Insight 31</h3>\n",
    "<h3>The number of accidents is going down each year, but within a year, they tend to increase in June and November and are most common in the middle of the week, especially on Thursdays.</h3>\n",
    "<hr>\n",
    "<br>"
   ]
  },
  {
   "cell_type": "markdown",
   "id": "659fbd6e-36a3-4be3-b8b6-85bd1f244d89",
   "metadata": {},
   "source": [
    "<h3>Accidents Severity in Warwick</h3>"
   ]
  },
  {
   "cell_type": "code",
   "execution_count": 53,
   "id": "54004df0-d3ef-430c-a629-8faaa2d6c535",
   "metadata": {},
   "outputs": [
    {
     "data": {
      "image/png": "[encoded data removed]",
      "text/plain": [
       "<Figure size 1000x700 with 1 Axes>"
      ]
     },
     "metadata": {},
     "output_type": "display_data"
    },
    {
     "data": {
      "image/png": "[encoded data removed]",
      "text/plain": [
       "<Figure size 1000x700 with 1 Axes>"
      ]
     },
     "metadata": {},
     "output_type": "display_data"
    }
   ],
   "source": [
    "severity_warwick  = warwick_df['Accident_Severity'].value_counts()\n",
    "\n",
    "plt.pie(severity_warwick,\n",
    "        labels = severity_warwick.index,\n",
    "        autopct = '%1.1f%%',\n",
    "        startangle = 90)\n",
    "plt.gcf().set_size_inches(10,7)\n",
    "plt.title('Accident Severity Distribution')\n",
    "plt.show()\n",
    "\n",
    "severity_2019_vale = warwick_df[warwick_df['Year'] == 2019]\n",
    "# severity_2019\n",
    "lsc_2019 = severity_2019_vale['Accident_Severity'].value_counts()\n",
    "\n",
    "plt.pie(lsc_2019,\n",
    "        labels = lsc_2019.index,\n",
    "        autopct = '%1.1f%%',\n",
    "        startangle = 90)\n",
    "plt.gcf().set_size_inches(10,7)\n",
    "plt.title('Accident Severity Distribution in 2019')\n",
    "plt.show()"
   ]
  },
  {
   "cell_type": "markdown",
   "id": "d76dd8d3-50ba-4432-9955-4782392cd927",
   "metadata": {},
   "source": [
    "<h3>Insight 32</h3>\n",
    "<h3>Most accidents are minor, and the share of serious or fatal accidents did not change much in 2019.</h3>\n",
    "<hr>\n",
    "<br>"
   ]
  },
  {
   "cell_type": "code",
   "execution_count": 59,
   "id": "594eef8e-5c7e-4ebc-8c70-115dcb64e52c",
   "metadata": {},
   "outputs": [
    {
     "data": {
      "text/html": [
       "<div style=\"width:100%;\"><div style=\"position:relative;width:100%;height:0;padding-bottom:60%;\"><span style=\"color:#565656\">Make this Notebook Trusted to load map: File -> Trust Notebook</span><iframe srcdoc=\"&lt;!DOCTYPE html&gt;\n",
       "&lt;html&gt;\n",
       "&lt;head&gt;\n",
       "    \n",
       "    &lt;meta http-equiv=&quot;content-type&quot; content=&quot;text/html; charset=UTF-8&quot; /&gt;\n",
       "    &lt;script src=&quot;https://cdn.jsdelivr.net/npm/leaflet@1.9.3/dist/leaflet.js&quot;&gt;&lt;/script&gt;\n",
       "    &lt;script src=&quot;https://code.jquery.com/jquery-3.7.1.min.js&quot;&gt;&lt;/script&gt;\n",
       "    &lt;script src=&quot;https://cdn.jsdelivr.net/npm/bootstrap@5.2.2/dist/js/bootstrap.bundle.min.js&quot;&gt;&lt;/script&gt;\n",
       "    &lt;script src=&quot;https://cdnjs.cloudflare.com/ajax/libs/Leaflet.awesome-markers/2.0.2/leaflet.awesome-markers.js&quot;&gt;&lt;/script&gt;\n",
       "    &lt;link rel=&quot;stylesheet&quot; href=&quot;https://cdn.jsdelivr.net/npm/leaflet@1.9.3/dist/leaflet.css&quot;/&gt;\n",
       "    &lt;link rel=&quot;stylesheet&quot; href=&quot;https://cdn.jsdelivr.net/npm/bootstrap@5.2.2/dist/css/bootstrap.min.css&quot;/&gt;\n",
       "    &lt;link rel=&quot;stylesheet&quot; href=&quot;https://netdna.bootstrapcdn.com/bootstrap/3.0.0/css/bootstrap-glyphicons.css&quot;/&gt;\n",
       "    &lt;link rel=&quot;stylesheet&quot; href=&quot;https://cdn.jsdelivr.net/npm/@fortawesome/fontawesome-free@6.2.0/css/all.min.css&quot;/&gt;\n",
       "    &lt;link rel=&quot;stylesheet&quot; href=&quot;https://cdnjs.cloudflare.com/ajax/libs/Leaflet.awesome-markers/2.0.2/leaflet.awesome-markers.css&quot;/&gt;\n",
       "    &lt;link rel=&quot;stylesheet&quot; href=&quot;https://cdn.jsdelivr.net/gh/python-visualization/folium/folium/templates/leaflet.awesome.rotate.min.css&quot;/&gt;\n",
       "    \n",
       "            &lt;meta name=&quot;viewport&quot; content=&quot;width=device-width,\n",
       "                initial-scale=1.0, maximum-scale=1.0, user-scalable=no&quot; /&gt;\n",
       "            &lt;style&gt;\n",
       "                #map_e67d6af2d047296406a341dc9bb7d7a0 {\n",
       "                    position: relative;\n",
       "                    width: 100.0%;\n",
       "                    height: 100.0%;\n",
       "                    left: 0.0%;\n",
       "                    top: 0.0%;\n",
       "                }\n",
       "                .leaflet-container { font-size: 1rem; }\n",
       "            &lt;/style&gt;\n",
       "\n",
       "            &lt;style&gt;html, body {\n",
       "                width: 100%;\n",
       "                height: 100%;\n",
       "                margin: 0;\n",
       "                padding: 0;\n",
       "            }\n",
       "            &lt;/style&gt;\n",
       "\n",
       "            &lt;style&gt;#map {\n",
       "                position:absolute;\n",
       "                top:0;\n",
       "                bottom:0;\n",
       "                right:0;\n",
       "                left:0;\n",
       "                }\n",
       "            &lt;/style&gt;\n",
       "\n",
       "            &lt;script&gt;\n",
       "                L_NO_TOUCH = false;\n",
       "                L_DISABLE_3D = false;\n",
       "            &lt;/script&gt;\n",
       "\n",
       "        \n",
       "    &lt;script src=&quot;https://cdn.jsdelivr.net/gh/python-visualization/folium@main/folium/templates/leaflet_heat.min.js&quot;&gt;&lt;/script&gt;\n",
       "&lt;/head&gt;\n",
       "&lt;body&gt;\n",
       "    \n",
       "    \n",
       "            &lt;div class=&quot;folium-map&quot; id=&quot;map_e67d6af2d047296406a341dc9bb7d7a0&quot; &gt;&lt;/div&gt;\n",
       "        \n",
       "&lt;/body&gt;\n",
       "&lt;script&gt;\n",
       "    \n",
       "    \n",
       "            var map_e67d6af2d047296406a341dc9bb7d7a0 = L.map(\n",
       "                &quot;map_e67d6af2d047296406a341dc9bb7d7a0&quot;,\n",
       "                {\n",
       "                    center: [52.29731539987445, -1.5628501632140617],\n",
       "                    crs: L.CRS.EPSG3857,\n",
       "                    ...{\n",
       "  &quot;zoom&quot;: 11,\n",
       "  &quot;zoomControl&quot;: true,\n",
       "  &quot;preferCanvas&quot;: false,\n",
       "}\n",
       "\n",
       "                }\n",
       "            );\n",
       "\n",
       "            \n",
       "\n",
       "        \n",
       "    \n",
       "            var tile_layer_d1d96c24afa4c98fd9302e2c934816b9 = L.tileLayer(\n",
       "                &quot;https://tile.openstreetmap.org/{z}/{x}/{y}.png&quot;,\n",
       "                {\n",
       "  &quot;minZoom&quot;: 0,\n",
       "  &quot;maxZoom&quot;: 19,\n",
       "  &quot;maxNativeZoom&quot;: 19,\n",
       "  &quot;noWrap&quot;: false,\n",
       "  &quot;attribution&quot;: &quot;\\u0026copy; \\u003ca href=\\&quot;https://www.openstreetmap.org/copyright\\&quot;\\u003eOpenStreetMap\\u003c/a\\u003e contributors&quot;,\n",
       "  &quot;subdomains&quot;: &quot;abc&quot;,\n",
       "  &quot;detectRetina&quot;: false,\n",
       "  &quot;tms&quot;: false,\n",
       "  &quot;opacity&quot;: 1,\n",
       "}\n",
       "\n",
       "            );\n",
       "        \n",
       "    \n",
       "            tile_layer_d1d96c24afa4c98fd9302e2c934816b9.addTo(map_e67d6af2d047296406a341dc9bb7d7a0);\n",
       "        \n",
       "    \n",
       "            var heat_map_529d48ba5a57983a6bce2d7333e34ccf = L.heatLayer(\n",
       "                [[52.350388, -1.571419], [52.357876, -1.530819], [52.354531, -1.573581], [52.286141, -1.53319], [52.372106, -1.493506], [52.274575, -1.616999], [52.293776, -1.53135], [52.320894, -1.569944], [52.235866, -1.551729], [52.288237, -1.540205], [52.311042, -1.510192], [52.342185, -1.476821], [52.2826, -1.5473], [52.36059, -1.535049], [52.241222, -1.565588], [52.30909, -1.435554], [52.291493, -1.545303], [52.290286, -1.535639], [52.246398, -1.509732], [52.261433, -1.611984], [52.285364, -1.456527], [52.353819, -1.575497], [52.291922, -1.540167], [52.31638, -1.518495], [52.295999, -1.548043], [52.30688, -1.573013], [52.288136, -1.537421], [52.312291, -1.507978], [52.256987, -1.60001], [52.255542, -1.625367], [52.327056, -1.558585], [52.322221, -1.540293], [52.291832, -1.540021], [52.252457, -1.589796], [52.319738, -1.483394], [52.303089, -1.522159], [52.35591, -1.533923], [52.283138, -1.546855], [52.285692, -1.533341], [52.301903, -1.517772], [52.240054, -1.497647], [52.304181, -1.44295], [52.337489, -1.492434], [52.290192, -1.608947], [52.243972, -1.555602], [52.285928, -1.547706], [52.296211, -1.533377], [52.361953, -1.494944], [52.322119, -1.585631], [52.321483, -1.583729], [52.2934, -1.600268], [52.331444, -1.662735], [52.348297, -1.497155], [52.272536, -1.525712], [52.287404, -1.534349], [52.355461, -1.534075], [52.332928, -1.566451], [52.336457, -1.572581], [52.335213, -1.660211], [52.255872, -1.564273], [52.33057, -1.560898], [52.287432, -1.565136], [52.24037, -1.554173], [52.337488, -1.492287], [52.281074, -1.548048], [52.252531, -1.560351], [52.291735, -1.538263], [52.296781, -1.541143], [52.283664, -1.458307], [52.357555, -1.540808], [52.310914, -1.522955], [52.274191, -1.534928], [52.289456, -1.553388], [52.28866, -1.607641], [52.29196, -1.599841], [52.28669, -1.610004], [52.28379, -1.529696], [52.346078, -1.765823], [52.361313, -1.536069], [52.319812, -1.545013], [52.291653, -1.54017], [52.255962, -1.564419], [52.287003, -1.461051], [52.308459, -1.538676], [52.295464, -1.549221], [52.357782, -1.731254], [52.287134, -1.534206], [52.338985, -1.575639], [52.298566, -1.586291], [52.280898, -1.54893], [52.302732, -1.522896], [52.279672, -1.534137], [52.278083, -1.49751], [52.280922, -1.509791], [52.34829, -1.709291], [52.338279, -1.733721], [52.341442, -1.583836], [52.259016, -1.615375], [52.29169, -1.599697], [52.339276, -1.556849], [52.284341, -1.580559], [52.356132, -1.544787], [52.330035, -1.561931], [52.347015, -1.558827], [52.310903, -1.498606], [52.247848, -1.558346], [52.269366, -1.542599], [52.346662, -1.514643], [52.348027, -1.497011], [52.290913, -1.583136], [52.294781, -1.535445], [52.261383, -1.624292], [52.344308, -1.580726], [52.349613, -1.580823], [52.287896, -1.56909], [52.303179, -1.522158], [52.33094, -1.563683], [52.270218, -1.553874], [52.260442, -1.611553], [52.318646, -1.719168], [52.324201, -1.589866], [52.261901, -1.617694], [52.323199, -1.561118], [52.293165, -1.536049], [52.287929, -1.604129], [52.281168, -1.548927], [52.248255, -1.596573], [52.252587, -1.575732], [52.349884, -1.581407], [52.292535, -1.535909], [52.283561, -1.588776], [52.285101, -1.5203], [52.355421, -1.57093], [52.348323, -1.482327], [52.258396, -1.618164], [52.296112, -1.578688], [52.285596, -1.579521], [52.283051, -1.547588], [52.300323, -1.444612], [52.332579, -1.75885], [52.300293, -1.542573], [52.373783, -1.507442], [52.284958, -1.529537], [52.237677, -1.605601], [52.333622, -1.492332], [52.280873, -1.566373], [52.291752, -1.542661], [52.360845, -1.579248], [52.259915, -1.615367], [52.254563, -1.484884], [52.267906, -1.47286], [52.287254, -1.565725], [52.323497, -1.568891], [52.277587, -1.577545], [52.237677, -1.605601], [52.267672, -1.523419], [52.288865, -1.540052], [52.285036, -1.463421], [52.283616, -1.663098], [52.302191, -1.650931], [52.278442, -1.519053], [52.237677, -1.605601], [52.292011, -1.563479], [52.309485, -1.572254], [52.25668, -1.563972], [52.312382, -1.50827], [52.280897, -1.548783], [52.302849, -1.529641], [52.284786, -1.531592], [52.345325, -1.563541], [52.26825, -1.533231], [52.275935, -1.54429], [52.280646, -1.530463], [52.336483, -1.555262], [52.338046, -1.518113], [52.253518, -1.536316], [52.27207, -1.649996], [52.271082, -1.522064], [52.298272, -1.554912], [52.280697, -1.567255], [52.287766, -1.534786], [52.285692, -1.533195], [52.301829, -1.650054], [52.342266, -1.495462], [52.256052, -1.564418], [52.253518, -1.536316], [52.249918, -1.558912], [52.258927, -1.615669], [52.324316, -1.461625], [52.380986, -1.605942], [52.235866, -1.551876], [52.28104, -1.58792], [52.350209, -1.571568], [52.257896, -1.529384], [52.26746, -1.612957], [52.247848, -1.512499], [52.301577, -1.526282], [52.301142, -1.529806], [52.283354, -1.581155], [52.301314, -1.527751], [52.33452, -1.741522], [52.363655, -1.51475], [52.297396, -1.537324], [52.278205, -1.526971], [52.340363, -1.583699], [52.287243, -1.454598], [52.291664, -1.543102], [52.307958, -1.572856], [52.276534, -1.492691], [52.291742, -1.540022], [52.292159, -1.53166], [52.310926, -1.525888], [52.332635, -1.492636], [52.300956, -1.575563], [52.282537, -1.554483], [52.280808, -1.54893], [52.300555, -1.644785], [52.279705, -1.591743], [52.291139, -1.546773], [52.280929, -1.581764], [52.273111, -1.534792], [52.336819, -1.573165], [52.358416, -1.53096], [52.279651, -1.659757], [52.283228, -1.546854], [52.265342, -1.525496], [52.257413, -1.619931], [52.327864, -1.739947], [52.302447, -1.677767], [52.314065, -1.502237], [52.340816, -1.584869], [52.360514, -1.494813], [52.339365, -1.556554], [52.284817, -1.516932], [52.347686, -1.652041], [52.276205, -1.521569], [52.33075, -1.560896], [52.256678, -1.588438], [52.293526, -1.536338], [52.309048, -1.528402], [52.278177, -1.498389], [52.285006, -1.519275], [52.289832, -1.557782], [52.284133, -1.525588], [52.27524, -1.574783], [52.259736, -1.615515], [52.312289, -1.507538], [52.285692, -1.533341], [52.306419, -1.683605], [52.295328, -1.537346], [52.311528, -1.677848], [52.28399, -1.534825], [52.304352, -1.523172], [52.328499, -1.742584], [52.286547, -1.568957], [52.260984, -1.612281], [52.283228, -1.546854], [52.326866, -1.735844], [52.282988, -1.531611], [52.277992, -1.497218], [52.293329, -1.605841], [52.27617, -1.5352], [52.347344, -1.769193], [52.289376, -1.556027], [52.283228, -1.546854], [52.256768, -1.588438], [52.371101, -1.510997], [52.287919, -1.601344], [52.282731, -1.534692], [52.299966, -1.575426], [52.357117, -1.567683], [52.241361, -1.554456], [52.279523, -1.591012], [52.270621, -1.646343], [52.304486, -1.557636], [52.285044, -1.576008], [52.290537, -1.553963], [52.305412, -1.518467], [52.290757, -1.589882], [52.312382, -1.50827], [52.279742, -1.529299], [52.282302, -1.517399], [52.337419, -1.518854], [52.263948, -1.560091], [52.268484, -1.653394], [52.250055, -1.571654], [52.270056, -1.471076], [52.250867, -1.572525], [52.236195, -1.543818], [52.258128, -1.618752], [52.342485, -1.573697], [52.348329, -1.573788], [52.261098, -1.478362], [52.246497, -1.557481], [52.288756, -1.535215], [52.289457, -1.553681], [52.289387, -1.610127], [52.275128, -1.52202], [52.334554, -1.521673], [52.286636, -1.568663], [52.284307, -1.524267], [52.272798, -1.481155], [52.33093, -1.560895], [52.286826, -1.597102], [52.300629, -1.536557], [52.374675, -1.600857], [52.300042, -1.524538], [52.301991, -1.49592], [52.345807, -1.764797], [52.268861, -1.528535], [52.317414, -1.552666], [52.279523, -1.591012], [52.33884, -1.670898], [52.278176, -1.498242], [52.320397, -1.700084], [52.28596, -1.665133], [52.242732, -1.585492], [52.289629, -1.528608], [52.308817, -1.707203], [52.28305, -1.547442], [52.337271, -1.725361], [52.277898, -1.49634], [52.261259, -1.613744], [52.332635, -1.492636], [52.269273, -1.541867], [52.342356, -1.495461], [52.351511, -1.513268], [52.306419, -1.683458], [52.292202, -1.679015], [52.24183, -1.610837], [52.288679, -1.561899], [52.332281, -1.494108], [52.288915, -1.5531], [52.278939, -1.578265], [52.284786, -1.531592], [52.283898, -1.53424], [52.29498, -1.540282], [52.361008, -1.527262], [52.294292, -1.52548], [52.272202, -1.63402], [52.257482, -1.613484], [52.335872, -1.585062], [52.27929, -1.576063], [52.293686, -1.605251], [52.327202, -1.504731], [52.302568, -1.689205], [52.298226, -1.542888], [52.255242, -1.564133], [52.261882, -1.611834], [52.282867, -1.546564], [52.292775, -1.575788], [52.276405, -1.599395], [52.270532, -1.64649], [52.312059, -1.539518], [52.293611, -1.535164], [52.280983, -1.547609], [52.283898, -1.53424], [52.284636, -1.516494], [52.248358, -1.550578], [52.261437, -1.613303], [52.310079, -1.539099], [52.28389, -1.580124], [52.283622, -1.580566], [52.350621, -1.537943], [52.27929, -1.576063], [52.260624, -1.611991], [52.286083, -1.5414], [52.280992, -1.627498], [52.376011, -1.502716], [52.296924, -1.53161], [52.289381, -1.557347], [52.285099, -1.520007], [52.373248, -1.508476], [52.291139, -1.546773], [52.252103, -1.519777], [52.288973, -1.594004], [52.37421, -1.481143], [52.252278, -1.589944], [52.27524, -1.574783], [52.284266, -1.514152], [52.285469, -1.594622], [52.258205, -1.562932], [52.278268, -1.498827], [52.294781, -1.535445], [52.308095, -1.515211], [52.282851, -1.54246], [52.283622, -1.580566], [52.30766, -1.437333], [52.248806, -1.549987], [52.298272, -1.633365], [52.285099, -1.51986], [52.318198, -1.570116], [52.351602, -1.513414], [52.279492, -1.534139], [52.290988, -1.531233], [52.336548, -1.572874], [52.290197, -1.53564], [52.299613, -1.529675], [52.302191, -1.650931], [52.254641, -1.524731], [52.332635, -1.492636], [52.279852, -1.534282], [52.281048, -1.518732], [52.273643, -1.665225], [52.269873, -1.557834], [52.289652, -1.608659], [52.283498, -1.546997], [52.27568, -1.442868], [52.288404, -1.611895], [52.278982, -1.590577], [52.276496, -1.656996], [52.35313, -1.535715], [52.309991, -1.709102], [52.374455, -1.615842], [52.298829, -1.535989], [52.327507, -1.559168], [52.286347, -1.539785], [52.281998, -1.531181], [52.287495, -1.534495], [52.281048, -1.518585], [52.293095, -1.476373], [52.373964, -1.507733], [52.346546, -1.577916], [52.312382, -1.50827], [52.286954, -1.534061], [52.286546, -1.56881], [52.240641, -1.554317], [52.284158, -1.531891], [52.289817, -1.530659], [52.373873, -1.507441], [52.294292, -1.525626], [52.360951, -1.535633], [52.346365, -1.577624], [52.271707, -1.648679], [52.277674, -1.529175], [52.351602, -1.513561], [52.302175, -1.676889], [52.333224, -1.573493], [52.301322, -1.529951], [52.300653, -1.520132], [52.370386, -1.511886], [52.284087, -1.53673], [52.287395, -1.579651], [52.287079, -1.567046], [52.290736, -1.535634], [52.284791, -1.532764], [52.286141, -1.53319], [52.276323, -1.528456], [52.317967, -1.533002], [52.296978, -1.594957], [52.308453, -1.514767], [52.256817, -1.602941], [52.227269, -1.537321], [52.2843, -1.594486], [52.335552, -1.570829], [52.284821, -1.517811], [52.284834, -1.593015], [52.287404, -1.534349], [52.299884, -1.530112], [52.291987, -1.533715], [52.29029, -1.536665], [52.286015, -1.571014], [52.303239, -1.537263], [52.296434, -1.593789], [52.260901, -1.61448], [52.289495, -1.540045], [52.278211, -1.551742], [52.290165, -1.527723], [52.33727, -1.573601], [52.295789, -1.54042], [52.334771, -1.578615], [52.282019, -1.584979], [52.284069, -1.532186], [52.330888, -1.573956], [52.354996, -1.577835], [52.287495, -1.534495], [52.293687, -1.531644], [52.290021, -1.536668], [52.286107, -1.547411], [52.24037, -1.554173], [52.287856, -1.534931], [52.314108, -1.512505], [52.363777, -1.522679], [52.27262, -1.596938], [52.287333, -1.454743], [52.290542, -1.532117], [52.331932, -1.564407], [52.244246, -1.607447], [52.317388, -1.569978], [52.288487, -1.535218], [52.291743, -1.540169], [52.327408, -1.737015], [52.34341, -1.581028], [52.287243, -1.454598], [52.299158, -1.57558], [52.247848, -1.512646], [52.312089, -1.524409], [52.283327, -1.483378], [52.283561, -1.588922], [52.323092, -1.665879], [52.294437, -1.588089], [52.252457, -1.589649], [52.279504, -1.61212], [52.297929, -1.535852], [52.287079, -1.566899], [52.28393, -1.591411], [52.311552, -1.525148], [52.27633, -1.553373], [52.29541, -1.535439], [52.284221, -1.525001], [52.304442, -1.523318], [52.283898, -1.53424], [52.343248, -1.744994], [52.301455, -1.518364], [52.353641, -1.575939], [52.274773, -1.595453], [52.280466, -1.530464], [52.299819, -1.536272], [52.296129, -1.535431], [52.332236, -1.549582], [52.342086, -1.562986], [52.318009, -1.499405], [52.303599, -1.537406], [52.269515, -1.558278], [52.302101, -1.650639], [52.289315, -1.540047], [52.322348, -1.549975], [52.31453, -1.690882], [52.263402, -1.534894], [52.287775, -1.67113], [52.27218, -1.599726], [52.280511, -1.519177], [52.248442, -1.548966], [52.277103, -1.593233], [52.229297, -1.527198], [52.326616, -1.74509], [52.339931, -1.563594], [52.380127, -1.591405], [52.275059, -1.484354], [52.286829, -1.462373], [52.303779, -1.537404], [52.299266, -1.532905], [52.282109, -1.584978], [52.282911, -1.53469], [52.288136, -1.537567], [52.274803, -1.467062], [52.308185, -1.51521], [52.280894, -1.547903], [52.374675, -1.600857], [52.265909, -1.634218], [52.27262, -1.596938], [52.260804, -1.612283], [52.289962, -1.544586], [52.290784, -1.547949], [52.301322, -1.529951], [52.253798, -1.614248], [52.264271, -1.527412], [52.355093, -1.6975], [52.291742, -1.540022], [52.256254, -1.570276], [52.325881, -1.556983], [52.287766, -1.534786], [52.276233, -1.528457], [52.258742, -1.613912], [52.278846, -1.529895], [52.281471, -1.582639], [52.288144, -1.563077], [52.289547, -1.55368], [52.257948, -1.618461], [52.28131, -1.562851], [52.294366, -1.544247], [52.235866, -1.551729], [52.289876, -1.545759], [52.286592, -1.666301], [52.248156, -1.568743], [52.298361, -1.531302], [52.286842, -1.465158], [52.277308, -1.657869], [52.244527, -1.61096], [52.277136, -1.576963], [52.289297, -1.535503], [52.303209, -1.529637], [52.300617, -1.511334], [52.286077, -1.539788], [52.320487, -1.70023], [52.29278, -1.577254], [52.293097, -1.565374], [52.30687, -1.546172], [52.300602, -1.693912], [52.312397, -1.450328], [52.349357, -1.514026], [52.329385, -1.665685], [52.262396, -1.530509], [52.260534, -1.611992], [52.314656, -1.536997], [52.272531, -1.596939], [52.280808, -1.54893], [52.259001, -1.610833], [52.236329, -1.555385], [52.240281, -1.554174], [52.369314, -1.51366], [52.257052, -1.592684], [52.326725, -1.566512], [52.307958, -1.572709], [52.283988, -1.534385], [52.323824, -1.559791], [52.295379, -1.62811], [52.344179, -1.54579], [52.350477, -1.571271], [52.331748, -1.563381], [52.248392, -1.61078], [52.271359, -1.57057], [52.279205, -1.529891], [52.366325, -1.578021], [52.307011, -1.703841], [52.310747, -1.526037], [52.307958, -1.572709], [52.296091, -1.598484], [52.281048, -1.518732], [52.337915, -1.553487], [52.365517, -1.466999], [52.253249, -1.536612], [52.332057, -1.54973], [52.299159, -1.692016], [52.333224, -1.573493], [52.275233, -1.59838], [52.303455, -1.441639], [52.274338, -1.573912], [52.292158, -1.531367], [52.292915, -1.476228], [52.376014, -1.503451], [52.331215, -1.497055], [52.287243, -1.454598], [52.375302, -1.505074], [52.288846, -1.535214], [52.240054, -1.497647], [52.287928, -1.603983], [52.300742, -1.647423], [52.284958, -1.529537], [52.283354, -1.581155], [52.294392, -1.551139], [52.297822, -1.531454], [52.284524, -1.533354], [52.337503, -1.563471], [52.264995, -1.528576], [52.276901, -1.494446], [52.29287, -1.577106], [52.33084, -1.560895], [52.291023, -1.54003], [52.302167, -1.67381], [52.289921, -1.557488], [52.310747, -1.526037], [52.229024, -1.526322], [52.338544, -1.731811], [52.295106, -1.627086], [52.271672, -1.534514], [52.286773, -1.53377], [52.259271, -1.610684], [52.308412, -1.574025], [52.30167, -1.657242], [52.35289, -1.592537], [52.337956, -1.518114], [52.281435, -1.548338], [52.282189, -1.511829], [52.296735, -1.529413], [52.288767, -1.561458], [52.291991, -1.534741], [52.363745, -1.514896], [52.291901, -1.534742], [52.269809, -1.476208], [52.280594, -1.588803], [52.350119, -1.571715], [52.315884, -1.57674], [52.319028, -1.485456], [52.29182, -1.536942], [52.287432, -1.565136], [52.291742, -1.540022], [52.301142, -1.529806], [52.292694, -1.530482], [52.266609, -1.550393], [52.338069, -1.762049], [52.283782, -1.527644], [52.310623, -1.710125], [52.303239, -1.537263], [52.342775, -1.579419], [52.260708, -1.535801], [52.272372, -1.630794], [52.309628, -1.435108], [52.29365, -1.682523], [52.29327, -1.540006], [52.333325, -1.576574], [52.257639, -1.606597], [52.283754, -1.458305], [52.2864, -1.530548], [52.340363, -1.583699], [52.281743, -1.534995], [52.330314, -1.750792], [52.289626, -1.550747], [52.291741, -1.539729], [52.303512, -1.515701], [52.285099, -1.520007], [52.263588, -1.559948], [52.299616, -1.530555], [52.337541, -1.574038], [52.342677, -1.552852], [52.283228, -1.547], [52.352341, -1.518251], [52.289045, -1.54005], [52.257113, -1.584186], [52.307616, -1.661302], [52.355048, -1.755498], [52.323272, -1.665878], [52.3021, -1.650492], [52.317102, -1.541666], [52.287644, -1.599587], [52.289567, -1.5355], [52.271893, -1.522495], [52.284087, -1.53673], [52.308138, -1.572854], [52.283229, -1.547293], [52.291021, -1.70908], [52.360047, -1.534174], [52.325638, -1.418176], [52.374855, -1.505667], [52.279741, -1.529006], [52.268165, -1.667465], [52.281223, -1.563585], [52.306159, -1.525353], [52.30167, -1.657242], [52.276356, -1.536957], [52.278537, -1.5919], [52.341567, -1.544643], [52.297245, -1.522075], [52.290659, -1.562466], [52.303838, -1.529484], [52.286914, -1.461346], [52.359417, -1.534033], [52.288741, -1.579198], [52.331111, -1.561186], [52.285635, -1.590662], [52.24028, -1.554028], [52.286917, -1.524825], [52.286844, -1.465745], [52.314643, -1.666383], [52.289476, -1.558665], [52.283137, -1.546708], [52.312869, -1.539803], [52.296654, -1.531613], [52.268539, -1.64167], [52.273936, -1.613927], [52.253708, -1.614249], [52.33094, -1.563683], [52.27536, -1.535062], [52.258915, -1.61186], [52.296814, -1.526772], [52.275002, -1.513228], [52.290449, -1.554551], [52.278716, -1.591752], [52.301724, -1.540652], [52.289958, -1.592675], [52.339781, -1.571962], [52.287332, -1.45445], [52.246488, -1.509878], [52.282287, -1.559763], [52.287432, -1.565136], [52.259468, -1.615957], [52.281576, -1.586742], [52.283898, -1.53424], [52.362123, -1.559851], [52.285197, -1.594038], [52.283408, -1.546998], [52.278278, -1.545585], [52.290058, -1.595753], [52.338046, -1.518113], [52.283768, -1.547141], [52.246488, -1.509731], [52.320204, -1.530484], [52.291732, -1.53753], [52.294577, -1.693367], [52.323344, -1.576082], [52.369921, -1.466799], [52.2683, -1.523119], [52.332635, -1.492636], [52.294292, -1.52548], [52.304138, -1.56072], [52.284748, -1.522063], [52.29245, -1.537082], [52.309539, -1.708078], [52.22736, -1.537467], [52.266406, -1.544387], [52.283455, -1.584232], [52.292171, -1.534739], [52.349519, -1.579649], [52.286, -1.54316], [52.259994, -1.61185], [52.31477, -1.52042], [52.318546, -1.543119], [52.297247, -1.594808], [52.286136, -1.663812], [52.293686, -1.531351], [52.27536, -1.535062], [52.353848, -1.535413], [52.280961, -1.56564], [52.365801, -1.53426], [52.300326, -1.575569], [52.314657, -1.537144], [52.324405, -1.461477], [52.349575, -1.570253], [52.303239, -1.537263], [52.301671, -1.657388], [52.351603, -1.513708], [52.373873, -1.507441], [52.259091, -1.610686], [52.281345, -1.548192], [52.257137, -1.591218], [52.292865, -1.575787], [52.346928, -1.559562], [52.360935, -1.579247], [52.23893, -1.553602], [52.262173, -1.519815], [52.278197, -1.525065], [52.354027, -1.583424], [52.279703, -1.542052], [52.286141, -1.533043], [52.330893, -1.464774], [52.283895, -1.533507], [52.274146, -1.523643], [52.298619, -1.575732], [52.361024, -1.579099], [52.228477, -1.524571], [52.283894, -1.53336], [52.357875, -1.530672], [52.297298, -1.583663], [52.300554, -1.644638], [52.319935, -1.530634], [52.380986, -1.605942], [52.289926, -1.535496], [52.240002, -1.551834], [52.279742, -1.529153], [52.297283, -1.53146], [52.294946, -1.531631], [52.283898, -1.53424], [52.276599, -1.553224], [52.285929, -1.547999], [52.282835, -1.586877], [52.225178, -1.60498], [52.2843, -1.594486], [52.333417, -1.660959], [52.349045, -1.5729], [52.283561, -1.588922], [52.293862, -1.530323], [52.277421, -1.533428], [52.272202, -1.63402], [52.255275, -1.626102], [52.301666, -1.525987], [52.290756, -1.589736], [52.354699, -1.523365], [52.33084, -1.560895], [52.360382, -1.528003], [52.287243, -1.454598], [52.291622, -1.555565], [52.30074, -1.541982], [52.285185, -1.59052], [52.348652, -1.540019], [52.332012, -1.561618], [52.343409, -1.580881], [52.294392, -1.551139], [52.33093, -1.560895], [52.295167, -1.542333], [52.359506, -1.533886], [52.279613, -1.5422], [52.291879, -1.529171], [52.291752, -1.542661], [52.264558, -1.531658], [52.302759, -1.529495], [52.275262, -1.51088], [52.312661, -1.532618], [52.368777, -1.472247], [52.339415, -1.546133], [52.283898, -1.53424], [52.296025, -1.696876], [52.283293, -1.589218], [52.28564, -1.591982], [52.290377, -1.610412], [52.331659, -1.563382], [52.280895, -1.54805], [52.292882, -1.555992], [52.331916, -1.560151], [52.310059, -1.511816], [52.257452, -1.604401], [52.31504, -1.714937], [52.302447, -1.677767], [52.301315, -1.575413], [52.280804, -1.547904], [52.313645, -1.429189], [52.279613, -1.5422], [52.276462, -1.518488], [52.290165, -1.527576], [52.36717, -1.517062], [52.288103, -1.602515], [52.293862, -1.530323], [52.353854, -1.560521], [52.363655, -1.51475], [52.253161, -1.536906], [52.297092, -1.576186], [52.289374, -1.555441], [52.27224, -1.565725], [52.373618, -1.581036], [52.282005, -1.510805], [52.288322, -1.562635], [52.292076, -1.533567], [52.300554, -1.644638], [52.287965, -1.563519], [52.290196, -1.535493], [52.257129, -1.563821], [52.300603, -1.529958], [52.329527, -1.441458], [52.294226, -1.531492], [52.297323, -1.541871], [52.344398, -1.580872], [52.291735, -1.538263], [52.287697, -1.540211], [52.292437, -1.533857], [52.285044, -1.576008], [52.290124, -1.540039], [52.341602, -1.578109], [52.280784, -1.591733], [52.283318, -1.546999], [52.319812, -1.54516], [52.346671, -1.562941], [52.246488, -1.509878], [52.337199, -1.554375], [52.308231, -1.573586], [52.264122, -1.535033], [52.367314, -1.578011], [52.276297, -1.522154], [52.333492, -1.76589], [52.340017, -1.516624], [52.258218, -1.618605], [52.24037, -1.554173], [52.29118, -1.608499], [52.332006, -1.56015], [52.28211, -1.585271], [52.285647, -1.522053], [52.271891, -1.544624], [52.291337, -1.528443], [52.306172, -1.528726], [52.286226, -1.532016], [52.33094, -1.563683], [52.229852, -1.604939], [52.272202, -1.63402], [52.354922, -1.534228], [52.287356, -1.568949], [52.328861, -1.743903], [52.230667, -1.532454], [52.266149, -1.524754], [52.371817, -1.510108], [52.280898, -1.54893], [52.278417, -1.451335], [52.290204, -1.537546], [52.316739, -1.564556], [52.283561, -1.588922], [52.333217, -1.763103], [52.241275, -1.555629], [52.279522, -1.590865], [52.294791, -1.537938], [52.293611, -1.535164], [52.248029, -1.558491], [52.281318, -1.518582], [52.300955, -1.575416], [52.332454, -1.559705], [52.283045, -1.546269], [52.294117, -1.526801], [52.343034, -1.576481], [52.27407, -1.527308], [52.247848, -1.512499], [52.304573, -1.699604], [52.323542, -1.665876], [52.292524, -1.607167], [52.346635, -1.577915], [52.260992, -1.614625], [52.279802, -1.521823], [52.228144, -1.604954], [52.292159, -1.53166], [52.302088, -1.519237], [52.333127, -1.763103], [52.276304, -1.523913], [52.292151, -1.529754], [52.256987, -1.60001], [52.27876, -1.578706], [52.294862, -1.533098], [52.287495, -1.534495], [52.229848, -1.529974], [52.285134, -1.528509], [52.276642, -1.518486], [52.272798, -1.523804], [52.280978, -1.546437], [52.318319, -1.578918], [52.307379, -1.538393], [52.33093, -1.560895], [52.332638, -1.560731], [52.357876, -1.530819], [52.338046, -1.518113], [52.288472, -1.579201], [52.298557, -1.491706], [52.300259, -1.636135], [52.294482, -1.551138], [52.283051, -1.547588], [52.354609, -1.523366], [52.365088, -1.492118], [52.296978, -1.595104], [52.257948, -1.618461], [52.354609, -1.523366], [52.36437, -1.49242], [52.296471, -1.632354], [52.364478, -1.540736], [52.336643, -1.574194], [52.290201, -1.536666], [52.301316, -1.528337], [52.282671, -1.591569], [52.365178, -1.492117], [52.268344, -1.534256], [52.244876, -1.607735], [52.278205, -1.526971], [52.285151, -1.532907], [52.282182, -1.510217], [52.360366, -1.59658], [52.26272, -1.620911], [52.244694, -1.556181], [52.295576, -1.697173], [52.253709, -1.614395], [52.333492, -1.76589], [52.312382, -1.50827], [52.29604, -1.535579], [52.341946, -1.725479], [52.294291, -1.525333], [52.277747, -1.597624], [52.284543, -1.515908], [52.282777, -1.546712], [52.23139, -1.533472], [52.342302, -1.548745], [52.310623, -1.710271], [52.302198, -1.524222], [52.292756, -1.570656], [52.255782, -1.564274], [52.358061, -1.532139], [52.292159, -1.53166], [52.348196, -1.746287], [52.348566, -1.590081], [52.256348, -1.571594], [52.276399, -1.525084], [52.33121, -1.56368], [52.316482, -1.716688], [52.270183, -1.544788], [52.284636, -1.516494], [52.293766, -1.576365], [52.300833, -1.647569], [52.287305, -1.579798], [52.260618, -1.535656], [52.280862, -1.588214], [52.250566, -1.517743], [52.257138, -1.591364], [52.337308, -1.492289], [52.293443, -1.538098], [52.264011, -1.603316], [52.281318, -1.518582], [52.297665, -1.514739], [52.237128, -1.552742], [52.280977, -1.546144], [52.283989, -1.534532], [52.289895, -1.527579], [52.288824, -1.552808], [52.329478, -1.666712], [52.34235, -1.745586], [52.279343, -1.59116], [52.300693, -1.529957], [52.289379, -1.556907], [52.360951, -1.535633], [52.288193, -1.552374], [52.288054, -1.563224], [52.284636, -1.516494], [52.226452, -1.535134], [52.288487, -1.535218], [52.333492, -1.76589], [52.263543, -1.57211], [52.276399, -1.525084], [52.288589, -1.5619], [52.285928, -1.547706], [52.323497, -1.568891], [52.289023, -1.534333], [52.254032, -1.631093], [52.284791, -1.532764], [52.35234, -1.564353], [52.302579, -1.529497], [52.33812, -1.492867], [52.270236, -1.558563], [52.349056, -1.692109], [52.273599, -1.649984], [52.270107, -1.597986], [52.29452, -1.586035], [52.308728, -1.70735], [52.306568, -1.515375], [52.268685, -1.529563], [52.275071, -1.466766], [52.254325, -1.535721], [52.365834, -1.542631], [52.272602, -1.566307], [52.357875, -1.530672], [52.338894, -1.575346], [52.358419, -1.531694], [52.284423, -1.57836], [52.28102, -1.582203], [52.283266, -1.581742], [52.285516, -1.534369], [52.276541, -1.613318], [52.308698, -1.662321], [52.334739, -1.569809], [52.284727, -1.516786], [52.3285, -1.585131], [52.27442, -1.624768], [52.296211, -1.533377], [52.30276, -1.529642], [52.296294, -1.531617], [52.318286, -1.569675], [52.280237, -1.589539], [52.264723, -1.628806], [52.301671, -1.657388], [52.27262, -1.596938], [52.289789, -1.546493], [52.339438, -1.552004], [52.256792, -1.59547], [52.276348, -1.534905], [52.278368, -1.545584], [52.322227, -1.497597], [52.285288, -1.594184], [52.285379, -1.594476], [52.28357, -1.542306], [52.279467, -1.55085], [52.268254, -1.534257], [52.296562, -1.632793], [52.285485, -1.573658], [52.340395, -1.680574], [52.233386, -1.538136], [52.289385, -1.558373], [52.327228, -1.737162], [52.286829, -1.462373], [52.283498, -1.546997], [52.281397, -1.562117], [52.319902, -1.545159], [52.293372, -1.619183], [52.293537, -1.539124], [52.247486, -1.490679], [52.342019, -1.682764], [52.278592, -1.511576], [52.288757, -1.535362], [52.225076, -1.528414], [52.256707, -1.596935], [52.342749, -1.548154], [52.321442, -1.548224], [52.323632, -1.665875], [52.295104, -1.626646], [52.356612, -1.730821], [52.300554, -1.644638], [52.295666, -1.697319], [52.292265, -1.535911], [52.288101, -1.601928], [52.301671, -1.657388], [52.354609, -1.523219], [52.255243, -1.564426], [52.290616, -1.528011], [52.29182, -1.536942], [52.287928, -1.603983], [52.332548, -1.560732], [52.267662, -1.543788], [52.347618, -1.576144], [52.263493, -1.535186], [52.33093, -1.560895], [52.25531, -1.583031], [52.286086, -1.591098], [52.303149, -1.537264], [52.280983, -1.547609], [52.277603, -1.533866], [52.261811, -1.617695], [52.302508, -1.700645], [52.319928, -1.576262], [52.293123, -1.525492], [52.283651, -1.588922], [52.331906, -1.666987], [52.285927, -1.547559], [52.342839, -1.548153], [52.288589, -1.5619], [52.260812, -1.614627], [52.297247, -1.594808], [52.295106, -1.627086], [52.314657, -1.537144], [52.286077, -1.539788], [52.357002, -1.514823], [52.292895, -1.536051], [52.270168, -1.645028], [52.281066, -1.54585], [52.294097, -1.479147], [52.285604, -1.533635], [52.272202, -1.63402], [52.348377, -1.474105], [52.293686, -1.605104], [52.272888, -1.523949], [52.312089, -1.571349], [52.338805, -1.575347], [52.282949, -1.459195], [52.27655, -1.517901], [52.238009, -1.547754], [52.237471, -1.548198], [52.253618, -1.61425], [52.287461, -1.598856], [52.283898, -1.53424], [52.341465, -1.476536], [52.273586, -1.564979], [52.270057, -1.559005], [52.291905, -1.535768], [52.324496, -1.46177], [52.342266, -1.495462], [52.260273, -1.614632], [52.35658, -1.593531], [52.288626, -1.597672], [52.316648, -1.518052], [52.288679, -1.561899], [52.288029, -1.533023], [52.287766, -1.534786], [52.28638, -1.525417], [52.333399, -1.764423], [52.353132, -1.559647], [52.285099, -1.520007], [52.291972, -1.577555], [52.260299, -1.570237], [52.286916, -1.524679], [52.302166, -1.673663], [52.236888, -1.560505], [52.28388, -1.529695], [52.312159, -1.498005], [52.317147, -1.694971], [52.259096, -1.612298], [52.260724, -1.615067], [52.300141, -1.656813], [52.27967, -1.511417], [52.273809, -1.602789], [52.338575, -1.745902], [52.338666, -1.746195], [52.279522, -1.590865], [52.302174, -1.676596], [52.278682, -1.533855], [52.278671, -1.579], [52.370207, -1.512182], [52.283664, -1.458307], [52.339445, -1.57857], [52.286141, -1.533043], [52.286583, -1.467507], [52.280297, -1.510824], [52.288144, -1.563077], [52.295044, -1.556997], [52.298009, -1.489806], [52.291157, -1.528445], [52.285871, -1.533193], [52.324608, -1.553327], [52.277717, -1.495902], [52.282288, -1.58483], [52.326604, -1.66776], [52.287859, -1.610141], [52.349711, -1.583317], [52.341676, -1.549486], [52.288054, -1.563078], [52.366367, -1.518392], [52.353578, -1.535416], [52.276405, -1.599395], [52.372533, -1.509512], [52.27515, -1.574783], [52.374141, -1.506997], [52.258095, -1.608497], [52.269519, -1.559303], [52.280898, -1.54893], [52.25894, -1.619478], [52.231845, -1.534785], [52.236932, -1.548497], [52.256234, -1.564856], [52.258927, -1.615669], [52.365291, -1.541755], [52.268206, -1.544955], [52.291268, -1.533722], [52.240369, -1.553881], [52.271711, -1.544626], [52.275545, -1.514101], [52.286826, -1.597102], [52.287698, -1.564108], [52.284914, -1.51869], [52.340667, -1.681453], [52.294282, -1.683545], [52.281383, -1.534852], [52.291067, -1.528446], [52.288148, -1.676112], [52.282199, -1.584977], [52.282962, -1.548029], [52.308631, -1.514179], [52.276061, -1.63179], [52.286232, -1.533482], [52.36025, -1.563835], [52.348815, -1.703415], [52.343136, -1.57971], [52.36467, -1.521201], [52.280626, -1.548346], [52.338809, -1.552157], [52.284747, -1.52177], [52.278278, -1.545585], [52.289658, -1.471722], [52.285011, -1.520301], [52.27791, -1.592639], [52.373605, -1.507737], [52.290376, -1.535638], [52.358327, -1.531255], [52.263358, -1.623396], [52.283984, -1.533213], [52.334468, -1.569372], [52.336275, -1.571996], [52.269717, -1.540543], [52.280891, -1.547024], [52.285331, -1.533052], [52.286574, -1.528934], [52.280718, -1.548785], [52.269874, -1.558127], [52.276233, -1.528457], [52.256929, -1.535108], [52.339838, -1.516626], [52.349884, -1.581407], [52.244153, -1.555893], [52.28469, -1.577624], [52.312508, -1.539514], [52.358054, -1.530524], [52.357876, -1.530819], [52.349883, -1.581114], [52.333224, -1.573493], [52.308048, -1.572855], [52.277817, -1.519939], [52.282911, -1.53469], [52.287585, -1.534641], [52.27876, -1.578706], [52.352209, -1.577862], [52.33075, -1.560896], [52.28305, -1.547442], [52.345806, -1.764503], [52.316984, -1.534479], [52.289926, -1.535496], [52.247848, -1.558346], [52.274982, -1.466913], [52.279651, -1.659757], [52.309255, -1.512999], [52.333327, -1.577161], [52.358419, -1.531841], [52.26821, -1.523267], [52.348335, -1.464857], [52.255872, -1.56442], [52.376374, -1.503447], [52.333806, -1.585522], [52.30777, -1.720117], [52.300956, -1.575563], [52.269335, -1.558279], [52.289637, -1.530661], [52.284159, -1.532038], [52.340576, -1.681013], [52.29383, -1.545133], [52.364272, -1.60844], [52.282688, -1.546713], [52.289764, -1.540043], [52.283354, -1.581155], [52.243814, -1.561462], [52.281254, -1.548046], [52.365088, -1.492118], [52.283228, -1.546854], [52.292347, -1.607902], [52.294369, -1.621521], [52.258919, -1.613032], [52.267902, -1.639038], [52.299795, -1.530113], [52.281473, -1.583225], [52.34838, -1.708997], [52.293407, -1.529008], [52.268685, -1.529563], [52.318825, -1.718874], [52.26263, -1.620765], [52.31008, -1.495241], [52.226257, -1.605117], [52.274062, -1.482313], [52.247217, -1.490828], [52.283439, -1.531899], [52.290036, -1.589449], [52.280514, -1.591736], [52.284077, -1.534238], [52.276599, -1.553224], [52.293095, -1.476373], [52.260793, -1.608766], [52.296824, -1.529118], [52.292551, -1.540014], [52.282378, -1.584682], [52.356097, -1.583992], [52.287922, -1.551937], [52.283648, -1.516944], [52.268179, -1.613098], [52.253618, -1.61425], [52.290592, -1.522147], [52.289063, -1.594003], [52.285099, -1.520007], [52.290221, -1.541797], [52.286591, -1.666007], [52.313973, -1.501651], [52.291817, -1.452196], [52.292404, -1.548373], [52.267935, -1.521951], [52.257398, -1.563526], [52.258112, -1.613625], [52.347898, -1.579077], [52.283176, -1.581743], [52.336365, -1.571848], [52.307958, -1.572856], [52.284427, -1.531595], [52.283897, -1.533946], [52.293612, -1.535311], [52.27876, -1.578706], [52.338005, -1.731815], [52.290988, -1.531233], [52.287494, -1.534349], [52.280353, -1.547469], [52.257177, -1.602791], [52.361223, -1.53607], [52.286226, -1.53187], [52.282962, -1.547882], [52.284786, -1.531445], [52.268266, -1.472855], [52.318795, -1.672367], [52.337722, -1.574184], [52.283539, -1.512108], [52.257715, -1.52924], [52.348324, -1.482474], [52.359686, -1.533884], [52.336452, -1.57126], [52.273462, -1.606456], [52.318736, -1.569818], [52.256234, -1.565002], [52.268257, -1.534843], [52.283086, -1.581597], [52.284744, -1.59287], [52.284748, -1.522063], [52.287008, -1.525118], [52.275693, -1.528316], [52.257244, -1.596052], [52.303329, -1.537262], [52.256984, -1.598984], [52.342749, -1.548007], [52.350119, -1.571715], [52.273357, -1.659658], [52.287243, -1.454598], [52.290286, -1.535639], [52.339526, -1.576074], [52.253281, -1.522108], [52.250234, -1.57136], [52.285822, -1.543455], [52.339878, -1.725345], [52.345049, -1.586884], [52.342107, -1.758211], [52.277157, -1.512618], [52.285008, -1.519715], [52.28104, -1.58792], [52.35694, -1.593675], [52.322034, -1.538388], [52.280321, -1.539261], [52.34837, -1.514477], [52.303178, -1.522011], [52.29392, -1.545278], [52.260618, -1.535656], [52.28131, -1.562998], [52.290128, -1.541212], [52.299533, -1.532169], [52.30706, -1.52593], [52.28111, -1.582202], [52.287856, -1.534931], [52.25768, -1.619049], [52.291816, -1.535916], [52.263232, -1.537387], [52.307329, -1.572862], [52.33736, -1.573747], [52.263364, -1.572405], [52.24037, -1.554173], [52.247848, -1.512499], [52.259299, -1.619328], [52.291139, -1.546773], [52.338046, -1.518113], [52.29489, -1.540283], [52.272283, -1.631088], [52.276464, -1.518928], [52.368329, -1.514699], [52.294781, -1.535445], [52.266542, -1.635239], [52.280988, -1.548929], [52.223378, -1.604703], [52.342445, -1.562835], [52.257757, -1.563376], [52.292404, -1.548519], [52.292527, -1.533856], [52.268263, -1.472123], [52.267267, -1.637284], [52.300603, -1.529958], [52.326514, -1.667761], [52.333224, -1.573493], [52.33084, -1.560895], [52.273207, -1.610855], [52.276403, -1.52611], [52.358328, -1.531549], [52.278, -1.592492], [52.247848, -1.558346], [52.311528, -1.677848], [52.365112, -1.476991], [52.297918, -1.48966], [52.257361, -1.604255], [52.31638, -1.518495], [52.287007, -1.524971], [52.28487, -1.530125], [52.278745, -1.527258], [52.354788, -1.523217], [52.291864, -1.525359], [52.241547, -1.556358], [52.284155, -1.531158], [52.281498, -1.590114], [52.300647, -1.645664], [52.283711, -1.580419], [52.246398, -1.509879], [52.349894, -1.559239], [52.286747, -1.55019], [52.279088, -1.501163], [52.292732, -1.540159], [52.287405, -1.534496], [52.261055, -1.606566], [52.289456, -1.553534], [52.287767, -1.535225], [52.283, -1.534689], [52.241004, -1.555192], [52.287495, -1.534495], [52.349122, -1.651149], [52.256676, -1.587852], [52.361041, -1.535632], [52.297734, -1.488636], [52.354699, -1.523218], [52.260618, -1.535656], [52.289063, -1.594003], [52.289838, -1.610417], [52.368844, -1.467253], [52.283139, -1.547148], [52.327771, -1.738627], [52.290162, -1.600004], [52.292265, -1.535911], [52.290717, -1.530796], [52.2864, -1.530548], [52.26821, -1.52312], [52.236012, -1.542941], [52.307282, -1.704426], [52.261087, -1.616236], [52.388336, -1.599558], [52.290499, -1.521415], [52.297247, -1.594808], [52.27382, -1.55545], [52.352773, -1.536306], [52.274608, -1.574056], [52.289717, -1.575377], [52.286833, -1.573352], [52.293333, -1.581061], [52.290836, -1.586656], [52.24028, -1.554028], [52.332634, -1.49249], [52.283561, -1.588776], [52.318962, -1.739265], [52.280627, -1.548493], [52.318286, -1.569822], [52.279529, -1.592917], [52.244721, -1.56365], [52.355818, -1.533337], [52.35322, -1.535714], [52.364312, -1.521646], [52.364272, -1.608587], [52.327591, -1.738774], [52.346149, -1.543715], [52.269679, -1.530725], [52.333946, -1.768382], [52.341811, -1.745736], [52.33094, -1.563683], [52.257093, -1.60455], [52.326875, -1.558293], [52.295328, -1.537492], [52.329117, -1.666274]],\n",
       "                {\n",
       "  &quot;minOpacity&quot;: 0.5,\n",
       "  &quot;maxZoom&quot;: 18,\n",
       "  &quot;radius&quot;: 25,\n",
       "  &quot;blur&quot;: 15,\n",
       "}\n",
       "            );\n",
       "        \n",
       "    \n",
       "            heat_map_529d48ba5a57983a6bce2d7333e34ccf.addTo(map_e67d6af2d047296406a341dc9bb7d7a0);\n",
       "        \n",
       "&lt;/script&gt;\n",
       "&lt;/html&gt;\" style=\"position:absolute;width:100%;height:100%;left:0;top:0;border:none !important;\" allowfullscreen webkitallowfullscreen mozallowfullscreen></iframe></div></div>"
      ],
      "text/plain": [
       "<folium.folium.Map at 0x238e7357ad0>"
      ]
     },
     "execution_count": 59,
     "metadata": {},
     "output_type": "execute_result"
    }
   ],
   "source": [
    "# Step 1: Extract latitude and longitude from the DataFrame\n",
    "locations = list(zip(warwick_df['Latitude'], warwick_df['Longitude']))\n",
    "\n",
    "# Step 2: Create a base map centered on a specific location\n",
    "m = folium.Map(location=[warwick_df['Latitude'].mean(), warwick_df['Longitude'].mean()], zoom_start=11)\n",
    "\n",
    "# Step 3: Add the heatmap layer\n",
    "HeatMap(locations).add_to(m)\n",
    "\n",
    "# Step 4: Save or display the map\n",
    "m"
   ]
  },
  {
   "cell_type": "markdown",
   "id": "9f25e714-dd63-4d62-a6a7-79bc800b1a23",
   "metadata": {},
   "source": [
    "<h3>Insight 33</h3>\n",
    "<h3>Most accidents happen in busy central areas like Leamington Spa (Sydenham, town center, Myton Park and Warwick town center.</h3>\n",
    "<hr>\n",
    "<br>"
   ]
  }
 ],
 "metadata": {
  "kernelspec": {
   "display_name": "Python 3 (ipykernel)",
   "language": "python",
   "name": "python3"
  },
  "language_info": {
   "codemirror_mode": {
    "name": "ipython",
    "version": 3
   },
   "file_extension": ".py",
   "mimetype": "text/x-python",
   "name": "python",
   "nbconvert_exporter": "python",
   "pygments_lexer": "ipython3",
   "version": "3.13.7"
  }
 },
 "nbformat": 4,
 "nbformat_minor": 5
}
