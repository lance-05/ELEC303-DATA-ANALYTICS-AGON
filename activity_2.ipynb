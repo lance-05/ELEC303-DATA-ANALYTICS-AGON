{
 "cells": [
  {
   "cell_type": "markdown",
   "id": "b400b020-2da1-4483-8433-a12561025cc5",
   "metadata": {},
   "source": [
    "<h3>importing numpy and pandas</h3>"
   ]
  },
  {
   "cell_type": "code",
   "execution_count": 1,
   "id": "372a8093-2973-435f-b038-615915dcb2aa",
   "metadata": {},
   "outputs": [],
   "source": [
    "import pandas as pd\n",
    "import numpy as np"
   ]
  },
  {
   "cell_type": "markdown",
   "id": "1b56f741-44f3-4a03-8a84-13625e8b8fa9",
   "metadata": {},
   "source": [
    "<h3>importing csv file</h3>"
   ]
  },
  {
   "cell_type": "code",
   "execution_count": 2,
   "id": "85bfd1a3-c097-4998-92aa-d7ea94e5e7b3",
   "metadata": {},
   "outputs": [],
   "source": [
    "case = pd.read_csv('uk_road_accident.csv')"
   ]
  },
  {
   "cell_type": "code",
   "execution_count": 3,
   "id": "e205f2e5-4b44-4ce7-bc87-4fada907afd4",
   "metadata": {},
   "outputs": [
    {
     "data": {
      "text/html": [
       "<div>\n",
       "<style scoped>\n",
       "    .dataframe tbody tr th:only-of-type {\n",
       "        vertical-align: middle;\n",
       "    }\n",
       "\n",
       "    .dataframe tbody tr th {\n",
       "        vertical-align: top;\n",
       "    }\n",
       "\n",
       "    .dataframe thead th {\n",
       "        text-align: right;\n",
       "    }\n",
       "</style>\n",
       "<table border=\"1\" class=\"dataframe\">\n",
       "  <thead>\n",
       "    <tr style=\"text-align: right;\">\n",
       "      <th></th>\n",
       "      <th>Index</th>\n",
       "      <th>Accident_Severity</th>\n",
       "      <th>Accident Date</th>\n",
       "      <th>Latitude</th>\n",
       "      <th>Light_Conditions</th>\n",
       "      <th>District Area</th>\n",
       "      <th>Longitude</th>\n",
       "      <th>Number_of_Casualties</th>\n",
       "      <th>Number_of_Vehicles</th>\n",
       "      <th>Road_Surface_Conditions</th>\n",
       "      <th>Road_Type</th>\n",
       "      <th>Urban_or_Rural_Area</th>\n",
       "      <th>Weather_Conditions</th>\n",
       "      <th>Vehicle_Type</th>\n",
       "    </tr>\n",
       "  </thead>\n",
       "  <tbody>\n",
       "    <tr>\n",
       "      <th>0</th>\n",
       "      <td>200701BS64157</td>\n",
       "      <td>Serious</td>\n",
       "      <td>5/6/2019</td>\n",
       "      <td>51.506187</td>\n",
       "      <td>Darkness - lights lit</td>\n",
       "      <td>Kensington and Chelsea</td>\n",
       "      <td>-0.209082</td>\n",
       "      <td>1</td>\n",
       "      <td>2</td>\n",
       "      <td>Dry</td>\n",
       "      <td>Single carriageway</td>\n",
       "      <td>Urban</td>\n",
       "      <td>Fine no high winds</td>\n",
       "      <td>Car</td>\n",
       "    </tr>\n",
       "    <tr>\n",
       "      <th>1</th>\n",
       "      <td>200701BS65737</td>\n",
       "      <td>Serious</td>\n",
       "      <td>2/7/2019</td>\n",
       "      <td>51.495029</td>\n",
       "      <td>Daylight</td>\n",
       "      <td>Kensington and Chelsea</td>\n",
       "      <td>-0.173647</td>\n",
       "      <td>1</td>\n",
       "      <td>2</td>\n",
       "      <td>Wet or damp</td>\n",
       "      <td>Single carriageway</td>\n",
       "      <td>Urban</td>\n",
       "      <td>Raining no high winds</td>\n",
       "      <td>Car</td>\n",
       "    </tr>\n",
       "    <tr>\n",
       "      <th>2</th>\n",
       "      <td>200701BS66127</td>\n",
       "      <td>Serious</td>\n",
       "      <td>26-08-2019</td>\n",
       "      <td>51.517715</td>\n",
       "      <td>Darkness - lighting unknown</td>\n",
       "      <td>Kensington and Chelsea</td>\n",
       "      <td>-0.210215</td>\n",
       "      <td>1</td>\n",
       "      <td>3</td>\n",
       "      <td>Dry</td>\n",
       "      <td>NaN</td>\n",
       "      <td>Urban</td>\n",
       "      <td>NaN</td>\n",
       "      <td>Taxi/Private hire car</td>\n",
       "    </tr>\n",
       "    <tr>\n",
       "      <th>3</th>\n",
       "      <td>200701BS66128</td>\n",
       "      <td>Serious</td>\n",
       "      <td>16-08-2019</td>\n",
       "      <td>51.495478</td>\n",
       "      <td>Daylight</td>\n",
       "      <td>Kensington and Chelsea</td>\n",
       "      <td>-0.202731</td>\n",
       "      <td>1</td>\n",
       "      <td>4</td>\n",
       "      <td>Dry</td>\n",
       "      <td>Single carriageway</td>\n",
       "      <td>Urban</td>\n",
       "      <td>Fine no high winds</td>\n",
       "      <td>Bus or coach (17 or more pass seats)</td>\n",
       "    </tr>\n",
       "    <tr>\n",
       "      <th>4</th>\n",
       "      <td>200701BS66837</td>\n",
       "      <td>Slight</td>\n",
       "      <td>3/9/2019</td>\n",
       "      <td>51.488576</td>\n",
       "      <td>Darkness - lights lit</td>\n",
       "      <td>Kensington and Chelsea</td>\n",
       "      <td>-0.192487</td>\n",
       "      <td>1</td>\n",
       "      <td>2</td>\n",
       "      <td>Dry</td>\n",
       "      <td>NaN</td>\n",
       "      <td>Urban</td>\n",
       "      <td>NaN</td>\n",
       "      <td>Other vehicle</td>\n",
       "    </tr>\n",
       "    <tr>\n",
       "      <th>...</th>\n",
       "      <td>...</td>\n",
       "      <td>...</td>\n",
       "      <td>...</td>\n",
       "      <td>...</td>\n",
       "      <td>...</td>\n",
       "      <td>...</td>\n",
       "      <td>...</td>\n",
       "      <td>...</td>\n",
       "      <td>...</td>\n",
       "      <td>...</td>\n",
       "      <td>...</td>\n",
       "      <td>...</td>\n",
       "      <td>...</td>\n",
       "      <td>...</td>\n",
       "    </tr>\n",
       "    <tr>\n",
       "      <th>660674</th>\n",
       "      <td>201091NM01760</td>\n",
       "      <td>Slight</td>\n",
       "      <td>18-02-2022</td>\n",
       "      <td>57.374005</td>\n",
       "      <td>Daylight</td>\n",
       "      <td>Highland</td>\n",
       "      <td>-3.467828</td>\n",
       "      <td>2</td>\n",
       "      <td>1</td>\n",
       "      <td>Dry</td>\n",
       "      <td>Single carriageway</td>\n",
       "      <td>Rural</td>\n",
       "      <td>Fine no high winds</td>\n",
       "      <td>Car</td>\n",
       "    </tr>\n",
       "    <tr>\n",
       "      <th>660675</th>\n",
       "      <td>201091NM01881</td>\n",
       "      <td>Slight</td>\n",
       "      <td>21-02-2022</td>\n",
       "      <td>57.232273</td>\n",
       "      <td>Darkness - no lighting</td>\n",
       "      <td>Highland</td>\n",
       "      <td>-3.809281</td>\n",
       "      <td>1</td>\n",
       "      <td>1</td>\n",
       "      <td>Frost or ice</td>\n",
       "      <td>Single carriageway</td>\n",
       "      <td>Rural</td>\n",
       "      <td>Fine no high winds</td>\n",
       "      <td>Car</td>\n",
       "    </tr>\n",
       "    <tr>\n",
       "      <th>660676</th>\n",
       "      <td>201091NM01935</td>\n",
       "      <td>Slight</td>\n",
       "      <td>23-02-2022</td>\n",
       "      <td>57.585044</td>\n",
       "      <td>Daylight</td>\n",
       "      <td>Highland</td>\n",
       "      <td>-3.862727</td>\n",
       "      <td>1</td>\n",
       "      <td>3</td>\n",
       "      <td>Frost or ice</td>\n",
       "      <td>Single carriageway</td>\n",
       "      <td>Rural</td>\n",
       "      <td>Fine no high winds</td>\n",
       "      <td>Car</td>\n",
       "    </tr>\n",
       "    <tr>\n",
       "      <th>660677</th>\n",
       "      <td>201091NM01964</td>\n",
       "      <td>Serious</td>\n",
       "      <td>23-02-2022</td>\n",
       "      <td>57.214898</td>\n",
       "      <td>Darkness - no lighting</td>\n",
       "      <td>Highland</td>\n",
       "      <td>-3.823997</td>\n",
       "      <td>1</td>\n",
       "      <td>2</td>\n",
       "      <td>Wet or damp</td>\n",
       "      <td>Single carriageway</td>\n",
       "      <td>Rural</td>\n",
       "      <td>Fine no high winds</td>\n",
       "      <td>Motorcycle over 500cc</td>\n",
       "    </tr>\n",
       "    <tr>\n",
       "      <th>660678</th>\n",
       "      <td>201091NM02142</td>\n",
       "      <td>Serious</td>\n",
       "      <td>28-02-2022</td>\n",
       "      <td>57.575210</td>\n",
       "      <td>Daylight</td>\n",
       "      <td>Highland</td>\n",
       "      <td>-3.895673</td>\n",
       "      <td>1</td>\n",
       "      <td>1</td>\n",
       "      <td>Wet or damp</td>\n",
       "      <td>Dual carriageway</td>\n",
       "      <td>Rural</td>\n",
       "      <td>Snowing no high winds</td>\n",
       "      <td>Car</td>\n",
       "    </tr>\n",
       "  </tbody>\n",
       "</table>\n",
       "<p>660679 rows × 14 columns</p>\n",
       "</div>"
      ],
      "text/plain": [
       "                Index Accident_Severity Accident Date   Latitude  \\\n",
       "0       200701BS64157           Serious      5/6/2019  51.506187   \n",
       "1       200701BS65737           Serious      2/7/2019  51.495029   \n",
       "2       200701BS66127           Serious    26-08-2019  51.517715   \n",
       "3       200701BS66128           Serious    16-08-2019  51.495478   \n",
       "4       200701BS66837            Slight      3/9/2019  51.488576   \n",
       "...               ...               ...           ...        ...   \n",
       "660674  201091NM01760            Slight    18-02-2022  57.374005   \n",
       "660675  201091NM01881            Slight    21-02-2022  57.232273   \n",
       "660676  201091NM01935            Slight    23-02-2022  57.585044   \n",
       "660677  201091NM01964           Serious    23-02-2022  57.214898   \n",
       "660678  201091NM02142           Serious    28-02-2022  57.575210   \n",
       "\n",
       "                   Light_Conditions           District Area  Longitude  \\\n",
       "0             Darkness - lights lit  Kensington and Chelsea  -0.209082   \n",
       "1                          Daylight  Kensington and Chelsea  -0.173647   \n",
       "2       Darkness - lighting unknown  Kensington and Chelsea  -0.210215   \n",
       "3                          Daylight  Kensington and Chelsea  -0.202731   \n",
       "4             Darkness - lights lit  Kensington and Chelsea  -0.192487   \n",
       "...                             ...                     ...        ...   \n",
       "660674                     Daylight                Highland  -3.467828   \n",
       "660675       Darkness - no lighting                Highland  -3.809281   \n",
       "660676                     Daylight                Highland  -3.862727   \n",
       "660677       Darkness - no lighting                Highland  -3.823997   \n",
       "660678                     Daylight                Highland  -3.895673   \n",
       "\n",
       "        Number_of_Casualties  Number_of_Vehicles Road_Surface_Conditions  \\\n",
       "0                          1                   2                     Dry   \n",
       "1                          1                   2             Wet or damp   \n",
       "2                          1                   3                     Dry   \n",
       "3                          1                   4                     Dry   \n",
       "4                          1                   2                     Dry   \n",
       "...                      ...                 ...                     ...   \n",
       "660674                     2                   1                     Dry   \n",
       "660675                     1                   1            Frost or ice   \n",
       "660676                     1                   3            Frost or ice   \n",
       "660677                     1                   2             Wet or damp   \n",
       "660678                     1                   1             Wet or damp   \n",
       "\n",
       "                 Road_Type Urban_or_Rural_Area     Weather_Conditions  \\\n",
       "0       Single carriageway               Urban     Fine no high winds   \n",
       "1       Single carriageway               Urban  Raining no high winds   \n",
       "2                      NaN               Urban                    NaN   \n",
       "3       Single carriageway               Urban     Fine no high winds   \n",
       "4                      NaN               Urban                    NaN   \n",
       "...                    ...                 ...                    ...   \n",
       "660674  Single carriageway               Rural     Fine no high winds   \n",
       "660675  Single carriageway               Rural     Fine no high winds   \n",
       "660676  Single carriageway               Rural     Fine no high winds   \n",
       "660677  Single carriageway               Rural     Fine no high winds   \n",
       "660678    Dual carriageway               Rural  Snowing no high winds   \n",
       "\n",
       "                                Vehicle_Type  \n",
       "0                                        Car  \n",
       "1                                        Car  \n",
       "2                      Taxi/Private hire car  \n",
       "3       Bus or coach (17 or more pass seats)  \n",
       "4                              Other vehicle  \n",
       "...                                      ...  \n",
       "660674                                   Car  \n",
       "660675                                   Car  \n",
       "660676                                   Car  \n",
       "660677                 Motorcycle over 500cc  \n",
       "660678                                   Car  \n",
       "\n",
       "[660679 rows x 14 columns]"
      ]
     },
     "execution_count": 3,
     "metadata": {},
     "output_type": "execute_result"
    }
   ],
   "source": [
    "case"
   ]
  },
  {
   "cell_type": "code",
   "execution_count": 4,
   "id": "c792dd12-095d-417e-a92d-857eac3abb3f",
   "metadata": {},
   "outputs": [
    {
     "data": {
      "text/html": [
       "<div>\n",
       "<style scoped>\n",
       "    .dataframe tbody tr th:only-of-type {\n",
       "        vertical-align: middle;\n",
       "    }\n",
       "\n",
       "    .dataframe tbody tr th {\n",
       "        vertical-align: top;\n",
       "    }\n",
       "\n",
       "    .dataframe thead th {\n",
       "        text-align: right;\n",
       "    }\n",
       "</style>\n",
       "<table border=\"1\" class=\"dataframe\">\n",
       "  <thead>\n",
       "    <tr style=\"text-align: right;\">\n",
       "      <th></th>\n",
       "      <th>Latitude</th>\n",
       "      <th>Longitude</th>\n",
       "      <th>Number_of_Casualties</th>\n",
       "      <th>Number_of_Vehicles</th>\n",
       "    </tr>\n",
       "  </thead>\n",
       "  <tbody>\n",
       "    <tr>\n",
       "      <th>count</th>\n",
       "      <td>660654.000000</td>\n",
       "      <td>660653.000000</td>\n",
       "      <td>660679.000000</td>\n",
       "      <td>660679.000000</td>\n",
       "    </tr>\n",
       "    <tr>\n",
       "      <th>mean</th>\n",
       "      <td>52.553866</td>\n",
       "      <td>-1.431210</td>\n",
       "      <td>1.357040</td>\n",
       "      <td>1.831255</td>\n",
       "    </tr>\n",
       "    <tr>\n",
       "      <th>std</th>\n",
       "      <td>1.406922</td>\n",
       "      <td>1.383330</td>\n",
       "      <td>0.824847</td>\n",
       "      <td>0.715269</td>\n",
       "    </tr>\n",
       "    <tr>\n",
       "      <th>min</th>\n",
       "      <td>49.914430</td>\n",
       "      <td>-7.516225</td>\n",
       "      <td>1.000000</td>\n",
       "      <td>1.000000</td>\n",
       "    </tr>\n",
       "    <tr>\n",
       "      <th>25%</th>\n",
       "      <td>51.490690</td>\n",
       "      <td>-2.332291</td>\n",
       "      <td>1.000000</td>\n",
       "      <td>1.000000</td>\n",
       "    </tr>\n",
       "    <tr>\n",
       "      <th>50%</th>\n",
       "      <td>52.315641</td>\n",
       "      <td>-1.411667</td>\n",
       "      <td>1.000000</td>\n",
       "      <td>2.000000</td>\n",
       "    </tr>\n",
       "    <tr>\n",
       "      <th>75%</th>\n",
       "      <td>53.453452</td>\n",
       "      <td>-0.232869</td>\n",
       "      <td>1.000000</td>\n",
       "      <td>2.000000</td>\n",
       "    </tr>\n",
       "    <tr>\n",
       "      <th>max</th>\n",
       "      <td>60.757544</td>\n",
       "      <td>1.762010</td>\n",
       "      <td>68.000000</td>\n",
       "      <td>32.000000</td>\n",
       "    </tr>\n",
       "  </tbody>\n",
       "</table>\n",
       "</div>"
      ],
      "text/plain": [
       "            Latitude      Longitude  Number_of_Casualties  Number_of_Vehicles\n",
       "count  660654.000000  660653.000000         660679.000000       660679.000000\n",
       "mean       52.553866      -1.431210              1.357040            1.831255\n",
       "std         1.406922       1.383330              0.824847            0.715269\n",
       "min        49.914430      -7.516225              1.000000            1.000000\n",
       "25%        51.490690      -2.332291              1.000000            1.000000\n",
       "50%        52.315641      -1.411667              1.000000            2.000000\n",
       "75%        53.453452      -0.232869              1.000000            2.000000\n",
       "max        60.757544       1.762010             68.000000           32.000000"
      ]
     },
     "execution_count": 4,
     "metadata": {},
     "output_type": "execute_result"
    }
   ],
   "source": [
    "case.describe()"
   ]
  },
  {
   "cell_type": "code",
   "execution_count": 5,
   "id": "370c82ea-c8f2-4c39-9387-cc1bc91ca044",
   "metadata": {},
   "outputs": [
    {
     "name": "stdout",
     "output_type": "stream",
     "text": [
      "<class 'pandas.core.frame.DataFrame'>\n",
      "RangeIndex: 660679 entries, 0 to 660678\n",
      "Data columns (total 14 columns):\n",
      " #   Column                   Non-Null Count   Dtype  \n",
      "---  ------                   --------------   -----  \n",
      " 0   Index                    660679 non-null  object \n",
      " 1   Accident_Severity        660679 non-null  object \n",
      " 2   Accident Date            660679 non-null  object \n",
      " 3   Latitude                 660654 non-null  float64\n",
      " 4   Light_Conditions         660679 non-null  object \n",
      " 5   District Area            660679 non-null  object \n",
      " 6   Longitude                660653 non-null  float64\n",
      " 7   Number_of_Casualties     660679 non-null  int64  \n",
      " 8   Number_of_Vehicles       660679 non-null  int64  \n",
      " 9   Road_Surface_Conditions  659953 non-null  object \n",
      " 10  Road_Type                656159 non-null  object \n",
      " 11  Urban_or_Rural_Area      660664 non-null  object \n",
      " 12  Weather_Conditions       646551 non-null  object \n",
      " 13  Vehicle_Type             660679 non-null  object \n",
      "dtypes: float64(2), int64(2), object(10)\n",
      "memory usage: 70.6+ MB\n"
     ]
    }
   ],
   "source": [
    "case.info()"
   ]
  },
  {
   "cell_type": "markdown",
   "id": "f5679ec5-2fe4-432d-9d1f-394c2b90ce7a",
   "metadata": {},
   "source": [
    "<h3>cleaning the null values</h3>"
   ]
  },
  {
   "cell_type": "code",
   "execution_count": 6,
   "id": "a846570e-db6b-491a-b4b1-d58d014ef243",
   "metadata": {},
   "outputs": [
    {
     "data": {
      "text/plain": [
       "Index                          0\n",
       "Accident_Severity              0\n",
       "Accident Date                  0\n",
       "Latitude                      25\n",
       "Light_Conditions               0\n",
       "District Area                  0\n",
       "Longitude                     26\n",
       "Number_of_Casualties           0\n",
       "Number_of_Vehicles             0\n",
       "Road_Surface_Conditions      726\n",
       "Road_Type                   4520\n",
       "Urban_or_Rural_Area           15\n",
       "Weather_Conditions         14128\n",
       "Vehicle_Type                   0\n",
       "dtype: int64"
      ]
     },
     "execution_count": 6,
     "metadata": {},
     "output_type": "execute_result"
    }
   ],
   "source": [
    "case.isnull().sum()"
   ]
  },
  {
   "cell_type": "code",
   "execution_count": 7,
   "id": "df9901f7-2384-4dca-9668-fdba39917112",
   "metadata": {},
   "outputs": [],
   "source": [
    "case['Latitude'] = case['Latitude'].fillna(case['Latitude'].mode()[0])"
   ]
  },
  {
   "cell_type": "code",
   "execution_count": 8,
   "id": "eadd560a-a3d0-4c1e-b3ba-06048d2b9c14",
   "metadata": {},
   "outputs": [],
   "source": [
    "case['Longitude'] = case['Longitude'].fillna(case['Longitude'].mode()[0])"
   ]
  },
  {
   "cell_type": "code",
   "execution_count": 9,
   "id": "42cccf41-587a-4d72-9696-6e2353481389",
   "metadata": {},
   "outputs": [],
   "source": [
    "case['Road_Surface_Conditions'] = case['Road_Surface_Conditions'].fillna('unaccounted')"
   ]
  },
  {
   "cell_type": "code",
   "execution_count": 10,
   "id": "c49c953a-9367-49bd-8bd1-e0b76a6ebf65",
   "metadata": {},
   "outputs": [],
   "source": [
    "case['Road_Type'] = case['Road_Type'].fillna('unaccounted')"
   ]
  },
  {
   "cell_type": "code",
   "execution_count": 11,
   "id": "e02e0cb1-43c6-4f64-b218-7d695fac4f08",
   "metadata": {},
   "outputs": [],
   "source": [
    "case['Urban_or_Rural_Area'] = case['Urban_or_Rural_Area'].fillna(case['Urban_or_Rural_Area'].mode()[0])"
   ]
  },
  {
   "cell_type": "code",
   "execution_count": 12,
   "id": "f5a79d55-6a13-41a6-97cc-64afed697e30",
   "metadata": {},
   "outputs": [],
   "source": [
    "case['Weather_Conditions'] = case['Weather_Conditions'].fillna('unaccounted')"
   ]
  },
  {
   "cell_type": "code",
   "execution_count": 13,
   "id": "1705b51a-8b30-4037-8cbb-281612997ad0",
   "metadata": {},
   "outputs": [],
   "source": [
    "case['Accident Date'] = case['Accident Date'].str.strip()\n",
    "case['Accident Date'] = case['Accident Date'].astype('str')\n",
    "case['Accident Date'] = case['Accident Date'].str.replace('/', '-')"
   ]
  },
  {
   "cell_type": "markdown",
   "id": "4aeef781-6ee9-4c0f-b13a-95d4e2a1bb6d",
   "metadata": {},
   "source": [
    "<h3>Adjusting date to datetime</h3>"
   ]
  },
  {
   "cell_type": "code",
   "execution_count": 14,
   "id": "a1efaf78-3738-4da3-8a9d-bd13a446a9b7",
   "metadata": {},
   "outputs": [],
   "source": [
    "case['Accident Date'] = pd.to_datetime(case['Accident Date'], dayfirst = True, errors = 'coerce')"
   ]
  },
  {
   "cell_type": "markdown",
   "id": "debb1261-8ab4-48de-bee5-e5fc9a290813",
   "metadata": {},
   "source": [
    "<h3>Adding columns for Year, Month, Day and Day of Week</h3>"
   ]
  },
  {
   "cell_type": "code",
   "execution_count": 15,
   "id": "84008c4b-dd0c-4d71-a408-2d366bfb2994",
   "metadata": {},
   "outputs": [],
   "source": [
    "case['Year'] = case['Accident Date'].dt.year\n",
    "case['Month'] = case['Accident Date'].dt.year\n",
    "case['Day'] = case['Accident Date'].dt.year\n",
    "case['DayOfWeek'] = case['Accident Date'].dt.year"
   ]
  },
  {
   "cell_type": "code",
   "execution_count": 16,
   "id": "0b2b2da6-d1f7-4438-886d-4ecc99ff3b0f",
   "metadata": {},
   "outputs": [
    {
     "data": {
      "text/plain": [
       "Index                      0\n",
       "Accident_Severity          0\n",
       "Accident Date              0\n",
       "Latitude                   0\n",
       "Light_Conditions           0\n",
       "District Area              0\n",
       "Longitude                  0\n",
       "Number_of_Casualties       0\n",
       "Number_of_Vehicles         0\n",
       "Road_Surface_Conditions    0\n",
       "Road_Type                  0\n",
       "Urban_or_Rural_Area        0\n",
       "Weather_Conditions         0\n",
       "Vehicle_Type               0\n",
       "Year                       0\n",
       "Month                      0\n",
       "Day                        0\n",
       "DayOfWeek                  0\n",
       "dtype: int64"
      ]
     },
     "execution_count": 16,
     "metadata": {},
     "output_type": "execute_result"
    }
   ],
   "source": [
    "case.isnull().sum()"
   ]
  },
  {
   "cell_type": "code",
   "execution_count": 17,
   "id": "be4d34c2-f36d-451e-91c6-431c81d34532",
   "metadata": {},
   "outputs": [
    {
     "data": {
      "text/html": [
       "<div>\n",
       "<style scoped>\n",
       "    .dataframe tbody tr th:only-of-type {\n",
       "        vertical-align: middle;\n",
       "    }\n",
       "\n",
       "    .dataframe tbody tr th {\n",
       "        vertical-align: top;\n",
       "    }\n",
       "\n",
       "    .dataframe thead th {\n",
       "        text-align: right;\n",
       "    }\n",
       "</style>\n",
       "<table border=\"1\" class=\"dataframe\">\n",
       "  <thead>\n",
       "    <tr style=\"text-align: right;\">\n",
       "      <th></th>\n",
       "      <th>Index</th>\n",
       "      <th>Accident_Severity</th>\n",
       "      <th>Accident Date</th>\n",
       "      <th>Latitude</th>\n",
       "      <th>Light_Conditions</th>\n",
       "      <th>District Area</th>\n",
       "      <th>Longitude</th>\n",
       "      <th>Number_of_Casualties</th>\n",
       "      <th>Number_of_Vehicles</th>\n",
       "      <th>Road_Surface_Conditions</th>\n",
       "      <th>Road_Type</th>\n",
       "      <th>Urban_or_Rural_Area</th>\n",
       "      <th>Weather_Conditions</th>\n",
       "      <th>Vehicle_Type</th>\n",
       "      <th>Year</th>\n",
       "      <th>Month</th>\n",
       "      <th>Day</th>\n",
       "      <th>DayOfWeek</th>\n",
       "    </tr>\n",
       "  </thead>\n",
       "  <tbody>\n",
       "    <tr>\n",
       "      <th>0</th>\n",
       "      <td>200701BS64157</td>\n",
       "      <td>Serious</td>\n",
       "      <td>2019-06-05</td>\n",
       "      <td>51.506187</td>\n",
       "      <td>Darkness - lights lit</td>\n",
       "      <td>Kensington and Chelsea</td>\n",
       "      <td>-0.209082</td>\n",
       "      <td>1</td>\n",
       "      <td>2</td>\n",
       "      <td>Dry</td>\n",
       "      <td>Single carriageway</td>\n",
       "      <td>Urban</td>\n",
       "      <td>Fine no high winds</td>\n",
       "      <td>Car</td>\n",
       "      <td>2019</td>\n",
       "      <td>2019</td>\n",
       "      <td>2019</td>\n",
       "      <td>2019</td>\n",
       "    </tr>\n",
       "    <tr>\n",
       "      <th>1</th>\n",
       "      <td>200701BS65737</td>\n",
       "      <td>Serious</td>\n",
       "      <td>2019-07-02</td>\n",
       "      <td>51.495029</td>\n",
       "      <td>Daylight</td>\n",
       "      <td>Kensington and Chelsea</td>\n",
       "      <td>-0.173647</td>\n",
       "      <td>1</td>\n",
       "      <td>2</td>\n",
       "      <td>Wet or damp</td>\n",
       "      <td>Single carriageway</td>\n",
       "      <td>Urban</td>\n",
       "      <td>Raining no high winds</td>\n",
       "      <td>Car</td>\n",
       "      <td>2019</td>\n",
       "      <td>2019</td>\n",
       "      <td>2019</td>\n",
       "      <td>2019</td>\n",
       "    </tr>\n",
       "    <tr>\n",
       "      <th>2</th>\n",
       "      <td>200701BS66127</td>\n",
       "      <td>Serious</td>\n",
       "      <td>2019-08-26</td>\n",
       "      <td>51.517715</td>\n",
       "      <td>Darkness - lighting unknown</td>\n",
       "      <td>Kensington and Chelsea</td>\n",
       "      <td>-0.210215</td>\n",
       "      <td>1</td>\n",
       "      <td>3</td>\n",
       "      <td>Dry</td>\n",
       "      <td>unaccounted</td>\n",
       "      <td>Urban</td>\n",
       "      <td>unaccounted</td>\n",
       "      <td>Taxi/Private hire car</td>\n",
       "      <td>2019</td>\n",
       "      <td>2019</td>\n",
       "      <td>2019</td>\n",
       "      <td>2019</td>\n",
       "    </tr>\n",
       "    <tr>\n",
       "      <th>3</th>\n",
       "      <td>200701BS66128</td>\n",
       "      <td>Serious</td>\n",
       "      <td>2019-08-16</td>\n",
       "      <td>51.495478</td>\n",
       "      <td>Daylight</td>\n",
       "      <td>Kensington and Chelsea</td>\n",
       "      <td>-0.202731</td>\n",
       "      <td>1</td>\n",
       "      <td>4</td>\n",
       "      <td>Dry</td>\n",
       "      <td>Single carriageway</td>\n",
       "      <td>Urban</td>\n",
       "      <td>Fine no high winds</td>\n",
       "      <td>Bus or coach (17 or more pass seats)</td>\n",
       "      <td>2019</td>\n",
       "      <td>2019</td>\n",
       "      <td>2019</td>\n",
       "      <td>2019</td>\n",
       "    </tr>\n",
       "    <tr>\n",
       "      <th>4</th>\n",
       "      <td>200701BS66837</td>\n",
       "      <td>Slight</td>\n",
       "      <td>2019-09-03</td>\n",
       "      <td>51.488576</td>\n",
       "      <td>Darkness - lights lit</td>\n",
       "      <td>Kensington and Chelsea</td>\n",
       "      <td>-0.192487</td>\n",
       "      <td>1</td>\n",
       "      <td>2</td>\n",
       "      <td>Dry</td>\n",
       "      <td>unaccounted</td>\n",
       "      <td>Urban</td>\n",
       "      <td>unaccounted</td>\n",
       "      <td>Other vehicle</td>\n",
       "      <td>2019</td>\n",
       "      <td>2019</td>\n",
       "      <td>2019</td>\n",
       "      <td>2019</td>\n",
       "    </tr>\n",
       "    <tr>\n",
       "      <th>...</th>\n",
       "      <td>...</td>\n",
       "      <td>...</td>\n",
       "      <td>...</td>\n",
       "      <td>...</td>\n",
       "      <td>...</td>\n",
       "      <td>...</td>\n",
       "      <td>...</td>\n",
       "      <td>...</td>\n",
       "      <td>...</td>\n",
       "      <td>...</td>\n",
       "      <td>...</td>\n",
       "      <td>...</td>\n",
       "      <td>...</td>\n",
       "      <td>...</td>\n",
       "      <td>...</td>\n",
       "      <td>...</td>\n",
       "      <td>...</td>\n",
       "      <td>...</td>\n",
       "    </tr>\n",
       "    <tr>\n",
       "      <th>660674</th>\n",
       "      <td>201091NM01760</td>\n",
       "      <td>Slight</td>\n",
       "      <td>2022-02-18</td>\n",
       "      <td>57.374005</td>\n",
       "      <td>Daylight</td>\n",
       "      <td>Highland</td>\n",
       "      <td>-3.467828</td>\n",
       "      <td>2</td>\n",
       "      <td>1</td>\n",
       "      <td>Dry</td>\n",
       "      <td>Single carriageway</td>\n",
       "      <td>Rural</td>\n",
       "      <td>Fine no high winds</td>\n",
       "      <td>Car</td>\n",
       "      <td>2022</td>\n",
       "      <td>2022</td>\n",
       "      <td>2022</td>\n",
       "      <td>2022</td>\n",
       "    </tr>\n",
       "    <tr>\n",
       "      <th>660675</th>\n",
       "      <td>201091NM01881</td>\n",
       "      <td>Slight</td>\n",
       "      <td>2022-02-21</td>\n",
       "      <td>57.232273</td>\n",
       "      <td>Darkness - no lighting</td>\n",
       "      <td>Highland</td>\n",
       "      <td>-3.809281</td>\n",
       "      <td>1</td>\n",
       "      <td>1</td>\n",
       "      <td>Frost or ice</td>\n",
       "      <td>Single carriageway</td>\n",
       "      <td>Rural</td>\n",
       "      <td>Fine no high winds</td>\n",
       "      <td>Car</td>\n",
       "      <td>2022</td>\n",
       "      <td>2022</td>\n",
       "      <td>2022</td>\n",
       "      <td>2022</td>\n",
       "    </tr>\n",
       "    <tr>\n",
       "      <th>660676</th>\n",
       "      <td>201091NM01935</td>\n",
       "      <td>Slight</td>\n",
       "      <td>2022-02-23</td>\n",
       "      <td>57.585044</td>\n",
       "      <td>Daylight</td>\n",
       "      <td>Highland</td>\n",
       "      <td>-3.862727</td>\n",
       "      <td>1</td>\n",
       "      <td>3</td>\n",
       "      <td>Frost or ice</td>\n",
       "      <td>Single carriageway</td>\n",
       "      <td>Rural</td>\n",
       "      <td>Fine no high winds</td>\n",
       "      <td>Car</td>\n",
       "      <td>2022</td>\n",
       "      <td>2022</td>\n",
       "      <td>2022</td>\n",
       "      <td>2022</td>\n",
       "    </tr>\n",
       "    <tr>\n",
       "      <th>660677</th>\n",
       "      <td>201091NM01964</td>\n",
       "      <td>Serious</td>\n",
       "      <td>2022-02-23</td>\n",
       "      <td>57.214898</td>\n",
       "      <td>Darkness - no lighting</td>\n",
       "      <td>Highland</td>\n",
       "      <td>-3.823997</td>\n",
       "      <td>1</td>\n",
       "      <td>2</td>\n",
       "      <td>Wet or damp</td>\n",
       "      <td>Single carriageway</td>\n",
       "      <td>Rural</td>\n",
       "      <td>Fine no high winds</td>\n",
       "      <td>Motorcycle over 500cc</td>\n",
       "      <td>2022</td>\n",
       "      <td>2022</td>\n",
       "      <td>2022</td>\n",
       "      <td>2022</td>\n",
       "    </tr>\n",
       "    <tr>\n",
       "      <th>660678</th>\n",
       "      <td>201091NM02142</td>\n",
       "      <td>Serious</td>\n",
       "      <td>2022-02-28</td>\n",
       "      <td>57.575210</td>\n",
       "      <td>Daylight</td>\n",
       "      <td>Highland</td>\n",
       "      <td>-3.895673</td>\n",
       "      <td>1</td>\n",
       "      <td>1</td>\n",
       "      <td>Wet or damp</td>\n",
       "      <td>Dual carriageway</td>\n",
       "      <td>Rural</td>\n",
       "      <td>Snowing no high winds</td>\n",
       "      <td>Car</td>\n",
       "      <td>2022</td>\n",
       "      <td>2022</td>\n",
       "      <td>2022</td>\n",
       "      <td>2022</td>\n",
       "    </tr>\n",
       "  </tbody>\n",
       "</table>\n",
       "<p>660679 rows × 18 columns</p>\n",
       "</div>"
      ],
      "text/plain": [
       "                Index Accident_Severity Accident Date   Latitude  \\\n",
       "0       200701BS64157           Serious    2019-06-05  51.506187   \n",
       "1       200701BS65737           Serious    2019-07-02  51.495029   \n",
       "2       200701BS66127           Serious    2019-08-26  51.517715   \n",
       "3       200701BS66128           Serious    2019-08-16  51.495478   \n",
       "4       200701BS66837            Slight    2019-09-03  51.488576   \n",
       "...               ...               ...           ...        ...   \n",
       "660674  201091NM01760            Slight    2022-02-18  57.374005   \n",
       "660675  201091NM01881            Slight    2022-02-21  57.232273   \n",
       "660676  201091NM01935            Slight    2022-02-23  57.585044   \n",
       "660677  201091NM01964           Serious    2022-02-23  57.214898   \n",
       "660678  201091NM02142           Serious    2022-02-28  57.575210   \n",
       "\n",
       "                   Light_Conditions           District Area  Longitude  \\\n",
       "0             Darkness - lights lit  Kensington and Chelsea  -0.209082   \n",
       "1                          Daylight  Kensington and Chelsea  -0.173647   \n",
       "2       Darkness - lighting unknown  Kensington and Chelsea  -0.210215   \n",
       "3                          Daylight  Kensington and Chelsea  -0.202731   \n",
       "4             Darkness - lights lit  Kensington and Chelsea  -0.192487   \n",
       "...                             ...                     ...        ...   \n",
       "660674                     Daylight                Highland  -3.467828   \n",
       "660675       Darkness - no lighting                Highland  -3.809281   \n",
       "660676                     Daylight                Highland  -3.862727   \n",
       "660677       Darkness - no lighting                Highland  -3.823997   \n",
       "660678                     Daylight                Highland  -3.895673   \n",
       "\n",
       "        Number_of_Casualties  Number_of_Vehicles Road_Surface_Conditions  \\\n",
       "0                          1                   2                     Dry   \n",
       "1                          1                   2             Wet or damp   \n",
       "2                          1                   3                     Dry   \n",
       "3                          1                   4                     Dry   \n",
       "4                          1                   2                     Dry   \n",
       "...                      ...                 ...                     ...   \n",
       "660674                     2                   1                     Dry   \n",
       "660675                     1                   1            Frost or ice   \n",
       "660676                     1                   3            Frost or ice   \n",
       "660677                     1                   2             Wet or damp   \n",
       "660678                     1                   1             Wet or damp   \n",
       "\n",
       "                 Road_Type Urban_or_Rural_Area     Weather_Conditions  \\\n",
       "0       Single carriageway               Urban     Fine no high winds   \n",
       "1       Single carriageway               Urban  Raining no high winds   \n",
       "2              unaccounted               Urban            unaccounted   \n",
       "3       Single carriageway               Urban     Fine no high winds   \n",
       "4              unaccounted               Urban            unaccounted   \n",
       "...                    ...                 ...                    ...   \n",
       "660674  Single carriageway               Rural     Fine no high winds   \n",
       "660675  Single carriageway               Rural     Fine no high winds   \n",
       "660676  Single carriageway               Rural     Fine no high winds   \n",
       "660677  Single carriageway               Rural     Fine no high winds   \n",
       "660678    Dual carriageway               Rural  Snowing no high winds   \n",
       "\n",
       "                                Vehicle_Type  Year  Month   Day  DayOfWeek  \n",
       "0                                        Car  2019   2019  2019       2019  \n",
       "1                                        Car  2019   2019  2019       2019  \n",
       "2                      Taxi/Private hire car  2019   2019  2019       2019  \n",
       "3       Bus or coach (17 or more pass seats)  2019   2019  2019       2019  \n",
       "4                              Other vehicle  2019   2019  2019       2019  \n",
       "...                                      ...   ...    ...   ...        ...  \n",
       "660674                                   Car  2022   2022  2022       2022  \n",
       "660675                                   Car  2022   2022  2022       2022  \n",
       "660676                                   Car  2022   2022  2022       2022  \n",
       "660677                 Motorcycle over 500cc  2022   2022  2022       2022  \n",
       "660678                                   Car  2022   2022  2022       2022  \n",
       "\n",
       "[660679 rows x 18 columns]"
      ]
     },
     "execution_count": 17,
     "metadata": {},
     "output_type": "execute_result"
    }
   ],
   "source": [
    "case"
   ]
  },
  {
   "cell_type": "markdown",
   "id": "502068c4-28a8-4aaa-a0d1-72a878ac50d8",
   "metadata": {},
   "source": [
    "<h2>EDA</h2>"
   ]
  },
  {
   "cell_type": "markdown",
   "id": "ee07fa58-576d-47fa-829e-99d3a0e60549",
   "metadata": {},
   "source": [
    "<H3>1.How does accident severity vary by vehicle type?</H3>"
   ]
  },
  {
   "cell_type": "code",
   "execution_count": 18,
   "id": "ce4cedbb-1374-4ebc-aa75-b377f377ccea",
   "metadata": {},
   "outputs": [
    {
     "data": {
      "text/plain": [
       "Vehicle_Type                           Accident_Severity\n",
       "Agricultural vehicle                   Fatal                    21\n",
       "                                       Serious                 282\n",
       "                                       Slight                 1644\n",
       "Bus or coach (17 or more pass seats)   Fatal                   325\n",
       "                                       Serious                3373\n",
       "                                       Slight                22180\n",
       "Car                                    Fatal                  6577\n",
       "                                       Serious               66461\n",
       "                                       Slight               424954\n",
       "Data missing or out of range           Slight                    6\n",
       "Goods 7.5 tonnes mgw and over          Fatal                   216\n",
       "                                       Serious                2321\n",
       "                                       Slight                14770\n",
       "Goods over 3.5t. and under 7.5t        Fatal                    67\n",
       "                                       Serious                 857\n",
       "                                       Slight                 5172\n",
       "Minibus (8 - 16 passenger seats)       Fatal                    29\n",
       "                                       Serious                 276\n",
       "                                       Slight                 1671\n",
       "Motorcycle 125cc and under             Fatal                   189\n",
       "                                       Serious                2031\n",
       "                                       Slight                13049\n",
       "Motorcycle 50cc and under              Fatal                    95\n",
       "                                       Serious                1014\n",
       "                                       Slight                 6494\n",
       "Motorcycle over 125cc and up to 500cc  Fatal                   105\n",
       "                                       Serious                1014\n",
       "                                       Slight                 6537\n",
       "Motorcycle over 500cc                  Fatal                   339\n",
       "                                       Serious                3457\n",
       "                                       Slight                21861\n",
       "Other vehicle                          Fatal                    70\n",
       "                                       Serious                 767\n",
       "                                       Slight                 4800\n",
       "Pedal cycle                            Fatal                     6\n",
       "                                       Serious                  39\n",
       "                                       Slight                  152\n",
       "Ridden horse                           Slight                    4\n",
       "Taxi/Private hire car                  Fatal                   155\n",
       "                                       Serious                1771\n",
       "                                       Slight                11368\n",
       "Van / Goods 3.5 tonnes mgw or under    Fatal                   467\n",
       "                                       Serious                4554\n",
       "                                       Slight                29139\n",
       "dtype: int64"
      ]
     },
     "execution_count": 18,
     "metadata": {},
     "output_type": "execute_result"
    }
   ],
   "source": [
    "severity_by_vehicle = case.groupby(['Vehicle_Type', 'Accident_Severity']).size()\n",
    "severity_by_vehicle"
   ]
  },
  {
   "cell_type": "markdown",
   "id": "da72b6db-9faa-40a2-807a-221ff3c257d8",
   "metadata": {},
   "source": [
    "<h3>Insight 1</h3>\n",
    "<h3>Cars are most often involved in fatal accidents. Heavy vehicles and large motorcycles also appear often.</h3>\n",
    "<hr>\n",
    "<br>"
   ]
  },
  {
   "cell_type": "markdown",
   "id": "7e348b39-b4d3-4145-8409-eed8b49c6180",
   "metadata": {},
   "source": [
    "<H3>2.Are car accidents in Urban more likely to cause injuries than in the Rural?</H3>"
   ]
  },
  {
   "cell_type": "code",
   "execution_count": 19,
   "id": "a0484de0-6398-468e-9a84-d5a9b95944fd",
   "metadata": {},
   "outputs": [
    {
     "data": {
      "text/plain": [
       "Urban_or_Rural_Area\n",
       "Rural          181922\n",
       "Unallocated         8\n",
       "Urban          316062\n",
       "Name: Number_of_Casualties, dtype: int64"
      ]
     },
     "execution_count": 19,
     "metadata": {},
     "output_type": "execute_result"
    }
   ],
   "source": [
    "car_df = case[case['Vehicle_Type'] == 'Car']\n",
    "urban_rural = car_df.groupby('Urban_or_Rural_Area')['Number_of_Casualties'].size()\n",
    "urban_rural"
   ]
  },
  {
   "cell_type": "markdown",
   "id": "a8f10df4-cfd5-4736-ac91-c9c08f608fe8",
   "metadata": {},
   "source": [
    "<h3>Insight 2</h3>\n",
    "<h3>This suggests that urban areas have a significantly higher number of car accident casualties compared to rural areas.</h3>\n",
    "<hr>\n",
    "<br>"
   ]
  },
  {
   "cell_type": "markdown",
   "id": "0bcb4c47-3786-45e8-9a44-6339a52602b9",
   "metadata": {},
   "source": [
    "<H3>3.In what district area has the highest car fatal accidents?</H3>"
   ]
  },
  {
   "cell_type": "code",
   "execution_count": 20,
   "id": "e969449b-334a-4c82-bbb1-f9be3cdae950",
   "metadata": {},
   "outputs": [
    {
     "data": {
      "text/plain": [
       "('Birmingham', np.int64(77))"
      ]
     },
     "execution_count": 20,
     "metadata": {},
     "output_type": "execute_result"
    }
   ],
   "source": [
    "car_area_severity = car_df[car_df['Accident_Severity'] == 'Fatal']['District Area']\n",
    "fatal_counts = car_area_severity.value_counts()\n",
    "\n",
    "area_highest_fatal = fatal_counts.idxmax()\n",
    "fatal_count = fatal_counts.max()\n",
    "\n",
    "area_highest_fatal, fatal_count"
   ]
  },
  {
   "cell_type": "markdown",
   "id": "bbb00b17-c3c6-40db-b018-70c4299d7b9b",
   "metadata": {},
   "source": [
    "<h3>Insight 3</h3>\n",
    "<h3>The district with the highest number of fatal accidents is Birmingham with 77 fatal accidents.\n",
    "</h3>\n",
    "<hr>\n",
    "<br>"
   ]
  },
  {
   "cell_type": "markdown",
   "id": "894d821a-5bec-455e-8d43-b3eed2f98237",
   "metadata": {},
   "source": [
    "<H3>4.Is there a correlation between Number of Casualties and Number of Vehicles ?</H3>"
   ]
  },
  {
   "cell_type": "code",
   "execution_count": 21,
   "id": "8b797878-04f3-427b-a820-0f5311398bb6",
   "metadata": {},
   "outputs": [
    {
     "data": {
      "text/plain": [
       "np.float64(0.2288888612692756)"
      ]
     },
     "execution_count": 21,
     "metadata": {},
     "output_type": "execute_result"
    }
   ],
   "source": [
    "casualties_vehicles_corr = case['Number_of_Casualties'].corr(case['Number_of_Vehicles'])\n",
    "casualties_vehicles_corr"
   ]
  },
  {
   "cell_type": "markdown",
   "id": "b98e9783-5eb8-4224-8e6e-c665c7c75797",
   "metadata": {},
   "source": [
    "<h3>Insight 4</h3>\n",
    "<h3>Having 0.228, we can say that there are no correlation between Number of Casualties to Number of Vehicles.</h3>\n",
    "<hr>\n",
    "<br>"
   ]
  },
  {
   "cell_type": "markdown",
   "id": "999b260d-9cf1-4969-ae2e-06a9c14795c1",
   "metadata": {},
   "source": [
    "<H3>5.How many car accidents by light condition?</H3>"
   ]
  },
  {
   "cell_type": "code",
   "execution_count": 22,
   "id": "7d5045b4-effc-4353-9d9a-283964ac9db9",
   "metadata": {},
   "outputs": [
    {
     "data": {
      "text/plain": [
       "Light_Conditions\n",
       "Darkness - lighting unknown      4914\n",
       "Darkness - lights lit           96994\n",
       "Darkness - lights unlit          1933\n",
       "Darkness - no lighting          28385\n",
       "Daylight                       365766\n",
       "Name: Accident_Severity, dtype: int64"
      ]
     },
     "execution_count": 22,
     "metadata": {},
     "output_type": "execute_result"
    }
   ],
   "source": [
    "car_light = car_df.groupby('Light_Conditions')['Accident_Severity'].count()\n",
    "car_light"
   ]
  },
  {
   "cell_type": "markdown",
   "id": "93ccee63-f314-48f0-b4b2-e0e39961054d",
   "metadata": {},
   "source": [
    "<h3>Insight 5</h3>\n",
    "<h3>Most car accidents happen in daylight, but a large number also occur at night with street lights.</h3>\n",
    "<hr>\n",
    "<br>"
   ]
  },
  {
   "cell_type": "markdown",
   "id": "1095df6b-da2c-4eaa-b78b-a6e4679d7489",
   "metadata": {},
   "source": [
    "<H3>6.Where are car accidents most common by road surface condition?</H3>"
   ]
  },
  {
   "cell_type": "code",
   "execution_count": 23,
   "id": "fca1537b-493a-4f4f-8819-b27e44bf045c",
   "metadata": {},
   "outputs": [
    {
     "data": {
      "text/plain": [
       "Road_Surface_Conditions\n",
       "Dry                     337311\n",
       "Flood over 3cm. deep       777\n",
       "Frost or ice             14108\n",
       "Snow                      4483\n",
       "Wet or damp             140764\n",
       "unaccounted                549\n",
       "Name: Accident_Severity, dtype: int64"
      ]
     },
     "execution_count": 23,
     "metadata": {},
     "output_type": "execute_result"
    }
   ],
   "source": [
    "car_surface = car_df.groupby('Road_Surface_Conditions')['Accident_Severity'].count()\n",
    "car_surface"
   ]
  },
  {
   "cell_type": "markdown",
   "id": "89b9d689-cfd5-45fd-b5c9-c2925d12a095",
   "metadata": {},
   "source": [
    "<h3>Insight 6</h3>\n",
    "<h3>Most accidents happen on dry roads. This may be because dry roads are used more often, not because they are less safe.</h3>\n",
    "<hr>\n",
    "<br>"
   ]
  },
  {
   "cell_type": "markdown",
   "id": "dea2f5c3-7747-4312-a221-23ed3a2734a8",
   "metadata": {},
   "source": [
    "<H3>7.What is the common accident severity across all vehicles?</H3>"
   ]
  },
  {
   "cell_type": "code",
   "execution_count": 24,
   "id": "565d39f3-0630-4934-9e51-6c83ec629e91",
   "metadata": {},
   "outputs": [
    {
     "data": {
      "text/plain": [
       "Accident_Severity\n",
       "Slight     563801\n",
       "Serious     88217\n",
       "Fatal        8661\n",
       "Name: count, dtype: int64"
      ]
     },
     "execution_count": 24,
     "metadata": {},
     "output_type": "execute_result"
    }
   ],
   "source": [
    "severity_all = case['Accident_Severity'].value_counts()\n",
    "severity_all"
   ]
  },
  {
   "cell_type": "markdown",
   "id": "7fcf44b5-5527-4ca4-ba28-9e639126bd98",
   "metadata": {},
   "source": [
    "<h3>Insight 7</h3>\n",
    "<h3>Most accidents for all vehicles are slight. Fatal accidents are rare.</h3>\n",
    "<hr>\n",
    "<br>"
   ]
  },
  {
   "cell_type": "markdown",
   "id": "9385a485-7398-4d9f-8b91-1b18c16dba5a",
   "metadata": {},
   "source": [
    "<H3>8.Which vehicle types have the most casualties per fatal accident (on average)?</H3>"
   ]
  },
  {
   "cell_type": "code",
   "execution_count": 25,
   "id": "601dc82c-5740-49e0-a858-55da9b3bfd55",
   "metadata": {},
   "outputs": [
    {
     "data": {
      "text/plain": [
       "Vehicle_Type\n",
       "Agricultural vehicle                     1.76\n",
       "Bus or coach (17 or more pass seats)     2.10\n",
       "Car                                      1.89\n",
       "Goods 7.5 tonnes mgw and over            1.88\n",
       "Goods over 3.5t. and under 7.5t          2.16\n",
       "Minibus (8 - 16 passenger seats)         2.52\n",
       "Motorcycle 125cc and under               1.77\n",
       "Motorcycle 50cc and under                1.73\n",
       "Motorcycle over 125cc and up to 500cc    1.81\n",
       "Motorcycle over 500cc                    1.79\n",
       "Other vehicle                            1.66\n",
       "Pedal cycle                              1.67\n",
       "Taxi/Private hire car                    1.99\n",
       "Van / Goods 3.5 tonnes mgw or under      2.07\n",
       "Name: Number_of_Casualties, dtype: float64"
      ]
     },
     "execution_count": 25,
     "metadata": {},
     "output_type": "execute_result"
    }
   ],
   "source": [
    "fatal_df = case[case['Accident_Severity'] == 'Fatal']\n",
    "fatal_casualties = fatal_df.groupby('Vehicle_Type')['Number_of_Casualties'].mean().round(2)\n",
    "fatal_casualties"
   ]
  },
  {
   "cell_type": "markdown",
   "id": "2b3d3492-bd78-462a-869b-ca6291d531d6",
   "metadata": {},
   "source": [
    "<h3>Insight 8</h3>\n",
    "<h3>Buses and minibuses usually have more casualties per fatal crash because they carry more passengers.</h3>\n",
    "<hr>\n",
    "<br>"
   ]
  },
  {
   "cell_type": "markdown",
   "id": "6a2f4b69-fe5d-4287-8c52-9619630032e9",
   "metadata": {},
   "source": [
    "<H3>9.Which weather conditions have the most fatal accidents?</H3>"
   ]
  },
  {
   "cell_type": "code",
   "execution_count": 26,
   "id": "e402f6e4-6bf3-407f-81ec-46cb7b81773c",
   "metadata": {},
   "outputs": [
    {
     "data": {
      "text/plain": [
       "Weather_Conditions\n",
       "Fine no high winds       7100\n",
       "Raining no high winds     848\n",
       "Fine + high winds         175\n",
       "Other                     165\n",
       "Raining + high winds      145\n",
       "unaccounted               107\n",
       "Fog or mist                82\n",
       "Snowing no high winds      36\n",
       "Snowing + high winds        3\n",
       "Name: count, dtype: int64"
      ]
     },
     "execution_count": 26,
     "metadata": {},
     "output_type": "execute_result"
    }
   ],
   "source": [
    "fatal_weather = fatal_df['Weather_Conditions'].value_counts()\n",
    "fatal_weather"
   ]
  },
  {
   "cell_type": "markdown",
   "id": "e8a7c8cd-d9c3-4760-b3b7-5507c186ad2d",
   "metadata": {
    "jp-MarkdownHeadingCollapsed": true
   },
   "source": [
    "<h3>Insight 9</h3>\n",
    "<h3>Most fatal accidents happen in clear weather.</h3>\n",
    "<hr>\n",
    "<br>"
   ]
  },
  {
   "cell_type": "markdown",
   "id": "321d786f-e07c-4482-be48-b23c1dd2a2ce",
   "metadata": {},
   "source": [
    "<h3>importing f_oneway from scipy library</h3>"
   ]
  },
  {
   "cell_type": "code",
   "execution_count": 27,
   "id": "9e19f137-d081-45f7-bf74-8159761ade47",
   "metadata": {},
   "outputs": [],
   "source": [
    "from scipy.stats import f_oneway"
   ]
  },
  {
   "cell_type": "markdown",
   "id": "629a70a2-cc5c-47cf-8357-9eb97baefd31",
   "metadata": {},
   "source": [
    "<H3>10.Is there a correlation between Number of Casualties and Road Type?</H3>"
   ]
  },
  {
   "cell_type": "code",
   "execution_count": 28,
   "id": "6cd3e76e-be64-4b79-8372-3856e492debc",
   "metadata": {},
   "outputs": [
    {
     "data": {
      "text/plain": [
       "array(['Single carriageway', 'unaccounted', 'Dual carriageway',\n",
       "       'One way street', 'Roundabout', 'Slip road'], dtype=object)"
      ]
     },
     "execution_count": 28,
     "metadata": {},
     "output_type": "execute_result"
    }
   ],
   "source": [
    "case['Road_Type'].unique()"
   ]
  },
  {
   "cell_type": "code",
   "execution_count": 29,
   "id": "0c44e25b-5a13-42ca-aa63-72c79f9ad021",
   "metadata": {},
   "outputs": [],
   "source": [
    "single_type = case[case['Road_Type'] == 'Single carriageway']['Number_of_Casualties']\n",
    "dual_type = case[case['Road_Type'] == 'Dual carriageway']['Number_of_Casualties']\n",
    "oneway_type = case[case['Road_Type'] == 'One way street']['Number_of_Casualties']\n",
    "round_type = case[case['Road_Type'] == 'Roundabout']['Number_of_Casualties']\n",
    "slip_type = case[case['Road_Type'] == 'Slip road']['Number_of_Casualties']"
   ]
  },
  {
   "cell_type": "code",
   "execution_count": 30,
   "id": "6e6cd0a9-181f-4cf7-98cc-6501326cf960",
   "metadata": {},
   "outputs": [
    {
     "data": {
      "text/plain": [
       "np.float64(0.0)"
      ]
     },
     "execution_count": 30,
     "metadata": {},
     "output_type": "execute_result"
    }
   ],
   "source": [
    "res, corr_casualties_roadT = f_oneway(single_type,dual_type,oneway_type,round_type,slip_type)\n",
    "corr_casualties_roadT"
   ]
  },
  {
   "cell_type": "markdown",
   "id": "372db5b3-624a-45d5-bc95-c242ca0a7320",
   "metadata": {},
   "source": [
    "<h3>Insight 10</h3>\n",
    "<h3>Having the 0.0 in the pvalue, we can say that there are no correlation between Number of Casualties and Road Types.</h3>\n",
    "<hr>\n",
    "<br>"
   ]
  },
  {
   "cell_type": "markdown",
   "id": "81523297-7a6e-496e-8e88-18d82e3c5f9f",
   "metadata": {},
   "source": [
    "<H3>11.Is there a correlation between Road Surface Conditions and Number of Casualties in Serious Accidents?</H3>"
   ]
  },
  {
   "cell_type": "code",
   "execution_count": 31,
   "id": "80cbb20d-21f6-43e4-9436-a54c26294890",
   "metadata": {},
   "outputs": [
    {
     "data": {
      "text/plain": [
       "np.float64(1.6220067365548889e-80)"
      ]
     },
     "execution_count": 31,
     "metadata": {},
     "output_type": "execute_result"
    }
   ],
   "source": [
    "serious_df = case[case['Accident_Severity'] == 'Serious']\n",
    "\n",
    "serious_dry = serious_df[serious_df['Road_Surface_Conditions'] == 'Dry']['Number_of_Casualties']\n",
    "serious_wet = serious_df[serious_df['Road_Surface_Conditions'] == 'Wet or damp']['Number_of_Casualties']\n",
    "serious_ice = serious_df[serious_df['Road_Surface_Conditions'] == 'Frost or ice']['Number_of_Casualties']\n",
    "serious_snow = serious_df[serious_df['Road_Surface_Conditions'] == 'Snow']['Number_of_Casualties']\n",
    "\n",
    "res, surface_casualties = f_oneway(serious_dry, serious_wet, serious_ice, serious_snow)\n",
    "surface_casualties"
   ]
  },
  {
   "cell_type": "markdown",
   "id": "f4a0be12-24c0-4f9c-b48c-fc181a1315d0",
   "metadata": {},
   "source": [
    "<h3>Insight 11</h3>\n",
    "<h3>Data shows pvalue is equal to 1.62, which means there are correlations between road surface conditions and Number of casualties in Serious accidents.</h3>\n",
    "<hr>\n",
    "<br>"
   ]
  },
  {
   "cell_type": "markdown",
   "id": "a527752a-73f3-4667-b882-f272af438a76",
   "metadata": {},
   "source": [
    "<H3>12.Which weather conditions have the most Motorcycle over 500cc accidents?</H3>"
   ]
  },
  {
   "cell_type": "code",
   "execution_count": 32,
   "id": "4d2c1db2-2d23-40e9-9910-f9193a1c48cf",
   "metadata": {},
   "outputs": [
    {
     "data": {
      "text/plain": [
       "Weather_Conditions\n",
       "Fine no high winds       20245\n",
       "Raining no high winds     3135\n",
       "Other                      655\n",
       "unaccounted                548\n",
       "Raining + high winds       354\n",
       "Fine + high winds          315\n",
       "Snowing no high winds      254\n",
       "Fog or mist                118\n",
       "Snowing + high winds        33\n",
       "Name: count, dtype: int64"
      ]
     },
     "execution_count": 32,
     "metadata": {},
     "output_type": "execute_result"
    }
   ],
   "source": [
    "motorcycle500_df = case[case['Vehicle_Type'] == 'Motorcycle over 500cc']\n",
    "moto_by_weather = motorcycle500_df['Weather_Conditions'].value_counts()\n",
    "moto_by_weather"
   ]
  },
  {
   "cell_type": "markdown",
   "id": "2d6c1589-03ae-425e-85d7-4537b099bafa",
   "metadata": {},
   "source": [
    "<h3>Insight 12</h3>\n",
    "<h3>Most motorcycle over 500cc accidents happen in clear weather, not bad weather.</h3>\n",
    "<hr>\n",
    "<br>"
   ]
  },
  {
   "cell_type": "markdown",
   "id": "47d8a09d-3eb5-4408-80a2-1014a25e6649",
   "metadata": {},
   "source": [
    "<H3>13.Is there a correlation between the number of vehicles and the number of casualties in Pedal cycle accidents?</H3>"
   ]
  },
  {
   "cell_type": "code",
   "execution_count": 33,
   "id": "09a8ecc5-b825-4ab6-af06-457ceadf7603",
   "metadata": {},
   "outputs": [
    {
     "data": {
      "text/plain": [
       "np.float64(0.2648831726875072)"
      ]
     },
     "execution_count": 33,
     "metadata": {},
     "output_type": "execute_result"
    }
   ],
   "source": [
    "pedal_df = case[case['Vehicle_Type'] == 'Pedal cycle']\n",
    "pedal_corr = pedal_df['Number_of_Vehicles'].corr(pedal_df['Number_of_Casualties'])\n",
    "pedal_corr"
   ]
  },
  {
   "cell_type": "markdown",
   "id": "c6df5406-76e5-4f9a-8c9c-c4ed4fcd3ca3",
   "metadata": {},
   "source": [
    "<h3>Insight 13</h3>\n",
    "<h3>There are no correlation between number of casualties and number of vehicle in pedal cycle.</h3>\n",
    "<hr>\n",
    "<br>"
   ]
  },
  {
   "cell_type": "markdown",
   "id": "08e9aa72-723d-41c7-ae59-3b894c61d012",
   "metadata": {},
   "source": [
    "<H3>14.What is the average number of casualties in pedal cycle accidents by road type?</H3>"
   ]
  },
  {
   "cell_type": "code",
   "execution_count": 34,
   "id": "bfbfaa3e-715b-47db-9e1c-dc88c6663181",
   "metadata": {},
   "outputs": [
    {
     "data": {
      "text/plain": [
       "Road_Type\n",
       "Dual carriageway      1.6\n",
       "One way street        1.2\n",
       "Roundabout            1.2\n",
       "Single carriageway    1.3\n",
       "Slip road             1.5\n",
       "unaccounted           1.5\n",
       "Name: Number_of_Casualties, dtype: float64"
      ]
     },
     "execution_count": 34,
     "metadata": {},
     "output_type": "execute_result"
    }
   ],
   "source": [
    "pedal_casualties_roadT = pedal_df.groupby('Road_Type')['Number_of_Casualties'].mean().round(1)\n",
    "pedal_casualties_roadT"
   ]
  },
  {
   "cell_type": "markdown",
   "id": "d42808fb-8e50-4ec8-8e89-a05fb3acb772",
   "metadata": {},
   "source": [
    "<h3>Insight 14</h3>\n",
    "<h3>Dual carriageways tend to have slightly higher casualties for pedal cycle accidents compared to other roads.</h3>\n",
    "<hr>\n",
    "<br>"
   ]
  },
  {
   "cell_type": "markdown",
   "id": "b958e17f-5d15-48d0-9ecf-68e46dc6f51a",
   "metadata": {},
   "source": [
    "<H3>15.What is the average number of casualties in pedal cycle accidents by severity?</H3>"
   ]
  },
  {
   "cell_type": "code",
   "execution_count": 35,
   "id": "29a347d1-a42a-4c6b-9668-d60dd04f64d6",
   "metadata": {},
   "outputs": [
    {
     "data": {
      "text/plain": [
       "Accident_Severity\n",
       "Fatal      1.67\n",
       "Serious    1.26\n",
       "Slight     1.39\n",
       "Name: Number_of_Casualties, dtype: float64"
      ]
     },
     "execution_count": 35,
     "metadata": {},
     "output_type": "execute_result"
    }
   ],
   "source": [
    "pedal_avg_casualties = pedal_df.groupby('Accident_Severity')['Number_of_Casualties'].mean().round(2)\n",
    "pedal_avg_casualties"
   ]
  },
  {
   "cell_type": "markdown",
   "id": "54e6d04f-4814-4d17-a939-c6eb7b8a3a67",
   "metadata": {},
   "source": [
    "<h3>Insight 15</h3>\n",
    "<h3>Fatal accidents usually involve more casualties per crash compared to slight accidents.</h3>\n",
    "<hr>\n",
    "<br>"
   ]
  },
  {
   "cell_type": "markdown",
   "id": "809c7098-ced5-4eea-a3ee-6274ab491a24",
   "metadata": {},
   "source": [
    "<H3>16.On which road surfaces do ridden horse accidents happen most?</H3>"
   ]
  },
  {
   "cell_type": "code",
   "execution_count": 36,
   "id": "af19d5c7-f3c0-4d42-8dfe-6cbcfb73c32d",
   "metadata": {},
   "outputs": [
    {
     "data": {
      "text/plain": [
       "Road_Surface_Conditions\n",
       "Dry            3\n",
       "Wet or damp    1\n",
       "Name: Index, dtype: int64"
      ]
     },
     "execution_count": 36,
     "metadata": {},
     "output_type": "execute_result"
    }
   ],
   "source": [
    "ridden_horse_df = case[case['Vehicle_Type'] == 'Ridden horse']\n",
    "\n",
    "horse_surface = ridden_horse_df.groupby('Road_Surface_Conditions')['Index'].count()\n",
    "horse_surface\n"
   ]
  },
  {
   "cell_type": "markdown",
   "id": "a892e89b-5341-46b3-812a-27cf03ea9798",
   "metadata": {},
   "source": [
    "<h3>Insight 16</h3>\n",
    "<h3>Most ridden horse accidents happen on dry roads.</h3>\n",
    "<hr>\n",
    "<br>"
   ]
  },
  {
   "cell_type": "markdown",
   "id": "c7655df7-0977-4694-9558-bcb660840891",
   "metadata": {},
   "source": [
    "<H3>17.In which districts do ridden horse accidents happen most?</H3>"
   ]
  },
  {
   "cell_type": "code",
   "execution_count": 37,
   "id": "6a0024f2-2b83-42e2-8516-43c9f6bc344e",
   "metadata": {},
   "outputs": [
    {
     "data": {
      "text/plain": [
       "District Area\n",
       "Cardiff         1\n",
       "Knowsley        1\n",
       "Norwich         1\n",
       "West Lothian    1\n",
       "Name: Index, dtype: int64"
      ]
     },
     "execution_count": 37,
     "metadata": {},
     "output_type": "execute_result"
    }
   ],
   "source": [
    "horse_districts = ridden_horse_df.groupby('District Area')['Index'].count()\n",
    "horse_districts\n"
   ]
  },
  {
   "cell_type": "markdown",
   "id": "ab833b46-5553-4f87-a2a1-d4856e94c03b",
   "metadata": {},
   "source": [
    "<h3>Insight 17</h3>\n",
    "<h3>Based on the district areas with ridden horse accidents, the cases are evenly spread, with each district having 1 accident.</h3>\n",
    "<hr>\n",
    "<br>"
   ]
  },
  {
   "cell_type": "markdown",
   "id": "131c9574-039e-4b2c-bc8c-b0e04337f58d",
   "metadata": {},
   "source": [
    "<H3>18.What is the average number of casualties in horse accidents by road type?</H3>"
   ]
  },
  {
   "cell_type": "code",
   "execution_count": 38,
   "id": "5bf47c49-6ee0-4f83-b0db-81960c6d9594",
   "metadata": {},
   "outputs": [
    {
     "data": {
      "text/plain": [
       "Road_Type\n",
       "Single carriageway    1.25\n",
       "Name: Number_of_Casualties, dtype: float64"
      ]
     },
     "execution_count": 38,
     "metadata": {},
     "output_type": "execute_result"
    }
   ],
   "source": [
    "horse_casualties_road = ridden_horse_df.groupby('Road_Type')['Number_of_Casualties'].mean()\n",
    "horse_casualties_road\n"
   ]
  },
  {
   "cell_type": "markdown",
   "id": "dcc80739-2281-4280-8da4-0e9fe352f888",
   "metadata": {},
   "source": [
    "<h3>Insight 18</h3>\n",
    "<h3>Most ridden horse accidents happen on single carriageways, it has an averange of 1.25.</h3>\n",
    "<hr>\n",
    "<br>"
   ]
  },
  {
   "cell_type": "markdown",
   "id": "b658494a-d762-4697-90a9-69592d66d620",
   "metadata": {},
   "source": [
    "<H3>19.What is the average number of casualties per accident in urban vs rural areas?</H3>"
   ]
  },
  {
   "cell_type": "code",
   "execution_count": 39,
   "id": "037d8ce1-ab2d-406f-835d-bae718f1e02f",
   "metadata": {},
   "outputs": [
    {
     "data": {
      "text/plain": [
       "Urban_or_Rural_Area\n",
       "Rural          1.48\n",
       "Unallocated    1.18\n",
       "Urban          1.29\n",
       "Name: Number_of_Casualties, dtype: float64"
      ]
     },
     "execution_count": 39,
     "metadata": {},
     "output_type": "execute_result"
    }
   ],
   "source": [
    "urban_rural_casualties = case.groupby('Urban_or_Rural_Area')['Number_of_Casualties'].mean().round(2)\n",
    "urban_rural_casualties\n"
   ]
  },
  {
   "cell_type": "markdown",
   "id": "42575522-5d5d-451b-ac67-93665f7b8197",
   "metadata": {},
   "source": [
    "<h3>Insight 19</h3>\n",
    "<h3>Rural accidents tend to have slightly more casualties per crash compared to unallocated and urban, even though more accidents happen in cities.</h3>\n",
    "<hr>\n",
    "<br>"
   ]
  },
  {
   "cell_type": "markdown",
   "id": "dd64e9bf-e204-4b5b-9a93-d3f92ef6895b",
   "metadata": {},
   "source": [
    "<H3>20.Which road type has the highest number of accidents?</H3>"
   ]
  },
  {
   "cell_type": "code",
   "execution_count": 40,
   "id": "2d720f4e-c70a-4f1f-850c-abf2cfd047fb",
   "metadata": {},
   "outputs": [
    {
     "data": {
      "text/plain": [
       "Road_Type\n",
       "Single carriageway    492143\n",
       "Dual carriageway       99424\n",
       "Roundabout             43992\n",
       "One way street         13559\n",
       "Slip road               7041\n",
       "unaccounted             4520\n",
       "Name: count, dtype: int64"
      ]
     },
     "execution_count": 40,
     "metadata": {},
     "output_type": "execute_result"
    }
   ],
   "source": [
    "case['Road_Type'].value_counts()"
   ]
  },
  {
   "cell_type": "markdown",
   "id": "b0b3e189-7872-4613-92bf-82249ffcf5d5",
   "metadata": {},
   "source": [
    "<h3>Insight 20</h3>\n",
    "<h3>Most accidents happen on single carriageways, far more than any other road type.</h3>\n",
    "<hr>\n",
    "<br>"
   ]
  },
  {
   "cell_type": "markdown",
   "id": "08f4e7d1-d394-4e6c-97c9-db683b80d293",
   "metadata": {},
   "source": [
    "<h2>ABOUT DATES</h2>"
   ]
  },
  {
   "cell_type": "markdown",
   "id": "5e855c65-3b56-4cbd-a378-113666a30bf0",
   "metadata": {},
   "source": []
  }
 ],
 "metadata": {
  "kernelspec": {
   "display_name": "Python 3 (ipykernel)",
   "language": "python",
   "name": "python3"
  },
  "language_info": {
   "codemirror_mode": {
    "name": "ipython",
    "version": 3
   },
   "file_extension": ".py",
   "mimetype": "text/x-python",
   "name": "python",
   "nbconvert_exporter": "python",
   "pygments_lexer": "ipython3",
   "version": "3.13.7"
  }
 },
 "nbformat": 4,
 "nbformat_minor": 5
}
