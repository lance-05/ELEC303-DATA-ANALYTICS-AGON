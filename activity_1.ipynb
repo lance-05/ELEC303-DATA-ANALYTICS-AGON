{
 "cells": [
  {
   "cell_type": "markdown",
   "id": "36a1be21-f970-42ea-a782-c21c0753095c",
   "metadata": {},
   "source": [
    "<h1>Palmer Peguin Data Analytics</h1>\n",
    "<hr>\n",
    "<h3>Analyst: Agon, Lance D.</h3>"
   ]
  },
  {
   "cell_type": "code",
   "execution_count": 1,
   "id": "7181aa9a-df69-445c-9e85-63215c8718a6",
   "metadata": {},
   "outputs": [],
   "source": [
    "import numpy as np\n",
    "import pandas as pd\n",
    "import warnings\n",
    "warnings.filterwarnings('ignore')"
   ]
  },
  {
   "cell_type": "markdown",
   "id": "87f1d1f3-7ce7-4f86-a36e-83dfdfd22f30",
   "metadata": {},
   "source": [
    "<p>Import dataset to Jupyter notebook</p>\n",
    "<p>converting dataset to dataframe</p>\n",
    "<ul><strong>Requirements</strong>\n",
    "    <li>Name of the Dataframe</li>\n",
    "    <li>Source</li>\n",
    "</ul>\n"
   ]
  },
  {
   "cell_type": "code",
   "execution_count": 2,
   "id": "0a31ef9b-89ab-484f-8c93-c03fcbdc889c",
   "metadata": {},
   "outputs": [],
   "source": [
    "pengu = pd.read_csv('DATASETS\\\\penguins.csv')"
   ]
  },
  {
   "cell_type": "code",
   "execution_count": 3,
   "id": "2010dc9c-97cf-43a6-a560-d94c494a626d",
   "metadata": {},
   "outputs": [
    {
     "data": {
      "text/html": [
       "<div>\n",
       "<style scoped>\n",
       "    .dataframe tbody tr th:only-of-type {\n",
       "        vertical-align: middle;\n",
       "    }\n",
       "\n",
       "    .dataframe tbody tr th {\n",
       "        vertical-align: top;\n",
       "    }\n",
       "\n",
       "    .dataframe thead th {\n",
       "        text-align: right;\n",
       "    }\n",
       "</style>\n",
       "<table border=\"1\" class=\"dataframe\">\n",
       "  <thead>\n",
       "    <tr style=\"text-align: right;\">\n",
       "      <th></th>\n",
       "      <th>species</th>\n",
       "      <th>island</th>\n",
       "      <th>bill_length_mm</th>\n",
       "      <th>bill_depth_mm</th>\n",
       "      <th>flipper_length_mm</th>\n",
       "      <th>body_mass_g</th>\n",
       "      <th>sex</th>\n",
       "      <th>year</th>\n",
       "    </tr>\n",
       "  </thead>\n",
       "  <tbody>\n",
       "    <tr>\n",
       "      <th>0</th>\n",
       "      <td>Adelie</td>\n",
       "      <td>Torgersen</td>\n",
       "      <td>39.1</td>\n",
       "      <td>18.7</td>\n",
       "      <td>181.0</td>\n",
       "      <td>3750.0</td>\n",
       "      <td>male</td>\n",
       "      <td>2007</td>\n",
       "    </tr>\n",
       "    <tr>\n",
       "      <th>1</th>\n",
       "      <td>Adelie</td>\n",
       "      <td>Torgersen</td>\n",
       "      <td>39.5</td>\n",
       "      <td>17.4</td>\n",
       "      <td>186.0</td>\n",
       "      <td>3800.0</td>\n",
       "      <td>female</td>\n",
       "      <td>2007</td>\n",
       "    </tr>\n",
       "    <tr>\n",
       "      <th>2</th>\n",
       "      <td>Adelie</td>\n",
       "      <td>Torgersen</td>\n",
       "      <td>40.3</td>\n",
       "      <td>18.0</td>\n",
       "      <td>195.0</td>\n",
       "      <td>3250.0</td>\n",
       "      <td>female</td>\n",
       "      <td>2007</td>\n",
       "    </tr>\n",
       "    <tr>\n",
       "      <th>3</th>\n",
       "      <td>Adelie</td>\n",
       "      <td>Torgersen</td>\n",
       "      <td>NaN</td>\n",
       "      <td>NaN</td>\n",
       "      <td>NaN</td>\n",
       "      <td>NaN</td>\n",
       "      <td>NaN</td>\n",
       "      <td>2007</td>\n",
       "    </tr>\n",
       "    <tr>\n",
       "      <th>4</th>\n",
       "      <td>Adelie</td>\n",
       "      <td>Torgersen</td>\n",
       "      <td>36.7</td>\n",
       "      <td>19.3</td>\n",
       "      <td>193.0</td>\n",
       "      <td>3450.0</td>\n",
       "      <td>female</td>\n",
       "      <td>2007</td>\n",
       "    </tr>\n",
       "    <tr>\n",
       "      <th>...</th>\n",
       "      <td>...</td>\n",
       "      <td>...</td>\n",
       "      <td>...</td>\n",
       "      <td>...</td>\n",
       "      <td>...</td>\n",
       "      <td>...</td>\n",
       "      <td>...</td>\n",
       "      <td>...</td>\n",
       "    </tr>\n",
       "    <tr>\n",
       "      <th>339</th>\n",
       "      <td>Chinstrap</td>\n",
       "      <td>Dream</td>\n",
       "      <td>55.8</td>\n",
       "      <td>19.8</td>\n",
       "      <td>207.0</td>\n",
       "      <td>4000.0</td>\n",
       "      <td>male</td>\n",
       "      <td>2009</td>\n",
       "    </tr>\n",
       "    <tr>\n",
       "      <th>340</th>\n",
       "      <td>Chinstrap</td>\n",
       "      <td>Dream</td>\n",
       "      <td>43.5</td>\n",
       "      <td>18.1</td>\n",
       "      <td>202.0</td>\n",
       "      <td>3400.0</td>\n",
       "      <td>female</td>\n",
       "      <td>2009</td>\n",
       "    </tr>\n",
       "    <tr>\n",
       "      <th>341</th>\n",
       "      <td>Chinstrap</td>\n",
       "      <td>Dream</td>\n",
       "      <td>49.6</td>\n",
       "      <td>18.2</td>\n",
       "      <td>193.0</td>\n",
       "      <td>3775.0</td>\n",
       "      <td>male</td>\n",
       "      <td>2009</td>\n",
       "    </tr>\n",
       "    <tr>\n",
       "      <th>342</th>\n",
       "      <td>Chinstrap</td>\n",
       "      <td>Dream</td>\n",
       "      <td>50.8</td>\n",
       "      <td>19.0</td>\n",
       "      <td>210.0</td>\n",
       "      <td>4100.0</td>\n",
       "      <td>male</td>\n",
       "      <td>2009</td>\n",
       "    </tr>\n",
       "    <tr>\n",
       "      <th>343</th>\n",
       "      <td>Chinstrap</td>\n",
       "      <td>Dream</td>\n",
       "      <td>50.2</td>\n",
       "      <td>18.7</td>\n",
       "      <td>198.0</td>\n",
       "      <td>3775.0</td>\n",
       "      <td>female</td>\n",
       "      <td>2009</td>\n",
       "    </tr>\n",
       "  </tbody>\n",
       "</table>\n",
       "<p>344 rows × 8 columns</p>\n",
       "</div>"
      ],
      "text/plain": [
       "       species     island  bill_length_mm  bill_depth_mm  flipper_length_mm  \\\n",
       "0       Adelie  Torgersen            39.1           18.7              181.0   \n",
       "1       Adelie  Torgersen            39.5           17.4              186.0   \n",
       "2       Adelie  Torgersen            40.3           18.0              195.0   \n",
       "3       Adelie  Torgersen             NaN            NaN                NaN   \n",
       "4       Adelie  Torgersen            36.7           19.3              193.0   \n",
       "..         ...        ...             ...            ...                ...   \n",
       "339  Chinstrap      Dream            55.8           19.8              207.0   \n",
       "340  Chinstrap      Dream            43.5           18.1              202.0   \n",
       "341  Chinstrap      Dream            49.6           18.2              193.0   \n",
       "342  Chinstrap      Dream            50.8           19.0              210.0   \n",
       "343  Chinstrap      Dream            50.2           18.7              198.0   \n",
       "\n",
       "     body_mass_g     sex  year  \n",
       "0         3750.0    male  2007  \n",
       "1         3800.0  female  2007  \n",
       "2         3250.0  female  2007  \n",
       "3            NaN     NaN  2007  \n",
       "4         3450.0  female  2007  \n",
       "..           ...     ...   ...  \n",
       "339       4000.0    male  2009  \n",
       "340       3400.0  female  2009  \n",
       "341       3775.0    male  2009  \n",
       "342       4100.0    male  2009  \n",
       "343       3775.0  female  2009  \n",
       "\n",
       "[344 rows x 8 columns]"
      ]
     },
     "execution_count": 3,
     "metadata": {},
     "output_type": "execute_result"
    }
   ],
   "source": [
    "pengu"
   ]
  },
  {
   "cell_type": "markdown",
   "id": "52a0192c-35ae-4e01-9df9-bb742aa63ee8",
   "metadata": {
    "jp-MarkdownHeadingCollapsed": true
   },
   "source": [
    "<h2>Adding Column.</h2>"
   ]
  },
  {
   "cell_type": "code",
   "execution_count": 4,
   "id": "9335d1b1-a54c-406b-8634-dab0dae821f9",
   "metadata": {},
   "outputs": [],
   "source": [
    "pengu['mass_kg'] = np.round(pengu['body_mass_g'] / 1000,1)"
   ]
  },
  {
   "cell_type": "code",
   "execution_count": 5,
   "id": "dc037766-b648-4bf2-b66f-8cdce513ebc6",
   "metadata": {},
   "outputs": [
    {
     "data": {
      "text/html": [
       "<div>\n",
       "<style scoped>\n",
       "    .dataframe tbody tr th:only-of-type {\n",
       "        vertical-align: middle;\n",
       "    }\n",
       "\n",
       "    .dataframe tbody tr th {\n",
       "        vertical-align: top;\n",
       "    }\n",
       "\n",
       "    .dataframe thead th {\n",
       "        text-align: right;\n",
       "    }\n",
       "</style>\n",
       "<table border=\"1\" class=\"dataframe\">\n",
       "  <thead>\n",
       "    <tr style=\"text-align: right;\">\n",
       "      <th></th>\n",
       "      <th>species</th>\n",
       "      <th>island</th>\n",
       "      <th>bill_length_mm</th>\n",
       "      <th>bill_depth_mm</th>\n",
       "      <th>flipper_length_mm</th>\n",
       "      <th>body_mass_g</th>\n",
       "      <th>sex</th>\n",
       "      <th>year</th>\n",
       "      <th>mass_kg</th>\n",
       "    </tr>\n",
       "  </thead>\n",
       "  <tbody>\n",
       "    <tr>\n",
       "      <th>0</th>\n",
       "      <td>Adelie</td>\n",
       "      <td>Torgersen</td>\n",
       "      <td>39.1</td>\n",
       "      <td>18.7</td>\n",
       "      <td>181.0</td>\n",
       "      <td>3750.0</td>\n",
       "      <td>male</td>\n",
       "      <td>2007</td>\n",
       "      <td>3.8</td>\n",
       "    </tr>\n",
       "    <tr>\n",
       "      <th>1</th>\n",
       "      <td>Adelie</td>\n",
       "      <td>Torgersen</td>\n",
       "      <td>39.5</td>\n",
       "      <td>17.4</td>\n",
       "      <td>186.0</td>\n",
       "      <td>3800.0</td>\n",
       "      <td>female</td>\n",
       "      <td>2007</td>\n",
       "      <td>3.8</td>\n",
       "    </tr>\n",
       "    <tr>\n",
       "      <th>2</th>\n",
       "      <td>Adelie</td>\n",
       "      <td>Torgersen</td>\n",
       "      <td>40.3</td>\n",
       "      <td>18.0</td>\n",
       "      <td>195.0</td>\n",
       "      <td>3250.0</td>\n",
       "      <td>female</td>\n",
       "      <td>2007</td>\n",
       "      <td>3.2</td>\n",
       "    </tr>\n",
       "    <tr>\n",
       "      <th>3</th>\n",
       "      <td>Adelie</td>\n",
       "      <td>Torgersen</td>\n",
       "      <td>NaN</td>\n",
       "      <td>NaN</td>\n",
       "      <td>NaN</td>\n",
       "      <td>NaN</td>\n",
       "      <td>NaN</td>\n",
       "      <td>2007</td>\n",
       "      <td>NaN</td>\n",
       "    </tr>\n",
       "    <tr>\n",
       "      <th>4</th>\n",
       "      <td>Adelie</td>\n",
       "      <td>Torgersen</td>\n",
       "      <td>36.7</td>\n",
       "      <td>19.3</td>\n",
       "      <td>193.0</td>\n",
       "      <td>3450.0</td>\n",
       "      <td>female</td>\n",
       "      <td>2007</td>\n",
       "      <td>3.4</td>\n",
       "    </tr>\n",
       "    <tr>\n",
       "      <th>...</th>\n",
       "      <td>...</td>\n",
       "      <td>...</td>\n",
       "      <td>...</td>\n",
       "      <td>...</td>\n",
       "      <td>...</td>\n",
       "      <td>...</td>\n",
       "      <td>...</td>\n",
       "      <td>...</td>\n",
       "      <td>...</td>\n",
       "    </tr>\n",
       "    <tr>\n",
       "      <th>339</th>\n",
       "      <td>Chinstrap</td>\n",
       "      <td>Dream</td>\n",
       "      <td>55.8</td>\n",
       "      <td>19.8</td>\n",
       "      <td>207.0</td>\n",
       "      <td>4000.0</td>\n",
       "      <td>male</td>\n",
       "      <td>2009</td>\n",
       "      <td>4.0</td>\n",
       "    </tr>\n",
       "    <tr>\n",
       "      <th>340</th>\n",
       "      <td>Chinstrap</td>\n",
       "      <td>Dream</td>\n",
       "      <td>43.5</td>\n",
       "      <td>18.1</td>\n",
       "      <td>202.0</td>\n",
       "      <td>3400.0</td>\n",
       "      <td>female</td>\n",
       "      <td>2009</td>\n",
       "      <td>3.4</td>\n",
       "    </tr>\n",
       "    <tr>\n",
       "      <th>341</th>\n",
       "      <td>Chinstrap</td>\n",
       "      <td>Dream</td>\n",
       "      <td>49.6</td>\n",
       "      <td>18.2</td>\n",
       "      <td>193.0</td>\n",
       "      <td>3775.0</td>\n",
       "      <td>male</td>\n",
       "      <td>2009</td>\n",
       "      <td>3.8</td>\n",
       "    </tr>\n",
       "    <tr>\n",
       "      <th>342</th>\n",
       "      <td>Chinstrap</td>\n",
       "      <td>Dream</td>\n",
       "      <td>50.8</td>\n",
       "      <td>19.0</td>\n",
       "      <td>210.0</td>\n",
       "      <td>4100.0</td>\n",
       "      <td>male</td>\n",
       "      <td>2009</td>\n",
       "      <td>4.1</td>\n",
       "    </tr>\n",
       "    <tr>\n",
       "      <th>343</th>\n",
       "      <td>Chinstrap</td>\n",
       "      <td>Dream</td>\n",
       "      <td>50.2</td>\n",
       "      <td>18.7</td>\n",
       "      <td>198.0</td>\n",
       "      <td>3775.0</td>\n",
       "      <td>female</td>\n",
       "      <td>2009</td>\n",
       "      <td>3.8</td>\n",
       "    </tr>\n",
       "  </tbody>\n",
       "</table>\n",
       "<p>344 rows × 9 columns</p>\n",
       "</div>"
      ],
      "text/plain": [
       "       species     island  bill_length_mm  bill_depth_mm  flipper_length_mm  \\\n",
       "0       Adelie  Torgersen            39.1           18.7              181.0   \n",
       "1       Adelie  Torgersen            39.5           17.4              186.0   \n",
       "2       Adelie  Torgersen            40.3           18.0              195.0   \n",
       "3       Adelie  Torgersen             NaN            NaN                NaN   \n",
       "4       Adelie  Torgersen            36.7           19.3              193.0   \n",
       "..         ...        ...             ...            ...                ...   \n",
       "339  Chinstrap      Dream            55.8           19.8              207.0   \n",
       "340  Chinstrap      Dream            43.5           18.1              202.0   \n",
       "341  Chinstrap      Dream            49.6           18.2              193.0   \n",
       "342  Chinstrap      Dream            50.8           19.0              210.0   \n",
       "343  Chinstrap      Dream            50.2           18.7              198.0   \n",
       "\n",
       "     body_mass_g     sex  year  mass_kg  \n",
       "0         3750.0    male  2007      3.8  \n",
       "1         3800.0  female  2007      3.8  \n",
       "2         3250.0  female  2007      3.2  \n",
       "3            NaN     NaN  2007      NaN  \n",
       "4         3450.0  female  2007      3.4  \n",
       "..           ...     ...   ...      ...  \n",
       "339       4000.0    male  2009      4.0  \n",
       "340       3400.0  female  2009      3.4  \n",
       "341       3775.0    male  2009      3.8  \n",
       "342       4100.0    male  2009      4.1  \n",
       "343       3775.0  female  2009      3.8  \n",
       "\n",
       "[344 rows x 9 columns]"
      ]
     },
     "execution_count": 5,
     "metadata": {},
     "output_type": "execute_result"
    }
   ],
   "source": [
    "pengu"
   ]
  },
  {
   "cell_type": "code",
   "execution_count": 6,
   "id": "25a18955-2b29-43f2-8e3b-9fe36b4eba67",
   "metadata": {},
   "outputs": [
    {
     "data": {
      "text/html": [
       "<div>\n",
       "<style scoped>\n",
       "    .dataframe tbody tr th:only-of-type {\n",
       "        vertical-align: middle;\n",
       "    }\n",
       "\n",
       "    .dataframe tbody tr th {\n",
       "        vertical-align: top;\n",
       "    }\n",
       "\n",
       "    .dataframe thead th {\n",
       "        text-align: right;\n",
       "    }\n",
       "</style>\n",
       "<table border=\"1\" class=\"dataframe\">\n",
       "  <thead>\n",
       "    <tr style=\"text-align: right;\">\n",
       "      <th></th>\n",
       "      <th>bill_length_mm</th>\n",
       "      <th>bill_depth_mm</th>\n",
       "      <th>flipper_length_mm</th>\n",
       "      <th>body_mass_g</th>\n",
       "      <th>year</th>\n",
       "      <th>mass_kg</th>\n",
       "    </tr>\n",
       "  </thead>\n",
       "  <tbody>\n",
       "    <tr>\n",
       "      <th>count</th>\n",
       "      <td>342.000000</td>\n",
       "      <td>342.000000</td>\n",
       "      <td>342.000000</td>\n",
       "      <td>342.000000</td>\n",
       "      <td>344.000000</td>\n",
       "      <td>342.000000</td>\n",
       "    </tr>\n",
       "    <tr>\n",
       "      <th>mean</th>\n",
       "      <td>43.921930</td>\n",
       "      <td>17.151170</td>\n",
       "      <td>200.915205</td>\n",
       "      <td>4201.754386</td>\n",
       "      <td>2008.029070</td>\n",
       "      <td>4.202047</td>\n",
       "    </tr>\n",
       "    <tr>\n",
       "      <th>std</th>\n",
       "      <td>5.459584</td>\n",
       "      <td>1.974793</td>\n",
       "      <td>14.061714</td>\n",
       "      <td>801.954536</td>\n",
       "      <td>0.818356</td>\n",
       "      <td>0.803089</td>\n",
       "    </tr>\n",
       "    <tr>\n",
       "      <th>min</th>\n",
       "      <td>32.100000</td>\n",
       "      <td>13.100000</td>\n",
       "      <td>172.000000</td>\n",
       "      <td>2700.000000</td>\n",
       "      <td>2007.000000</td>\n",
       "      <td>2.700000</td>\n",
       "    </tr>\n",
       "    <tr>\n",
       "      <th>25%</th>\n",
       "      <td>39.225000</td>\n",
       "      <td>15.600000</td>\n",
       "      <td>190.000000</td>\n",
       "      <td>3550.000000</td>\n",
       "      <td>2007.000000</td>\n",
       "      <td>3.600000</td>\n",
       "    </tr>\n",
       "    <tr>\n",
       "      <th>50%</th>\n",
       "      <td>44.450000</td>\n",
       "      <td>17.300000</td>\n",
       "      <td>197.000000</td>\n",
       "      <td>4050.000000</td>\n",
       "      <td>2008.000000</td>\n",
       "      <td>4.000000</td>\n",
       "    </tr>\n",
       "    <tr>\n",
       "      <th>75%</th>\n",
       "      <td>48.500000</td>\n",
       "      <td>18.700000</td>\n",
       "      <td>213.000000</td>\n",
       "      <td>4750.000000</td>\n",
       "      <td>2009.000000</td>\n",
       "      <td>4.800000</td>\n",
       "    </tr>\n",
       "    <tr>\n",
       "      <th>max</th>\n",
       "      <td>59.600000</td>\n",
       "      <td>21.500000</td>\n",
       "      <td>231.000000</td>\n",
       "      <td>6300.000000</td>\n",
       "      <td>2009.000000</td>\n",
       "      <td>6.300000</td>\n",
       "    </tr>\n",
       "  </tbody>\n",
       "</table>\n",
       "</div>"
      ],
      "text/plain": [
       "       bill_length_mm  bill_depth_mm  flipper_length_mm  body_mass_g  \\\n",
       "count      342.000000     342.000000         342.000000   342.000000   \n",
       "mean        43.921930      17.151170         200.915205  4201.754386   \n",
       "std          5.459584       1.974793          14.061714   801.954536   \n",
       "min         32.100000      13.100000         172.000000  2700.000000   \n",
       "25%         39.225000      15.600000         190.000000  3550.000000   \n",
       "50%         44.450000      17.300000         197.000000  4050.000000   \n",
       "75%         48.500000      18.700000         213.000000  4750.000000   \n",
       "max         59.600000      21.500000         231.000000  6300.000000   \n",
       "\n",
       "              year     mass_kg  \n",
       "count   344.000000  342.000000  \n",
       "mean   2008.029070    4.202047  \n",
       "std       0.818356    0.803089  \n",
       "min    2007.000000    2.700000  \n",
       "25%    2007.000000    3.600000  \n",
       "50%    2008.000000    4.000000  \n",
       "75%    2009.000000    4.800000  \n",
       "max    2009.000000    6.300000  "
      ]
     },
     "execution_count": 6,
     "metadata": {},
     "output_type": "execute_result"
    }
   ],
   "source": [
    "pengu.describe()"
   ]
  },
  {
   "cell_type": "code",
   "execution_count": 7,
   "id": "054207b3-81e8-4614-82af-b840233f23d3",
   "metadata": {},
   "outputs": [
    {
     "data": {
      "text/html": [
       "<div>\n",
       "<style scoped>\n",
       "    .dataframe tbody tr th:only-of-type {\n",
       "        vertical-align: middle;\n",
       "    }\n",
       "\n",
       "    .dataframe tbody tr th {\n",
       "        vertical-align: top;\n",
       "    }\n",
       "\n",
       "    .dataframe thead th {\n",
       "        text-align: right;\n",
       "    }\n",
       "</style>\n",
       "<table border=\"1\" class=\"dataframe\">\n",
       "  <thead>\n",
       "    <tr style=\"text-align: right;\">\n",
       "      <th></th>\n",
       "      <th>count</th>\n",
       "      <th>mean</th>\n",
       "      <th>std</th>\n",
       "      <th>min</th>\n",
       "      <th>25%</th>\n",
       "      <th>50%</th>\n",
       "      <th>75%</th>\n",
       "      <th>max</th>\n",
       "    </tr>\n",
       "  </thead>\n",
       "  <tbody>\n",
       "    <tr>\n",
       "      <th>bill_length_mm</th>\n",
       "      <td>342.0</td>\n",
       "      <td>43.921930</td>\n",
       "      <td>5.459584</td>\n",
       "      <td>32.1</td>\n",
       "      <td>39.225</td>\n",
       "      <td>44.45</td>\n",
       "      <td>48.5</td>\n",
       "      <td>59.6</td>\n",
       "    </tr>\n",
       "    <tr>\n",
       "      <th>bill_depth_mm</th>\n",
       "      <td>342.0</td>\n",
       "      <td>17.151170</td>\n",
       "      <td>1.974793</td>\n",
       "      <td>13.1</td>\n",
       "      <td>15.600</td>\n",
       "      <td>17.30</td>\n",
       "      <td>18.7</td>\n",
       "      <td>21.5</td>\n",
       "    </tr>\n",
       "    <tr>\n",
       "      <th>flipper_length_mm</th>\n",
       "      <td>342.0</td>\n",
       "      <td>200.915205</td>\n",
       "      <td>14.061714</td>\n",
       "      <td>172.0</td>\n",
       "      <td>190.000</td>\n",
       "      <td>197.00</td>\n",
       "      <td>213.0</td>\n",
       "      <td>231.0</td>\n",
       "    </tr>\n",
       "    <tr>\n",
       "      <th>body_mass_g</th>\n",
       "      <td>342.0</td>\n",
       "      <td>4201.754386</td>\n",
       "      <td>801.954536</td>\n",
       "      <td>2700.0</td>\n",
       "      <td>3550.000</td>\n",
       "      <td>4050.00</td>\n",
       "      <td>4750.0</td>\n",
       "      <td>6300.0</td>\n",
       "    </tr>\n",
       "    <tr>\n",
       "      <th>year</th>\n",
       "      <td>344.0</td>\n",
       "      <td>2008.029070</td>\n",
       "      <td>0.818356</td>\n",
       "      <td>2007.0</td>\n",
       "      <td>2007.000</td>\n",
       "      <td>2008.00</td>\n",
       "      <td>2009.0</td>\n",
       "      <td>2009.0</td>\n",
       "    </tr>\n",
       "    <tr>\n",
       "      <th>mass_kg</th>\n",
       "      <td>342.0</td>\n",
       "      <td>4.202047</td>\n",
       "      <td>0.803089</td>\n",
       "      <td>2.7</td>\n",
       "      <td>3.600</td>\n",
       "      <td>4.00</td>\n",
       "      <td>4.8</td>\n",
       "      <td>6.3</td>\n",
       "    </tr>\n",
       "  </tbody>\n",
       "</table>\n",
       "</div>"
      ],
      "text/plain": [
       "                   count         mean         std     min       25%      50%  \\\n",
       "bill_length_mm     342.0    43.921930    5.459584    32.1    39.225    44.45   \n",
       "bill_depth_mm      342.0    17.151170    1.974793    13.1    15.600    17.30   \n",
       "flipper_length_mm  342.0   200.915205   14.061714   172.0   190.000   197.00   \n",
       "body_mass_g        342.0  4201.754386  801.954536  2700.0  3550.000  4050.00   \n",
       "year               344.0  2008.029070    0.818356  2007.0  2007.000  2008.00   \n",
       "mass_kg            342.0     4.202047    0.803089     2.7     3.600     4.00   \n",
       "\n",
       "                      75%     max  \n",
       "bill_length_mm       48.5    59.6  \n",
       "bill_depth_mm        18.7    21.5  \n",
       "flipper_length_mm   213.0   231.0  \n",
       "body_mass_g        4750.0  6300.0  \n",
       "year               2009.0  2009.0  \n",
       "mass_kg               4.8     6.3  "
      ]
     },
     "execution_count": 7,
     "metadata": {},
     "output_type": "execute_result"
    }
   ],
   "source": [
    "pengu.describe().T"
   ]
  },
  {
   "cell_type": "markdown",
   "id": "d2d2aeac-a8df-434c-abec-c1c2871778de",
   "metadata": {
    "jp-MarkdownHeadingCollapsed": true
   },
   "source": [
    "<H2>Cleaning the Data</H2>"
   ]
  },
  {
   "cell_type": "code",
   "execution_count": 8,
   "id": "2531f586-db02-4935-a0d9-42193815aabe",
   "metadata": {},
   "outputs": [
    {
     "data": {
      "text/plain": [
       "species               0\n",
       "island                0\n",
       "bill_length_mm        2\n",
       "bill_depth_mm         2\n",
       "flipper_length_mm     2\n",
       "body_mass_g           2\n",
       "sex                  11\n",
       "year                  0\n",
       "mass_kg               2\n",
       "dtype: int64"
      ]
     },
     "execution_count": 8,
     "metadata": {},
     "output_type": "execute_result"
    }
   ],
   "source": [
    "pengu.isnull().sum()"
   ]
  },
  {
   "cell_type": "markdown",
   "id": "c74e804a-b2cb-4dac-ac1f-83d4c4edeb70",
   "metadata": {},
   "source": [
    "<h4>Selecting a column<h4>\n",
    "<h4>Syntax</h4><br>\n",
    "data_frame['column_name']"
   ]
  },
  {
   "cell_type": "markdown",
   "id": "c385e943-cc5f-4ebf-8a3e-23f7575ebe05",
   "metadata": {},
   "source": [
    "<h5>Identify the element values of a column.</h5>"
   ]
  },
  {
   "cell_type": "code",
   "execution_count": 9,
   "id": "d75f93e7-198a-41ac-a23d-49647cf47327",
   "metadata": {},
   "outputs": [
    {
     "data": {
      "text/plain": [
       "array(['Adelie', 'Gentoo', 'Chinstrap'], dtype=object)"
      ]
     },
     "execution_count": 9,
     "metadata": {},
     "output_type": "execute_result"
    }
   ],
   "source": [
    "pengu['species'].unique()"
   ]
  },
  {
   "cell_type": "markdown",
   "id": "46583ae4-a5e5-4131-a8e7-bce3d01a6fde",
   "metadata": {},
   "source": [
    "<H5>Creating Dataframe for Specific Species.</H5>"
   ]
  },
  {
   "cell_type": "code",
   "execution_count": 10,
   "id": "3028d437-8e33-4b93-a5bf-53a694c9a529",
   "metadata": {},
   "outputs": [],
   "source": [
    "gentoo_df = pengu[pengu['species'] == 'Gentoo']"
   ]
  },
  {
   "cell_type": "code",
   "execution_count": 11,
   "id": "e9000bcb-644d-44cd-bab9-2aea04adb6b8",
   "metadata": {},
   "outputs": [],
   "source": [
    "adelie_df = pengu[pengu['species'] == 'Adelie']"
   ]
  },
  {
   "cell_type": "code",
   "execution_count": 12,
   "id": "1aa62582-9c30-4015-982a-42e90651b904",
   "metadata": {},
   "outputs": [],
   "source": [
    "chinstrap_df = pengu[pengu['species'] == 'Chinstrap']"
   ]
  },
  {
   "cell_type": "code",
   "execution_count": 13,
   "id": "83906f84-50e7-4d08-bcdd-3a90bb5193b3",
   "metadata": {},
   "outputs": [
    {
     "data": {
      "text/html": [
       "<div>\n",
       "<style scoped>\n",
       "    .dataframe tbody tr th:only-of-type {\n",
       "        vertical-align: middle;\n",
       "    }\n",
       "\n",
       "    .dataframe tbody tr th {\n",
       "        vertical-align: top;\n",
       "    }\n",
       "\n",
       "    .dataframe thead th {\n",
       "        text-align: right;\n",
       "    }\n",
       "</style>\n",
       "<table border=\"1\" class=\"dataframe\">\n",
       "  <thead>\n",
       "    <tr style=\"text-align: right;\">\n",
       "      <th></th>\n",
       "      <th>species</th>\n",
       "      <th>island</th>\n",
       "      <th>bill_length_mm</th>\n",
       "      <th>bill_depth_mm</th>\n",
       "      <th>flipper_length_mm</th>\n",
       "      <th>body_mass_g</th>\n",
       "      <th>sex</th>\n",
       "      <th>year</th>\n",
       "      <th>mass_kg</th>\n",
       "    </tr>\n",
       "  </thead>\n",
       "  <tbody>\n",
       "    <tr>\n",
       "      <th>152</th>\n",
       "      <td>Gentoo</td>\n",
       "      <td>Biscoe</td>\n",
       "      <td>46.1</td>\n",
       "      <td>13.2</td>\n",
       "      <td>211.0</td>\n",
       "      <td>4500.0</td>\n",
       "      <td>female</td>\n",
       "      <td>2007</td>\n",
       "      <td>4.5</td>\n",
       "    </tr>\n",
       "    <tr>\n",
       "      <th>153</th>\n",
       "      <td>Gentoo</td>\n",
       "      <td>Biscoe</td>\n",
       "      <td>50.0</td>\n",
       "      <td>16.3</td>\n",
       "      <td>230.0</td>\n",
       "      <td>5700.0</td>\n",
       "      <td>male</td>\n",
       "      <td>2007</td>\n",
       "      <td>5.7</td>\n",
       "    </tr>\n",
       "    <tr>\n",
       "      <th>154</th>\n",
       "      <td>Gentoo</td>\n",
       "      <td>Biscoe</td>\n",
       "      <td>48.7</td>\n",
       "      <td>14.1</td>\n",
       "      <td>210.0</td>\n",
       "      <td>4450.0</td>\n",
       "      <td>female</td>\n",
       "      <td>2007</td>\n",
       "      <td>4.4</td>\n",
       "    </tr>\n",
       "    <tr>\n",
       "      <th>155</th>\n",
       "      <td>Gentoo</td>\n",
       "      <td>Biscoe</td>\n",
       "      <td>50.0</td>\n",
       "      <td>15.2</td>\n",
       "      <td>218.0</td>\n",
       "      <td>5700.0</td>\n",
       "      <td>male</td>\n",
       "      <td>2007</td>\n",
       "      <td>5.7</td>\n",
       "    </tr>\n",
       "    <tr>\n",
       "      <th>156</th>\n",
       "      <td>Gentoo</td>\n",
       "      <td>Biscoe</td>\n",
       "      <td>47.6</td>\n",
       "      <td>14.5</td>\n",
       "      <td>215.0</td>\n",
       "      <td>5400.0</td>\n",
       "      <td>male</td>\n",
       "      <td>2007</td>\n",
       "      <td>5.4</td>\n",
       "    </tr>\n",
       "    <tr>\n",
       "      <th>...</th>\n",
       "      <td>...</td>\n",
       "      <td>...</td>\n",
       "      <td>...</td>\n",
       "      <td>...</td>\n",
       "      <td>...</td>\n",
       "      <td>...</td>\n",
       "      <td>...</td>\n",
       "      <td>...</td>\n",
       "      <td>...</td>\n",
       "    </tr>\n",
       "    <tr>\n",
       "      <th>271</th>\n",
       "      <td>Gentoo</td>\n",
       "      <td>Biscoe</td>\n",
       "      <td>NaN</td>\n",
       "      <td>NaN</td>\n",
       "      <td>NaN</td>\n",
       "      <td>NaN</td>\n",
       "      <td>NaN</td>\n",
       "      <td>2009</td>\n",
       "      <td>NaN</td>\n",
       "    </tr>\n",
       "    <tr>\n",
       "      <th>272</th>\n",
       "      <td>Gentoo</td>\n",
       "      <td>Biscoe</td>\n",
       "      <td>46.8</td>\n",
       "      <td>14.3</td>\n",
       "      <td>215.0</td>\n",
       "      <td>4850.0</td>\n",
       "      <td>female</td>\n",
       "      <td>2009</td>\n",
       "      <td>4.8</td>\n",
       "    </tr>\n",
       "    <tr>\n",
       "      <th>273</th>\n",
       "      <td>Gentoo</td>\n",
       "      <td>Biscoe</td>\n",
       "      <td>50.4</td>\n",
       "      <td>15.7</td>\n",
       "      <td>222.0</td>\n",
       "      <td>5750.0</td>\n",
       "      <td>male</td>\n",
       "      <td>2009</td>\n",
       "      <td>5.8</td>\n",
       "    </tr>\n",
       "    <tr>\n",
       "      <th>274</th>\n",
       "      <td>Gentoo</td>\n",
       "      <td>Biscoe</td>\n",
       "      <td>45.2</td>\n",
       "      <td>14.8</td>\n",
       "      <td>212.0</td>\n",
       "      <td>5200.0</td>\n",
       "      <td>female</td>\n",
       "      <td>2009</td>\n",
       "      <td>5.2</td>\n",
       "    </tr>\n",
       "    <tr>\n",
       "      <th>275</th>\n",
       "      <td>Gentoo</td>\n",
       "      <td>Biscoe</td>\n",
       "      <td>49.9</td>\n",
       "      <td>16.1</td>\n",
       "      <td>213.0</td>\n",
       "      <td>5400.0</td>\n",
       "      <td>male</td>\n",
       "      <td>2009</td>\n",
       "      <td>5.4</td>\n",
       "    </tr>\n",
       "  </tbody>\n",
       "</table>\n",
       "<p>124 rows × 9 columns</p>\n",
       "</div>"
      ],
      "text/plain": [
       "    species  island  bill_length_mm  bill_depth_mm  flipper_length_mm  \\\n",
       "152  Gentoo  Biscoe            46.1           13.2              211.0   \n",
       "153  Gentoo  Biscoe            50.0           16.3              230.0   \n",
       "154  Gentoo  Biscoe            48.7           14.1              210.0   \n",
       "155  Gentoo  Biscoe            50.0           15.2              218.0   \n",
       "156  Gentoo  Biscoe            47.6           14.5              215.0   \n",
       "..      ...     ...             ...            ...                ...   \n",
       "271  Gentoo  Biscoe             NaN            NaN                NaN   \n",
       "272  Gentoo  Biscoe            46.8           14.3              215.0   \n",
       "273  Gentoo  Biscoe            50.4           15.7              222.0   \n",
       "274  Gentoo  Biscoe            45.2           14.8              212.0   \n",
       "275  Gentoo  Biscoe            49.9           16.1              213.0   \n",
       "\n",
       "     body_mass_g     sex  year  mass_kg  \n",
       "152       4500.0  female  2007      4.5  \n",
       "153       5700.0    male  2007      5.7  \n",
       "154       4450.0  female  2007      4.4  \n",
       "155       5700.0    male  2007      5.7  \n",
       "156       5400.0    male  2007      5.4  \n",
       "..           ...     ...   ...      ...  \n",
       "271          NaN     NaN  2009      NaN  \n",
       "272       4850.0  female  2009      4.8  \n",
       "273       5750.0    male  2009      5.8  \n",
       "274       5200.0  female  2009      5.2  \n",
       "275       5400.0    male  2009      5.4  \n",
       "\n",
       "[124 rows x 9 columns]"
      ]
     },
     "execution_count": 13,
     "metadata": {},
     "output_type": "execute_result"
    }
   ],
   "source": [
    "gentoo_df"
   ]
  },
  {
   "cell_type": "code",
   "execution_count": 14,
   "id": "b74be66a-c164-417f-b764-712ccb41a4c7",
   "metadata": {},
   "outputs": [],
   "source": [
    "ch_heavy = chinstrap_df[chinstrap_df['body_mass_g'] >= 4000]"
   ]
  },
  {
   "cell_type": "code",
   "execution_count": 15,
   "id": "0916b085-f190-4e78-ab0d-df52de2c9069",
   "metadata": {},
   "outputs": [
    {
     "data": {
      "text/html": [
       "<div>\n",
       "<style scoped>\n",
       "    .dataframe tbody tr th:only-of-type {\n",
       "        vertical-align: middle;\n",
       "    }\n",
       "\n",
       "    .dataframe tbody tr th {\n",
       "        vertical-align: top;\n",
       "    }\n",
       "\n",
       "    .dataframe thead th {\n",
       "        text-align: right;\n",
       "    }\n",
       "</style>\n",
       "<table border=\"1\" class=\"dataframe\">\n",
       "  <thead>\n",
       "    <tr style=\"text-align: right;\">\n",
       "      <th></th>\n",
       "      <th>species</th>\n",
       "      <th>island</th>\n",
       "      <th>bill_length_mm</th>\n",
       "      <th>bill_depth_mm</th>\n",
       "      <th>flipper_length_mm</th>\n",
       "      <th>body_mass_g</th>\n",
       "      <th>sex</th>\n",
       "      <th>year</th>\n",
       "      <th>mass_kg</th>\n",
       "    </tr>\n",
       "  </thead>\n",
       "  <tbody>\n",
       "    <tr>\n",
       "      <th>284</th>\n",
       "      <td>Chinstrap</td>\n",
       "      <td>Dream</td>\n",
       "      <td>46.0</td>\n",
       "      <td>18.9</td>\n",
       "      <td>195.0</td>\n",
       "      <td>4150.0</td>\n",
       "      <td>female</td>\n",
       "      <td>2007</td>\n",
       "      <td>4.2</td>\n",
       "    </tr>\n",
       "    <tr>\n",
       "      <th>289</th>\n",
       "      <td>Chinstrap</td>\n",
       "      <td>Dream</td>\n",
       "      <td>52.0</td>\n",
       "      <td>18.1</td>\n",
       "      <td>201.0</td>\n",
       "      <td>4050.0</td>\n",
       "      <td>male</td>\n",
       "      <td>2007</td>\n",
       "      <td>4.0</td>\n",
       "    </tr>\n",
       "    <tr>\n",
       "      <th>291</th>\n",
       "      <td>Chinstrap</td>\n",
       "      <td>Dream</td>\n",
       "      <td>50.5</td>\n",
       "      <td>19.6</td>\n",
       "      <td>201.0</td>\n",
       "      <td>4050.0</td>\n",
       "      <td>male</td>\n",
       "      <td>2007</td>\n",
       "      <td>4.0</td>\n",
       "    </tr>\n",
       "    <tr>\n",
       "      <th>295</th>\n",
       "      <td>Chinstrap</td>\n",
       "      <td>Dream</td>\n",
       "      <td>49.2</td>\n",
       "      <td>18.2</td>\n",
       "      <td>195.0</td>\n",
       "      <td>4400.0</td>\n",
       "      <td>male</td>\n",
       "      <td>2007</td>\n",
       "      <td>4.4</td>\n",
       "    </tr>\n",
       "    <tr>\n",
       "      <th>301</th>\n",
       "      <td>Chinstrap</td>\n",
       "      <td>Dream</td>\n",
       "      <td>52.0</td>\n",
       "      <td>19.0</td>\n",
       "      <td>197.0</td>\n",
       "      <td>4150.0</td>\n",
       "      <td>male</td>\n",
       "      <td>2007</td>\n",
       "      <td>4.2</td>\n",
       "    </tr>\n",
       "    <tr>\n",
       "      <th>305</th>\n",
       "      <td>Chinstrap</td>\n",
       "      <td>Dream</td>\n",
       "      <td>52.8</td>\n",
       "      <td>20.0</td>\n",
       "      <td>205.0</td>\n",
       "      <td>4550.0</td>\n",
       "      <td>male</td>\n",
       "      <td>2008</td>\n",
       "      <td>4.6</td>\n",
       "    </tr>\n",
       "    <tr>\n",
       "      <th>307</th>\n",
       "      <td>Chinstrap</td>\n",
       "      <td>Dream</td>\n",
       "      <td>54.2</td>\n",
       "      <td>20.8</td>\n",
       "      <td>201.0</td>\n",
       "      <td>4300.0</td>\n",
       "      <td>male</td>\n",
       "      <td>2008</td>\n",
       "      <td>4.3</td>\n",
       "    </tr>\n",
       "    <tr>\n",
       "      <th>309</th>\n",
       "      <td>Chinstrap</td>\n",
       "      <td>Dream</td>\n",
       "      <td>51.0</td>\n",
       "      <td>18.8</td>\n",
       "      <td>203.0</td>\n",
       "      <td>4100.0</td>\n",
       "      <td>male</td>\n",
       "      <td>2008</td>\n",
       "      <td>4.1</td>\n",
       "    </tr>\n",
       "    <tr>\n",
       "      <th>313</th>\n",
       "      <td>Chinstrap</td>\n",
       "      <td>Dream</td>\n",
       "      <td>52.0</td>\n",
       "      <td>20.7</td>\n",
       "      <td>210.0</td>\n",
       "      <td>4800.0</td>\n",
       "      <td>male</td>\n",
       "      <td>2008</td>\n",
       "      <td>4.8</td>\n",
       "    </tr>\n",
       "    <tr>\n",
       "      <th>315</th>\n",
       "      <td>Chinstrap</td>\n",
       "      <td>Dream</td>\n",
       "      <td>53.5</td>\n",
       "      <td>19.9</td>\n",
       "      <td>205.0</td>\n",
       "      <td>4500.0</td>\n",
       "      <td>male</td>\n",
       "      <td>2008</td>\n",
       "      <td>4.5</td>\n",
       "    </tr>\n",
       "    <tr>\n",
       "      <th>321</th>\n",
       "      <td>Chinstrap</td>\n",
       "      <td>Dream</td>\n",
       "      <td>50.8</td>\n",
       "      <td>18.5</td>\n",
       "      <td>201.0</td>\n",
       "      <td>4450.0</td>\n",
       "      <td>male</td>\n",
       "      <td>2009</td>\n",
       "      <td>4.4</td>\n",
       "    </tr>\n",
       "    <tr>\n",
       "      <th>323</th>\n",
       "      <td>Chinstrap</td>\n",
       "      <td>Dream</td>\n",
       "      <td>49.0</td>\n",
       "      <td>19.6</td>\n",
       "      <td>212.0</td>\n",
       "      <td>4300.0</td>\n",
       "      <td>male</td>\n",
       "      <td>2009</td>\n",
       "      <td>4.3</td>\n",
       "    </tr>\n",
       "    <tr>\n",
       "      <th>329</th>\n",
       "      <td>Chinstrap</td>\n",
       "      <td>Dream</td>\n",
       "      <td>50.7</td>\n",
       "      <td>19.7</td>\n",
       "      <td>203.0</td>\n",
       "      <td>4050.0</td>\n",
       "      <td>male</td>\n",
       "      <td>2009</td>\n",
       "      <td>4.0</td>\n",
       "    </tr>\n",
       "    <tr>\n",
       "      <th>333</th>\n",
       "      <td>Chinstrap</td>\n",
       "      <td>Dream</td>\n",
       "      <td>49.3</td>\n",
       "      <td>19.9</td>\n",
       "      <td>203.0</td>\n",
       "      <td>4050.0</td>\n",
       "      <td>male</td>\n",
       "      <td>2009</td>\n",
       "      <td>4.0</td>\n",
       "    </tr>\n",
       "    <tr>\n",
       "      <th>339</th>\n",
       "      <td>Chinstrap</td>\n",
       "      <td>Dream</td>\n",
       "      <td>55.8</td>\n",
       "      <td>19.8</td>\n",
       "      <td>207.0</td>\n",
       "      <td>4000.0</td>\n",
       "      <td>male</td>\n",
       "      <td>2009</td>\n",
       "      <td>4.0</td>\n",
       "    </tr>\n",
       "    <tr>\n",
       "      <th>342</th>\n",
       "      <td>Chinstrap</td>\n",
       "      <td>Dream</td>\n",
       "      <td>50.8</td>\n",
       "      <td>19.0</td>\n",
       "      <td>210.0</td>\n",
       "      <td>4100.0</td>\n",
       "      <td>male</td>\n",
       "      <td>2009</td>\n",
       "      <td>4.1</td>\n",
       "    </tr>\n",
       "  </tbody>\n",
       "</table>\n",
       "</div>"
      ],
      "text/plain": [
       "       species island  bill_length_mm  bill_depth_mm  flipper_length_mm  \\\n",
       "284  Chinstrap  Dream            46.0           18.9              195.0   \n",
       "289  Chinstrap  Dream            52.0           18.1              201.0   \n",
       "291  Chinstrap  Dream            50.5           19.6              201.0   \n",
       "295  Chinstrap  Dream            49.2           18.2              195.0   \n",
       "301  Chinstrap  Dream            52.0           19.0              197.0   \n",
       "305  Chinstrap  Dream            52.8           20.0              205.0   \n",
       "307  Chinstrap  Dream            54.2           20.8              201.0   \n",
       "309  Chinstrap  Dream            51.0           18.8              203.0   \n",
       "313  Chinstrap  Dream            52.0           20.7              210.0   \n",
       "315  Chinstrap  Dream            53.5           19.9              205.0   \n",
       "321  Chinstrap  Dream            50.8           18.5              201.0   \n",
       "323  Chinstrap  Dream            49.0           19.6              212.0   \n",
       "329  Chinstrap  Dream            50.7           19.7              203.0   \n",
       "333  Chinstrap  Dream            49.3           19.9              203.0   \n",
       "339  Chinstrap  Dream            55.8           19.8              207.0   \n",
       "342  Chinstrap  Dream            50.8           19.0              210.0   \n",
       "\n",
       "     body_mass_g     sex  year  mass_kg  \n",
       "284       4150.0  female  2007      4.2  \n",
       "289       4050.0    male  2007      4.0  \n",
       "291       4050.0    male  2007      4.0  \n",
       "295       4400.0    male  2007      4.4  \n",
       "301       4150.0    male  2007      4.2  \n",
       "305       4550.0    male  2008      4.6  \n",
       "307       4300.0    male  2008      4.3  \n",
       "309       4100.0    male  2008      4.1  \n",
       "313       4800.0    male  2008      4.8  \n",
       "315       4500.0    male  2008      4.5  \n",
       "321       4450.0    male  2009      4.4  \n",
       "323       4300.0    male  2009      4.3  \n",
       "329       4050.0    male  2009      4.0  \n",
       "333       4050.0    male  2009      4.0  \n",
       "339       4000.0    male  2009      4.0  \n",
       "342       4100.0    male  2009      4.1  "
      ]
     },
     "execution_count": 15,
     "metadata": {},
     "output_type": "execute_result"
    }
   ],
   "source": [
    "ch_heavy"
   ]
  },
  {
   "cell_type": "code",
   "execution_count": 16,
   "id": "9d66b1f8-40c8-45b0-8d06-55f26994ae1d",
   "metadata": {},
   "outputs": [
    {
     "name": "stdout",
     "output_type": "stream",
     "text": [
      "<class 'pandas.core.frame.DataFrame'>\n",
      "Index: 16 entries, 284 to 342\n",
      "Data columns (total 9 columns):\n",
      " #   Column             Non-Null Count  Dtype  \n",
      "---  ------             --------------  -----  \n",
      " 0   species            16 non-null     object \n",
      " 1   island             16 non-null     object \n",
      " 2   bill_length_mm     16 non-null     float64\n",
      " 3   bill_depth_mm      16 non-null     float64\n",
      " 4   flipper_length_mm  16 non-null     float64\n",
      " 5   body_mass_g        16 non-null     float64\n",
      " 6   sex                16 non-null     object \n",
      " 7   year               16 non-null     int64  \n",
      " 8   mass_kg            16 non-null     float64\n",
      "dtypes: float64(5), int64(1), object(3)\n",
      "memory usage: 1.2+ KB\n"
     ]
    }
   ],
   "source": [
    "ch_heavy.info()"
   ]
  },
  {
   "cell_type": "markdown",
   "id": "0598877a-fda6-4fed-8722-38ca8e6baa81",
   "metadata": {
    "jp-MarkdownHeadingCollapsed": true
   },
   "source": [
    "<h2>Filling up the Null Values</h2>"
   ]
  },
  {
   "cell_type": "code",
   "execution_count": 17,
   "id": "9bbdf3bb-be87-4dec-823b-9954b0bc1e24",
   "metadata": {},
   "outputs": [
    {
     "data": {
      "text/plain": [
       "species               0\n",
       "island                0\n",
       "bill_length_mm        2\n",
       "bill_depth_mm         2\n",
       "flipper_length_mm     2\n",
       "body_mass_g           2\n",
       "sex                  11\n",
       "year                  0\n",
       "mass_kg               2\n",
       "dtype: int64"
      ]
     },
     "execution_count": 17,
     "metadata": {},
     "output_type": "execute_result"
    }
   ],
   "source": [
    "pengu.isnull().sum()"
   ]
  },
  {
   "cell_type": "markdown",
   "id": "a9c61aaf-7e8f-4a1c-a07f-ce64104063d6",
   "metadata": {},
   "source": [
    "<li>bill length</li>"
   ]
  },
  {
   "cell_type": "code",
   "execution_count": 18,
   "id": "7b53e32a-a359-4832-bbdd-4d21f4ff200f",
   "metadata": {},
   "outputs": [],
   "source": [
    "bill_length_ave = pengu['bill_length_mm'].mean()"
   ]
  },
  {
   "cell_type": "code",
   "execution_count": 19,
   "id": "b8bf1b0f-2701-47bc-aaa9-8cbf90d4f5d8",
   "metadata": {},
   "outputs": [],
   "source": [
    "pengu['bill_length_mm']= pengu['bill_length_mm'].fillna(bill_length_ave)"
   ]
  },
  {
   "cell_type": "markdown",
   "id": "5abebdd0-34be-4579-91d3-506d99fb3c97",
   "metadata": {},
   "source": [
    "<li>bill depth</li>"
   ]
  },
  {
   "cell_type": "code",
   "execution_count": 20,
   "id": "139e3aca-c5b1-4934-b86a-91924b21060e",
   "metadata": {},
   "outputs": [],
   "source": [
    "bill_depth_ave = pengu['bill_depth_mm'].mean()"
   ]
  },
  {
   "cell_type": "code",
   "execution_count": 21,
   "id": "9ac3c8e3-97e9-447e-93d4-c832caf54ea9",
   "metadata": {},
   "outputs": [],
   "source": [
    "pengu['bill_depth_mm']= pengu['bill_depth_mm'].fillna(bill_depth_ave)"
   ]
  },
  {
   "cell_type": "markdown",
   "id": "30f79e95-29b1-4c15-ab51-ac9c9b028f32",
   "metadata": {},
   "source": [
    "<li>flipper length</li>"
   ]
  },
  {
   "cell_type": "code",
   "execution_count": 22,
   "id": "1cd08338-5ba2-497a-bc27-87987a8383e7",
   "metadata": {},
   "outputs": [],
   "source": [
    "flipper_length_ave = pengu['flipper_length_mm'].mean()"
   ]
  },
  {
   "cell_type": "code",
   "execution_count": 23,
   "id": "04cac7aa-13c5-448a-9506-69eb58480ce6",
   "metadata": {},
   "outputs": [],
   "source": [
    "pengu['flipper_length_mm']= pengu['flipper_length_mm'].fillna(bill_depth_ave)"
   ]
  },
  {
   "cell_type": "markdown",
   "id": "057ce75c-09d9-4d6a-abe3-1142a13c2bdb",
   "metadata": {},
   "source": [
    "<li>body mass</li>"
   ]
  },
  {
   "cell_type": "code",
   "execution_count": 24,
   "id": "a7009ac2-6728-46ec-8c0d-783d6030c950",
   "metadata": {},
   "outputs": [],
   "source": [
    "body_mass_ave = pengu['body_mass_g'].mean()"
   ]
  },
  {
   "cell_type": "code",
   "execution_count": 25,
   "id": "4dd350e1-06db-4126-83db-e60dacc5b312",
   "metadata": {},
   "outputs": [],
   "source": [
    "pengu['body_mass_g']= pengu['body_mass_g'].fillna(body_mass_ave)"
   ]
  },
  {
   "cell_type": "markdown",
   "id": "3a353f6c-55ac-4cfc-847b-01c099a70ce0",
   "metadata": {},
   "source": [
    "<li>mass kg</li>"
   ]
  },
  {
   "cell_type": "code",
   "execution_count": 26,
   "id": "a8bf6133-ae5d-4ab0-8ad1-8ee572d7b8bc",
   "metadata": {},
   "outputs": [],
   "source": [
    "mass_kg_ave = pengu['mass_kg'].mean()"
   ]
  },
  {
   "cell_type": "code",
   "execution_count": 27,
   "id": "3667ed85-4af9-469e-bdc6-678a94ecf48a",
   "metadata": {},
   "outputs": [],
   "source": [
    "pengu['mass_kg']= pengu['mass_kg'].fillna(mass_kg_ave)"
   ]
  },
  {
   "cell_type": "markdown",
   "id": "6ccb4edc-d5a9-4e15-9b0f-f35f30dbb70c",
   "metadata": {},
   "source": [
    "<li>sex</li>"
   ]
  },
  {
   "cell_type": "code",
   "execution_count": 28,
   "id": "3a6a671f-2f8b-435a-98c8-813edafde29e",
   "metadata": {},
   "outputs": [],
   "source": [
    "pengu['sex']=pengu['sex'].fillna(pengu['sex'].mode()[0])"
   ]
  },
  {
   "cell_type": "code",
   "execution_count": 29,
   "id": "0809feda-bd51-42b8-b84d-04418d5bf2eb",
   "metadata": {},
   "outputs": [
    {
     "data": {
      "text/plain": [
       "species              0\n",
       "island               0\n",
       "bill_length_mm       0\n",
       "bill_depth_mm        0\n",
       "flipper_length_mm    0\n",
       "body_mass_g          0\n",
       "sex                  0\n",
       "year                 0\n",
       "mass_kg              0\n",
       "dtype: int64"
      ]
     },
     "execution_count": 29,
     "metadata": {},
     "output_type": "execute_result"
    }
   ],
   "source": [
    "pengu.isnull().sum()"
   ]
  },
  {
   "cell_type": "markdown",
   "id": "d38b0947-611f-4993-97cf-f8903313a84d",
   "metadata": {
    "jp-MarkdownHeadingCollapsed": true
   },
   "source": [
    "<h2>Changing the Datatypes.</h2>"
   ]
  },
  {
   "cell_type": "code",
   "execution_count": 30,
   "id": "7562676d-bf47-4dc5-a7d8-a907a3cb31d7",
   "metadata": {},
   "outputs": [],
   "source": [
    "pengu['species'] = pengu['species'].astype('category')\n",
    "pengu['island'] = pengu['island'].astype('category')\n",
    "pengu['year'] = pengu['year'].astype('category')\n",
    "pengu['sex'] = pengu['sex'].astype('category')"
   ]
  },
  {
   "cell_type": "markdown",
   "id": "971e7a35-edc0-439a-919a-8a532e1fc5b2",
   "metadata": {
    "jp-MarkdownHeadingCollapsed": true
   },
   "source": [
    "<h1>Exploring Data Analysist</h1>\n",
    "\n",
    "<h2>All about population.</h2>"
   ]
  },
  {
   "cell_type": "markdown",
   "id": "d45df767-bd1b-4293-a8dd-d74e4928ccb3",
   "metadata": {},
   "source": [
    "<h3>1. What species has the highest population?</h3>"
   ]
  },
  {
   "cell_type": "code",
   "execution_count": 31,
   "id": "c80f64b5-9887-4695-be97-9a1fadbeab84",
   "metadata": {},
   "outputs": [
    {
     "data": {
      "text/plain": [
       "species\n",
       "Adelie       152\n",
       "Gentoo       124\n",
       "Chinstrap     68\n",
       "Name: count, dtype: int64"
      ]
     },
     "execution_count": 31,
     "metadata": {},
     "output_type": "execute_result"
    }
   ],
   "source": [
    "species_counts = pengu['species'].value_counts()\n",
    "species_counts"
   ]
  },
  {
   "cell_type": "markdown",
   "id": "8fc4c9b7-d70c-4124-bb01-812e0cdc456f",
   "metadata": {},
   "source": [
    "<h4>Insight #1</h4>\n",
    "<h4>The Highest species population is Adelie which has 152.</h4>\n",
    "<hr>"
   ]
  },
  {
   "cell_type": "markdown",
   "id": "31f4c994-3b76-477d-8b15-c56d37913b59",
   "metadata": {},
   "source": [
    "<h3>2. What percentage of the total population does each species represent?</h3>"
   ]
  },
  {
   "cell_type": "code",
   "execution_count": 32,
   "id": "4f77e5e4-0efd-4e93-a78e-9dab02bb5c9a",
   "metadata": {},
   "outputs": [
    {
     "data": {
      "text/plain": [
       "species\n",
       "Adelie       44.2\n",
       "Gentoo       36.0\n",
       "Chinstrap    19.8\n",
       "Name: count, dtype: float64"
      ]
     },
     "execution_count": 32,
     "metadata": {},
     "output_type": "execute_result"
    }
   ],
   "source": [
    "species_percentage = np.round((species_counts / species_counts.sum()) * 100,1)\n",
    "species_percentage"
   ]
  },
  {
   "cell_type": "markdown",
   "id": "3bc4dfbc-3492-48e6-b665-a658806d19eb",
   "metadata": {},
   "source": [
    "<h4>Insight #2</h4>\n",
    "<h4>The population is unevenly distributed among the species, with Adelie making up almost 50% of the total population.</h4>\n",
    "<hr>"
   ]
  },
  {
   "cell_type": "markdown",
   "id": "d466f799-48a2-4d7c-8a56-4902ea9c48ca",
   "metadata": {},
   "source": [
    "<h3>3.What is the most common species in the Dream Island?</h3>"
   ]
  },
  {
   "cell_type": "code",
   "execution_count": 33,
   "id": "91758a48-07c9-4517-bf95-9ad6b982b0f7",
   "metadata": {},
   "outputs": [],
   "source": [
    "species_dream = pengu[pengu['island'] == 'Dream']"
   ]
  },
  {
   "cell_type": "code",
   "execution_count": 34,
   "id": "b9790261-cade-4b5a-8aa4-c8d6906d7eaa",
   "metadata": {},
   "outputs": [
    {
     "data": {
      "text/plain": [
       "species\n",
       "Chinstrap    68\n",
       "Adelie       56\n",
       "Gentoo        0\n",
       "Name: count, dtype: int64"
      ]
     },
     "execution_count": 34,
     "metadata": {},
     "output_type": "execute_result"
    }
   ],
   "source": [
    "species_dream['species'].value_counts()"
   ]
  },
  {
   "cell_type": "markdown",
   "id": "a50598ff-b0a6-442f-8f14-e1501032935c",
   "metadata": {},
   "source": [
    "<h4>Insight #3</h4>\n",
    "<h4>There are two species in this island Chistrap and Adelie. The most common species in the Dream Island is Chistrap.</h4>\n",
    "<hr>"
   ]
  },
  {
   "cell_type": "markdown",
   "id": "3a0f30e5-5276-4317-ac59-5bab03863b4b",
   "metadata": {},
   "source": [
    "<h3>4.What is the most common species in the Biscoe Island?</h3>"
   ]
  },
  {
   "cell_type": "code",
   "execution_count": 35,
   "id": "8f2d3216-f6a1-4cb6-aaa6-538aa93574d6",
   "metadata": {},
   "outputs": [],
   "source": [
    "species_biscoe = pengu[pengu['island'] == 'Biscoe']"
   ]
  },
  {
   "cell_type": "code",
   "execution_count": 36,
   "id": "a60ed187-eda5-4138-88e3-c38458dd2239",
   "metadata": {},
   "outputs": [
    {
     "data": {
      "text/plain": [
       "species\n",
       "Gentoo       124\n",
       "Adelie        44\n",
       "Chinstrap      0\n",
       "Name: count, dtype: int64"
      ]
     },
     "execution_count": 36,
     "metadata": {},
     "output_type": "execute_result"
    }
   ],
   "source": [
    "species_biscoe['species'].value_counts()"
   ]
  },
  {
   "cell_type": "markdown",
   "id": "d052032e-5931-4e95-ac89-af82e1891995",
   "metadata": {},
   "source": [
    "<h4>Insight #4</h4>\n",
    "<h4>There are two species in this island Adelie and Gentoo. The most common species in the Biscoe Island is Gentoo.</h4>\n",
    "<hr>"
   ]
  },
  {
   "cell_type": "markdown",
   "id": "e557761b-a967-4992-b18c-e02ed4cb7499",
   "metadata": {},
   "source": [
    "<h3>5.What is the most common species in the Torgersen Island?</h3>"
   ]
  },
  {
   "cell_type": "code",
   "execution_count": 37,
   "id": "b648e533-01c7-4557-8548-35f35102a05f",
   "metadata": {},
   "outputs": [],
   "source": [
    "species_torgersen = pengu[pengu['island'] == 'Torgersen']"
   ]
  },
  {
   "cell_type": "code",
   "execution_count": 38,
   "id": "30a47071-86a3-4451-8e93-4b848b6bb39a",
   "metadata": {},
   "outputs": [
    {
     "data": {
      "text/plain": [
       "species\n",
       "Adelie       52\n",
       "Chinstrap     0\n",
       "Gentoo        0\n",
       "Name: count, dtype: int64"
      ]
     },
     "execution_count": 38,
     "metadata": {},
     "output_type": "execute_result"
    }
   ],
   "source": [
    "species_torgersen['species'].value_counts()"
   ]
  },
  {
   "cell_type": "markdown",
   "id": "298de4cb-0df3-4986-87d4-3813348cdce9",
   "metadata": {},
   "source": [
    "<h4>Insight #5</h4>\n",
    "<h4>The only species in this island is Adelie and is has 52 population.</h4>\n",
    "<hr>"
   ]
  },
  {
   "cell_type": "markdown",
   "id": "5b75de73-b9e8-403e-a61f-f0feb1036623",
   "metadata": {},
   "source": [
    "<h3>6.What is the gender breakdown of the population of each species?</h3>"
   ]
  },
  {
   "cell_type": "code",
   "execution_count": 39,
   "id": "f0dcf527-8c96-4d5b-bde1-1de36250f8cc",
   "metadata": {},
   "outputs": [],
   "source": [
    "chins_sex_bd = chinstrap_df['sex'].value_counts()\n",
    "adelie_sex_bd = adelie_df['sex'].value_counts()\n",
    "gentoo_sex_bd = gentoo_df['sex'].value_counts()"
   ]
  },
  {
   "cell_type": "code",
   "execution_count": 40,
   "id": "419324e5-ee11-4b6a-a836-b2aa0faec318",
   "metadata": {},
   "outputs": [
    {
     "name": "stdout",
     "output_type": "stream",
     "text": [
      "Adelie:\n",
      " sex\n",
      "male      73\n",
      "female    73\n",
      "Name: count, dtype: int64\n",
      "\n",
      "Chinstrap:\n",
      " sex\n",
      "female    34\n",
      "male      34\n",
      "Name: count, dtype: int64\n",
      "\n",
      "Gentoo:\n",
      " sex\n",
      "male      61\n",
      "female    58\n",
      "Name: count, dtype: int64\n"
     ]
    }
   ],
   "source": [
    "print(\"Adelie:\\n\", adelie_sex_bd)\n",
    "print(\"\\nChinstrap:\\n\", chins_sex_bd)\n",
    "print(\"\\nGentoo:\\n\", gentoo_sex_bd)"
   ]
  },
  {
   "cell_type": "markdown",
   "id": "7e315397-e590-4d21-b34e-03096a87b945",
   "metadata": {},
   "source": [
    "<h4>Insight #6</h4>\n",
    "<h4>The Adelie and Chinstrap penguin populations have an equal number of males and females, while Gentoo penguins have slightly more males than females, showing that overall, the gender distribution is fairly balanced across all species.</h4>\n",
    "<hr>"
   ]
  },
  {
   "cell_type": "markdown",
   "id": "908cfe01-107b-4781-b8d7-c65c9e4d720a",
   "metadata": {},
   "source": [
    "<h3>7.Based on the population size of each species, which species has the highest average bill length?</h3>"
   ]
  },
  {
   "cell_type": "code",
   "execution_count": 41,
   "id": "d3aa8f97-4891-4643-9561-235960be8248",
   "metadata": {},
   "outputs": [],
   "source": [
    "chin_ave_bill_length = round(chinstrap_df['bill_length_mm'].mean(),1)\n",
    "adel_ave_bill_length = round(adelie_df['bill_length_mm'].mean(),1)\n",
    "gent_ave_bill_length = round(gentoo_df['bill_length_mm'].mean(),1)"
   ]
  },
  {
   "cell_type": "code",
   "execution_count": 42,
   "id": "ded4b1c3-ad55-4ce1-80d5-ee5a12914d55",
   "metadata": {},
   "outputs": [
    {
     "name": "stdout",
     "output_type": "stream",
     "text": [
      "Adelie:\n",
      " 38.8\n",
      "\n",
      "Chinstrap:\n",
      " 48.8\n",
      "\n",
      "Gentoo:\n",
      " 47.5\n"
     ]
    }
   ],
   "source": [
    "print(\"Adelie:\\n\", adel_ave_bill_length)\n",
    "print(\"\\nChinstrap:\\n\", chin_ave_bill_length)\n",
    "print(\"\\nGentoo:\\n\", gent_ave_bill_length)"
   ]
  },
  {
   "cell_type": "markdown",
   "id": "eff0c8a2-c0a2-438b-a790-bdbc1d722efd",
   "metadata": {},
   "source": [
    "<h4>Insight #7</h4>\n",
    "<h4>Chinstrap penguins have the highest average bill length at 48.8 mm, followed by Gentoo penguins with 47.5 mm, while Adelie penguins have the shortest average bill length at 38.8 mm.</h4>\n",
    "<hr>"
   ]
  },
  {
   "cell_type": "markdown",
   "id": "a8dae997-993a-4cd2-8842-65cb68f8bc2a",
   "metadata": {
    "jp-MarkdownHeadingCollapsed": true
   },
   "source": [
    "<h1>Aggregating Data</h1>"
   ]
  },
  {
   "cell_type": "markdown",
   "id": "ca383789-cbcd-47a1-b160-16228fae5d90",
   "metadata": {},
   "source": [
    "<h2>Using .groupby()</h2>"
   ]
  },
  {
   "cell_type": "markdown",
   "id": "cb22e330-26d6-45e6-b4e1-e83f8d695880",
   "metadata": {},
   "source": [
    "<h3>1. How many species in every island?</h3>"
   ]
  },
  {
   "cell_type": "code",
   "execution_count": 43,
   "id": "226d2c88-31f5-4127-883c-8c64b62562be",
   "metadata": {},
   "outputs": [
    {
     "data": {
      "text/plain": [
       "species    sex     island   \n",
       "Adelie     female  Biscoe       22\n",
       "                   Dream        27\n",
       "                   Torgersen    24\n",
       "           male    Biscoe       22\n",
       "                   Dream        29\n",
       "                   Torgersen    28\n",
       "Chinstrap  female  Biscoe        0\n",
       "                   Dream        34\n",
       "                   Torgersen     0\n",
       "           male    Biscoe        0\n",
       "                   Dream        34\n",
       "                   Torgersen     0\n",
       "Gentoo     female  Biscoe       58\n",
       "                   Dream         0\n",
       "                   Torgersen     0\n",
       "           male    Biscoe       66\n",
       "                   Dream         0\n",
       "                   Torgersen     0\n",
       "dtype: int64"
      ]
     },
     "execution_count": 43,
     "metadata": {},
     "output_type": "execute_result"
    }
   ],
   "source": [
    "pengu.groupby(['species','sex','island']).size()"
   ]
  },
  {
   "cell_type": "code",
   "execution_count": 44,
   "id": "31aa85f5-2f6b-4c72-84cd-53477f102cce",
   "metadata": {},
   "outputs": [],
   "source": [
    "avg_massspecies_island = round(pengu.groupby(['species','island','sex'])['mass_kg'].mean(),1)"
   ]
  },
  {
   "cell_type": "code",
   "execution_count": 45,
   "id": "ebd28a39-e794-4030-af2a-ef0a9826b8df",
   "metadata": {},
   "outputs": [
    {
     "data": {
      "text/plain": [
       "species    island     sex   \n",
       "Adelie     Biscoe     female    3.4\n",
       "                      male      4.1\n",
       "           Dream      female    3.3\n",
       "                      male      4.0\n",
       "           Torgersen  female    3.4\n",
       "                      male      4.0\n",
       "Chinstrap  Biscoe     female    NaN\n",
       "                      male      NaN\n",
       "           Dream      female    3.5\n",
       "                      male      3.9\n",
       "           Torgersen  female    NaN\n",
       "                      male      NaN\n",
       "Gentoo     Biscoe     female    4.7\n",
       "                      male      5.4\n",
       "           Dream      female    NaN\n",
       "                      male      NaN\n",
       "           Torgersen  female    NaN\n",
       "                      male      NaN\n",
       "Name: mass_kg, dtype: float64"
      ]
     },
     "execution_count": 45,
     "metadata": {},
     "output_type": "execute_result"
    }
   ],
   "source": [
    "avg_massspecies_island"
   ]
  },
  {
   "cell_type": "markdown",
   "id": "68545bc5-c09b-46ad-8200-5af75838b309",
   "metadata": {},
   "source": [
    "<h1>Testing Correlation</h1>"
   ]
  },
  {
   "cell_type": "markdown",
   "id": "684132b5-f6f3-490b-bf8e-3647cb8f04d7",
   "metadata": {
    "jp-MarkdownHeadingCollapsed": true
   },
   "source": [
    "<h2>Pearson R Correlation</h2>\n",
    "<hr>\n",
    "<h3>Used for testing correlation between two <strong>NUMERICAL VALUES</strong> </h3>"
   ]
  },
  {
   "cell_type": "code",
   "execution_count": 46,
   "id": "47fe732e-a0a3-41c4-a2f0-4c12ef7d1f78",
   "metadata": {},
   "outputs": [],
   "source": [
    "Blen_Bdept = pengu['bill_length_mm'].corr(pengu['bill_depth_mm'])"
   ]
  },
  {
   "cell_type": "code",
   "execution_count": 47,
   "id": "06dbb39e-dee5-49bc-936e-1d9100deacc6",
   "metadata": {},
   "outputs": [
    {
     "data": {
      "text/plain": [
       "np.float64(-0.23505287035553282)"
      ]
     },
     "execution_count": 47,
     "metadata": {},
     "output_type": "execute_result"
    }
   ],
   "source": [
    "Blen_Bdept"
   ]
  },
  {
   "cell_type": "markdown",
   "id": "ff76689f-dcc2-450a-b951-91ebdb51f2e2",
   "metadata": {},
   "source": [
    "<h4>Insight #1</h4>\n",
    "<h4>There is no correlation between the bill length and bill depth.</h4>\n",
    "<hr>"
   ]
  },
  {
   "cell_type": "markdown",
   "id": "bf0ac630-68cc-42c7-bd12-41afb86d1328",
   "metadata": {},
   "source": [
    "<h1>Correlation Test; Numerical - Categorial</h1>\n",
    "<h2>Libary - SciPy (scientific python</h2>\n",
    "<hr>\n",
    "<h3>from scipy.stats import f_oneway</h3>"
   ]
  },
  {
   "cell_type": "code",
   "execution_count": 48,
   "id": "a67aa2ab-c4d8-42cb-8b6f-122e56928bde",
   "metadata": {},
   "outputs": [],
   "source": [
    "from scipy.stats import f_oneway"
   ]
  },
  {
   "cell_type": "markdown",
   "id": "1e5a6ffe-1d67-41f1-8005-6872111b20a0",
   "metadata": {},
   "source": [
    "<h3>1. Is there a correlation between sex and body mass?</h3>"
   ]
  },
  {
   "cell_type": "code",
   "execution_count": 49,
   "id": "d643ab59-4bfe-4592-b98f-d470893702a5",
   "metadata": {},
   "outputs": [
    {
     "data": {
      "text/plain": [
       "0      3750.000000\n",
       "3      4201.754386\n",
       "5      3650.000000\n",
       "7      4675.000000\n",
       "8      3475.000000\n",
       "          ...     \n",
       "334    3800.000000\n",
       "336    3950.000000\n",
       "339    4000.000000\n",
       "341    3775.000000\n",
       "342    4100.000000\n",
       "Name: body_mass_g, Length: 179, dtype: float64"
      ]
     },
     "execution_count": 49,
     "metadata": {},
     "output_type": "execute_result"
    }
   ],
   "source": [
    "pengu[pengu['sex'] == 'male']['body_mass_g']"
   ]
  },
  {
   "cell_type": "code",
   "execution_count": 50,
   "id": "e3b03d62-249a-4dca-b8d9-40fcab512931",
   "metadata": {},
   "outputs": [
    {
     "data": {
      "text/plain": [
       "1      3800.0\n",
       "2      3250.0\n",
       "4      3450.0\n",
       "6      3625.0\n",
       "12     3200.0\n",
       "        ...  \n",
       "335    3525.0\n",
       "337    3650.0\n",
       "338    3650.0\n",
       "340    3400.0\n",
       "343    3775.0\n",
       "Name: body_mass_g, Length: 165, dtype: float64"
      ]
     },
     "execution_count": 50,
     "metadata": {},
     "output_type": "execute_result"
    }
   ],
   "source": [
    "pengu[pengu['sex'] == 'female']['body_mass_g']"
   ]
  },
  {
   "cell_type": "code",
   "execution_count": 51,
   "id": "233ce0c3-5f6d-4ce3-a1af-d04dd539d783",
   "metadata": {},
   "outputs": [],
   "source": [
    "res, corr_sex_bodymass = f_oneway(pengu[pengu['sex'] == 'male']['body_mass_g'],pengu[pengu['sex'] == 'female']['body_mass_g'])"
   ]
  },
  {
   "cell_type": "code",
   "execution_count": 52,
   "id": "d86e5cfd-a895-4d7c-b488-507a53e66f95",
   "metadata": {},
   "outputs": [
    {
     "data": {
      "text/plain": [
       "np.float64(3.0226600487050246e-15)"
      ]
     },
     "execution_count": 52,
     "metadata": {},
     "output_type": "execute_result"
    }
   ],
   "source": [
    "corr_sex_bodymass"
   ]
  },
  {
   "cell_type": "markdown",
   "id": "556f1732-fc37-4892-b3ce-99d035baae3c",
   "metadata": {},
   "source": [
    "<h4>Insight #1</h4>\n",
    "<h4>Pvalue is equal to 3.02, this means there are correlation between sex and body mass of the penguins.</h4>\n",
    "<hr>"
   ]
  },
  {
   "cell_type": "markdown",
   "id": "5f514d32-9ed2-4dcd-a94b-795b88ace1e6",
   "metadata": {},
   "source": [
    "<h3>2. Is there a correlation between species and body mass?</h3>"
   ]
  },
  {
   "cell_type": "code",
   "execution_count": 53,
   "id": "5ce71c12-3940-42dc-aee3-70f6bab49e7b",
   "metadata": {},
   "outputs": [
    {
     "data": {
      "text/plain": [
       "0      3750.000000\n",
       "1      3800.000000\n",
       "2      3250.000000\n",
       "3      4201.754386\n",
       "4      3450.000000\n",
       "          ...     \n",
       "147    3475.000000\n",
       "148    3450.000000\n",
       "149    3750.000000\n",
       "150    3700.000000\n",
       "151    4000.000000\n",
       "Name: body_mass_g, Length: 152, dtype: float64"
      ]
     },
     "execution_count": 53,
     "metadata": {},
     "output_type": "execute_result"
    }
   ],
   "source": [
    "pengu[pengu['species'] == 'Adelie']['body_mass_g']"
   ]
  },
  {
   "cell_type": "code",
   "execution_count": 54,
   "id": "eb7fea68-2160-47f2-8373-f68d2298bca8",
   "metadata": {},
   "outputs": [
    {
     "data": {
      "text/plain": [
       "276    3500.0\n",
       "277    3900.0\n",
       "278    3650.0\n",
       "279    3525.0\n",
       "280    3725.0\n",
       "        ...  \n",
       "339    4000.0\n",
       "340    3400.0\n",
       "341    3775.0\n",
       "342    4100.0\n",
       "343    3775.0\n",
       "Name: body_mass_g, Length: 68, dtype: float64"
      ]
     },
     "execution_count": 54,
     "metadata": {},
     "output_type": "execute_result"
    }
   ],
   "source": [
    "pengu[pengu['species'] == 'Chinstrap']['body_mass_g']"
   ]
  },
  {
   "cell_type": "code",
   "execution_count": 55,
   "id": "6c9316fa-77dc-4cf6-b876-789ee496bc77",
   "metadata": {},
   "outputs": [
    {
     "data": {
      "text/plain": [
       "152    4500.000000\n",
       "153    5700.000000\n",
       "154    4450.000000\n",
       "155    5700.000000\n",
       "156    5400.000000\n",
       "          ...     \n",
       "271    4201.754386\n",
       "272    4850.000000\n",
       "273    5750.000000\n",
       "274    5200.000000\n",
       "275    5400.000000\n",
       "Name: body_mass_g, Length: 124, dtype: float64"
      ]
     },
     "execution_count": 55,
     "metadata": {},
     "output_type": "execute_result"
    }
   ],
   "source": [
    "pengu[pengu['species'] == 'Gentoo']['body_mass_g']"
   ]
  },
  {
   "cell_type": "code",
   "execution_count": 56,
   "id": "66295195-ae98-46a1-8781-4998f24044f2",
   "metadata": {},
   "outputs": [],
   "source": [
    "res, corr_species_bodymass = f_oneway(pengu[pengu['species'] == 'Adelie']['body_mass_g'],pengu[pengu['species'] == 'Chinstrap']['body_mass_g'],pengu[pengu['species'] == 'Gentoo']['body_mass_g'])"
   ]
  },
  {
   "cell_type": "code",
   "execution_count": 57,
   "id": "d6e112be-40a2-4b3a-985b-ce109e1a7445",
   "metadata": {},
   "outputs": [
    {
     "data": {
      "text/plain": [
       "np.float64(1.0069770504490732e-81)"
      ]
     },
     "execution_count": 57,
     "metadata": {},
     "output_type": "execute_result"
    }
   ],
   "source": [
    "corr_species_bodymass"
   ]
  },
  {
   "cell_type": "markdown",
   "id": "9bb1ddb5-7cd0-4333-ab9c-cd53e5fc1cab",
   "metadata": {},
   "source": [
    "<h4>Insight #2</h4>\n",
    "<h4>Pvalue is equal to 1.00, this means there are correlation between species and body mass of the penguins.</h4>\n",
    "<hr>"
   ]
  },
  {
   "cell_type": "markdown",
   "id": "9f4e6b6f-2afd-4216-a7df-a7e004c6c678",
   "metadata": {},
   "source": [
    "<h3>2. Is there a correlation between species and flipper length?</h3>"
   ]
  },
  {
   "cell_type": "code",
   "execution_count": null,
   "id": "8e642971-1c5d-4f88-8d92-3e4a60efaba2",
   "metadata": {},
   "outputs": [],
   "source": []
  }
 ],
 "metadata": {
  "kernelspec": {
   "display_name": "Python 3 (ipykernel)",
   "language": "python",
   "name": "python3"
  },
  "language_info": {
   "codemirror_mode": {
    "name": "ipython",
    "version": 3
   },
   "file_extension": ".py",
   "mimetype": "text/x-python",
   "name": "python",
   "nbconvert_exporter": "python",
   "pygments_lexer": "ipython3",
   "version": "3.13.6"
  }
 },
 "nbformat": 4,
 "nbformat_minor": 5
}
